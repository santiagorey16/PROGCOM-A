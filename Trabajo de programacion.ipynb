{
  "nbformat": 4,
  "nbformat_minor": 0,
  "metadata": {
    "colab": {
      "provenance": []
    },
    "kernelspec": {
      "name": "python3",
      "display_name": "Python 3"
    },
    "language_info": {
      "name": "python"
    }
  },
  "cells": [
    {
      "cell_type": "markdown",
      "source": [
        "#Prueba diagnortica\n"
      ],
      "metadata": {
        "id": "OoIqXzAWK6yO"
      }
    },
    {
      "cell_type": "markdown",
      "source": [
        "##Estructuras de selección\n",
        "Aqui se desarrollaran ejecercicios sobre estructuras de seleccion\n",
        "\n",
        "por pseint\n",
        "\n",
        "\n",
        "```\n",
        "si (condicion) entonces:\n",
        "  pasan cosas divertidas\n",
        "sino:\n",
        "  llorelo\n",
        "```\n",
        "Por algoritmo\n",
        "1. Solicito la variable y almeceno en a\n",
        "2. Comparo esa variable con otra llamada b\n"
      ],
      "metadata": {
        "id": "wIlkoRkXLcWF"
      }
    },
    {
      "cell_type": "code",
      "execution_count": 5,
      "metadata": {
        "colab": {
          "base_uri": "https://localhost:8080/"
        },
        "id": "fHPwG4FNJB7e",
        "outputId": "94724aa3-ddfc-4e75-cef1-90306201bf70"
      },
      "outputs": [
        {
          "name": "stdout",
          "output_type": "stream",
          "text": [
            "ingresa tu nombre SANTIAGO\n"
          ]
        }
      ],
      "source": [
        "n1 = input(\"ingresa tu nombre \")"
      ]
    }
  ]
}