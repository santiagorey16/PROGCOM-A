{
  "nbformat": 4,
  "nbformat_minor": 0,
  "metadata": {
    "colab": {
      "provenance": [],
      "authorship_tag": "ABX9TyMAV0kAxgb0nQ7RN7qTDkr9",
      "include_colab_link": true
    },
    "kernelspec": {
      "name": "python3",
      "display_name": "Python 3"
    },
    "language_info": {
      "name": "python"
    }
  },
  "cells": [
    {
      "cell_type": "markdown",
      "metadata": {
        "id": "view-in-github",
        "colab_type": "text"
      },
      "source": [
        "<a href=\"https://colab.research.google.com/github/santiagorey16/PROGCOM-A/blob/main/Documento_de_conferencia_de_Ulibro_Etica_de_la_inteligencia_artificial.ipynb\" target=\"_parent\"><img src=\"https://colab.research.google.com/assets/colab-badge.svg\" alt=\"Open In Colab\"/></a>"
      ]
    },
    {
      "cell_type": "markdown",
      "source": [
        "#Por Santiago Rey Amaya y Anderson Coronel"
      ],
      "metadata": {
        "id": "FVQ3_7bDOlYp"
      }
    },
    {
      "cell_type": "markdown",
      "source": [
        "#La necesidad de una ética en la Inteligencia Artificial\n",
        "Con el avance tecnologico la Inteligencia artificial(IA), a empezado a superar las pruebas humanas, como por ejemplo (el Test de Turing), lo que esto plantea muchos dilemas eticos, como la responsabilidad, transparencia y el impacto en la sociedad. Necesitando urgentemente definir principios que orienten su desarrollo y uso, evitando riesgos como discriminación, pérdida de empleos, manipulación de datos o daños sociales.\n",
        "\n",
        "#Principios y marcos internacionales para una IA responsable\n",
        "Tambien debido al uso constante de las Inteleiegencias artifiaciles, se han planteado los pricipios que se deben tener con esta(como las Leyes de Asimov, la Declaración de Montreal y el Proyecto SHERPA de la UE), buscando un desarrollo confiable hacia la etica de la IA articulandose un entorno de principios como: **no dañar, dignidad, justicia y rendición de cuentas**, proparcionando con esto un parecido a los derechos humanos, la equidad y la sostenibilidad\n",
        "\n",
        "#El papel de las bibliotecas y la ciencia de la información\n",
        "Las bibliotecas no solo gestionan información, sino que se convierten en garantes de confianza frente a la IA. Su rol incluye:\n",
        "\n",
        "Formar ciudadanos digitales críticos y responsables.\n",
        "\n",
        "Asegurar la privacidad, el acceso equitativo y la alfabetización en datos y algoritmos.\n",
        "\n",
        "Promover usos responsables de la IA (chatbots, sistemas de recomendación, RAG, servicios potenciados).\n",
        "\n",
        "Ser mediadoras entre usuarios, comunidades y marcos regulatorios, fomentando transparencia y confianza en la IA.\n"
      ],
      "metadata": {
        "id": "3SUbRdzgGcyw"
      }
    },
    {
      "cell_type": "markdown",
      "source": [
        "##El dilema del Test de Turing y la superación por GPT-4\n",
        "Me parecio interesante esto, ya que, evidenciar que una IA es capaz de engañar a un humano a traves de una conversación, me cuestina sobre que es realmente el pensar y como esto se puede modular a la teconoligia que imita al ser humano?\n",
        "\n",
        "##El dilema de la responsabilidad moral en las máquinas\n",
        "Las maquinas no entienden de mentiras ni de valores; la ética debe programarse. Surge el reto de diferenciar entre responsabilidad causal (lo que hace la máquina) y responsabilidad moral (lo que implica éticamente).  \n",
        "\n",
        "##Los riesgos identificados por el Proyecto SHERPA\n",
        "Me causa sorpresa la publicación de la unión Europea que habla de más de 30 riesgos asociados a la IA, Entre estos estan: La perdida de empleos, sesgos, concentración del poder economico, uso miltar y debilitamiento sobre la democracia.\n",
        "\n",
        "##El rol de las bibliotecas como garantes de confianza en la IA\n",
        "Me parecio curioso de que el orador habla sobre como se puede aumentar la confianza de las IAs mediante, medidores eticos para garantizar su transparencia, ofrecer opción humana alternativa, y promover la alfabetización digital crítica.\n",
        "\n",
        "##De la ciencia ficción a la realidad: de Asimov a la Declaración de Montreal\n",
        "Me parecio super chevere fue como un marco narrativo en 1942 (las leyes de Asimov) al dia de hoy son cosideradas como un tema de politica publica con niciativas como la Declaración de Montreal y las recomendaciones de la UNESCO sobre ética de la IA."
      ],
      "metadata": {
        "id": "bF64jnlHLRG0"
      }
    }
  ]
}