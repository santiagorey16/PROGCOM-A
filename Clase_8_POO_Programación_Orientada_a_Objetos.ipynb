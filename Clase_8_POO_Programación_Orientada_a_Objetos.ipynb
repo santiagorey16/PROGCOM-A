{
  "nbformat": 4,
  "nbformat_minor": 0,
  "metadata": {
    "colab": {
      "provenance": [],
      "authorship_tag": "ABX9TyPXxE3VSxS4ZPgVZO3cv2CS",
      "include_colab_link": true
    },
    "kernelspec": {
      "name": "python3",
      "display_name": "Python 3"
    },
    "language_info": {
      "name": "python"
    }
  },
  "cells": [
    {
      "cell_type": "markdown",
      "metadata": {
        "id": "view-in-github",
        "colab_type": "text"
      },
      "source": [
        "<a href=\"https://colab.research.google.com/github/santiagorey16/PROGCOM-A/blob/main/Clase_8_POO_Programaci%C3%B3n_Orientada_a_Objetos.ipynb\" target=\"_parent\"><img src=\"https://colab.research.google.com/assets/colab-badge.svg\" alt=\"Open In Colab\"/></a>"
      ]
    },
    {
      "cell_type": "code",
      "source": [
        "#Floristeria\n",
        "#1. Cojunto de flores, se elige aleatoriamente una cantidad\n",
        "import random\n",
        "\n",
        "flores=[\"tulipán\",\"lirio\",\"rosa\",\"dahlia\",\"margarita\",\"girasol\",\"clavel\",\"geranio\"]\n",
        "seleccion=random.sample(flores,3)\n",
        "seleccion"
      ],
      "metadata": {
        "colab": {
          "base_uri": "https://localhost:8080/"
        },
        "id": "60DyhuN5Nc6o",
        "outputId": "9b3505f4-6404-4d9f-fe14-157f803cc749"
      },
      "execution_count": 72,
      "outputs": [
        {
          "output_type": "execute_result",
          "data": {
            "text/plain": [
              "['dahlia', 'clavel', 'rosa']"
            ]
          },
          "metadata": {},
          "execution_count": 72
        }
      ]
    },
    {
      "cell_type": "code",
      "source": [
        "def inventario():\n",
        "  flores=[\"tulipánes\",\"lirios\",\"rosas\",\"dahlias\",\"margaritas\",\"girasoles\",\"claveles\",\"geranios\"]\n",
        "  seleccion=random.sample(flores,3)\n",
        "\n",
        "  inventario={\n",
        "      flor:{\n",
        "          \"precio\":random.randint(2000,6000),\n",
        "          \"cantidad\":random.randint(10,50),\n",
        "          \"vendidas\":0\n",
        "      } for flor in seleccion\n",
        "      }\n",
        "  return inventario"
      ],
      "metadata": {
        "id": "CguW8T-YOSjO"
      },
      "execution_count": 99,
      "outputs": []
    },
    {
      "cell_type": "code",
      "source": [
        "flor=inventario()\n",
        "flor.items()"
      ],
      "metadata": {
        "colab": {
          "base_uri": "https://localhost:8080/"
        },
        "id": "f6XdaOZgR_GM",
        "outputId": "d093d8d1-d12f-4595-edbc-f0b098fc0fc8"
      },
      "execution_count": 100,
      "outputs": [
        {
          "output_type": "execute_result",
          "data": {
            "text/plain": [
              "dict_items([('tulipánes', {'precio': 4849, 'cantidad': 50, 'vendidas': 0}), ('lirios', {'precio': 3380, 'cantidad': 14, 'vendidas': 0}), ('geranios', {'precio': 2755, 'cantidad': 35, 'vendidas': 0})])"
            ]
          },
          "metadata": {},
          "execution_count": 100
        }
      ]
    },
    {
      "cell_type": "code",
      "source": [
        "def menu(inventario):\n",
        "  print(\"\\n---Menú de flores disponibles Floresteria Carlitos---\")\n",
        "  for flor,datos in inventario.items():\n",
        "    print(f\"{flor}: ${datos[\"precio\"]} cant: {datos[\"cantidad\"]} disponibles\")\n",
        "    print(\"--------------------------------------------------------\")"
      ],
      "metadata": {
        "id": "GXb11sBPQ36s"
      },
      "execution_count": 101,
      "outputs": []
    },
    {
      "cell_type": "code",
      "source": [
        "def ventas(inventario,flo,total_ganado):\n",
        "  for flor, cantidad in flo.items():\n",
        "    if flor not in inventario:\n",
        "      print(f\"{flor} no se encuentra a la venta 🤷‍♂️\")\n",
        "      return total_ganado\n",
        "    datos=inventario[flor]\n",
        "    if cantidad>datos[\"cantidad\"]:\n",
        "      print(f\"Lo siento. No tenemos la cantidad solicitada\")\n",
        "      return total_ganado\n",
        "\n",
        "    #Realizando la venta\n",
        "    datos[\"cantidad\"]-=cantidad\n",
        "    datos[\"vendidas\"]+=cantidad\n",
        "    venta = datos[\"precio\"] * cantidad\n",
        "    total_ganado+=venta\n",
        "    print(f\"vendidas: {cantidad} de {flor} por un total de ${venta}\")\n",
        "\n",
        "    #Si se acaba, eliminamos la flor\n",
        "    if datos[\"cantidad\"]==0:\n",
        "      print(f\"{flor} ha sido eliminada del inventario\")\n",
        "      del inventario[flor]\n",
        "  return total_ganado"
      ],
      "metadata": {
        "id": "yjT4ur-oUW67"
      },
      "execution_count": 102,
      "outputs": []
    },
    {
      "cell_type": "code",
      "source": [
        "def cerrar_tienda(inventario_inicial,inventario_final,total_ganado):\n",
        "  print(\"\\n---Tienda Cerrada---\")\n",
        "  #Combinar el inventario inicial con el final para saber cuantas flores se vendieron\n",
        "  flores_vendidas={}\n",
        "  for flor,datos in inventario_inicial.items():\n",
        "    cantidad_final = inventario_final.get(flor,{\"cantidad\":0})[cantidad]\n",
        "    vandidas = datos[\"cantidad\"] - cantidad_final\n",
        "    flores_vendidas[flor] = vendidas\n",
        "\n",
        "    #Determinar cuales fueron las más vendidas\n",
        "    mas_vendidas=max(flores_vendidas,key=flores_vendidas.get)\n",
        "    menos_vendidas=min(flores_vendidas,key=flores_vendidas.get)\n",
        "\n",
        "    print(f\"La flor más vendida es {mas_vendidas}:{flores_vendidas[mas_vendidas]} unidad(es)\")\n",
        "    print(f\"La flor más vendida es {menos_vendidas}:{flores_vendidas[menos_vendidas]} unidad(es)\")"
      ],
      "metadata": {
        "id": "MCiOyGE5YcYQ"
      },
      "execution_count": 103,
      "outputs": []
    },
    {
      "cell_type": "code",
      "source": [
        "flor"
      ],
      "metadata": {
        "colab": {
          "base_uri": "https://localhost:8080/"
        },
        "id": "z138az5Ld77M",
        "outputId": "629074d8-a2f3-4439-d116-6ad25868ed62"
      },
      "execution_count": 104,
      "outputs": [
        {
          "output_type": "execute_result",
          "data": {
            "text/plain": [
              "{'tulipánes': {'precio': 4849, 'cantidad': 50, 'vendidas': 0},\n",
              " 'lirios': {'precio': 3380, 'cantidad': 14, 'vendidas': 0},\n",
              " 'geranios': {'precio': 2755, 'cantidad': 35, 'vendidas': 0}}"
            ]
          },
          "metadata": {},
          "execution_count": 104
        }
      ]
    },
    {
      "cell_type": "code",
      "source": [
        "menu(inventario())"
      ],
      "metadata": {
        "colab": {
          "base_uri": "https://localhost:8080/"
        },
        "id": "lW16ztlBeBq3",
        "outputId": "10001aa2-a519-4260-c4a2-40fd346824ac"
      },
      "execution_count": 105,
      "outputs": [
        {
          "output_type": "stream",
          "name": "stdout",
          "text": [
            "\n",
            "---Menú de flores disponibles Floresteria Carlitos---\n",
            "dahlias: $5725 cant: 35 disponibles\n",
            "--------------------------------------------------------\n",
            "lirios: $5583 cant: 19 disponibles\n",
            "--------------------------------------------------------\n",
            "girasoles: $3360 cant: 18 disponibles\n",
            "--------------------------------------------------------\n"
          ]
        }
      ]
    },
    {
      "cell_type": "code",
      "source": [
        "print(\"Bienvenido a la Floristeria carlitos\")\n",
        "pregunta = input(\"Deseas ver el menu? \")\n",
        "if pregunta == \"si\" or \"Si\":\n",
        "  menu(flor)\n",
        "  print(\"\")\n",
        "else:\n",
        "  print(\"Muchas gracias por tu visita\")\n",
        "flo = {}\n",
        "while True:\n",
        "  flores_deseadas=int(input(\"De cuantos tipos de flores quieres? \"))\n",
        "  if flores_deseadas > 3:\n",
        "    print(\"Solo manejamos hasta 3 tipos de flores\")\n",
        "    continue\n",
        "  for g in range(1,flores_deseadas+1):\n",
        "    eleccion = input(f\"cual es el {g} tipo de flor que deseas? \")\n",
        "    cuantas = int(input(f\"cuanta/os {eleccion} deseas? \"))\n",
        "    flo.update({eleccion: cuantas})\n",
        "  print(\"\")\n",
        "  salir=input(\"Deseas mas flores? \")\n",
        "  if salir == \"no\":\n",
        "    print(\"Hasta luego\")\n",
        "    break\n",
        "print(\"Entonces tenemos:\")\n",
        "ventas(flor,flo,total_ganado)"
      ],
      "metadata": {
        "id": "zUkc48GIflUf"
      },
      "execution_count": null,
      "outputs": []
    },
    {
      "cell_type": "code",
      "source": [
        "flo"
      ],
      "metadata": {
        "colab": {
          "base_uri": "https://localhost:8080/"
        },
        "id": "B2a94wwTLD8y",
        "outputId": "c0e43a9a-2e78-410e-b3e2-e457a0d8dd74"
      },
      "execution_count": 123,
      "outputs": [
        {
          "output_type": "execute_result",
          "data": {
            "text/plain": [
              "{'lirios': 2, 'tulipánes': 20}"
            ]
          },
          "metadata": {},
          "execution_count": 123
        }
      ]
    },
    {
      "cell_type": "code",
      "source": [
        "cerrar_tienda()"
      ],
      "metadata": {
        "colab": {
          "base_uri": "https://localhost:8080/",
          "height": 141
        },
        "id": "kI3fS-vSL2jG",
        "outputId": "bda9a7f7-ae34-4814-9056-38fdf50b41ba"
      },
      "execution_count": 124,
      "outputs": [
        {
          "output_type": "error",
          "ename": "TypeError",
          "evalue": "cerrar_tienda() missing 3 required positional arguments: 'inventario_inicial', 'inventario_final', and 'total_ganado'",
          "traceback": [
            "\u001b[0;31m---------------------------------------------------------------------------\u001b[0m",
            "\u001b[0;31mTypeError\u001b[0m                                 Traceback (most recent call last)",
            "\u001b[0;32m/tmp/ipython-input-2169302219.py\u001b[0m in \u001b[0;36m<cell line: 0>\u001b[0;34m()\u001b[0m\n\u001b[0;32m----> 1\u001b[0;31m \u001b[0mcerrar_tienda\u001b[0m\u001b[0;34m(\u001b[0m\u001b[0;34m)\u001b[0m\u001b[0;34m\u001b[0m\u001b[0;34m\u001b[0m\u001b[0m\n\u001b[0m",
            "\u001b[0;31mTypeError\u001b[0m: cerrar_tienda() missing 3 required positional arguments: 'inventario_inicial', 'inventario_final', and 'total_ganado'"
          ]
        }
      ]
    },
    {
      "cell_type": "code",
      "source": [
        "from pickle import STOP\n",
        "import random\n",
        "\n",
        "def inventario():\n",
        "  flores=[\"tulipánes\",\"lirios\",\"rosas\",\"dahlias\",\"margaritas\",\"girasoles\",\"claveles\",\"geranios\"]\n",
        "  seleccion=random.sample(flores,3)\n",
        "\n",
        "  inventario={\n",
        "      flor:{\n",
        "          \"precio\":random.randint(2000,6000),\n",
        "          \"cantidad\":random.randint(10,50),\n",
        "          \"vendidas\":0\n",
        "      } for flor in seleccion\n",
        "      }\n",
        "  return inventario\n",
        "\n",
        "flor=inventario()\n",
        "flor.items()\n",
        "\n",
        "def menu(inventario):\n",
        "  print(\"\\n---Menú de flores disponibles Floresteria Carlitos---\")\n",
        "  for flor,datos in inventario.items():\n",
        "    print(f\"{flor}: ${datos['precio']} cant: {datos['cantidad']} disponibles\")\n",
        "    print(\"--------------------------------------------------------\")\n",
        "\n",
        "def ventas(inventario, flo, total_ganado):\n",
        "  for flor, cantidad in flo.items():   # 👈 recorre el diccionario dentro\n",
        "    if flor not in inventario:\n",
        "      print(f\"{flor} no se encuentra a la venta 🤷‍♂️\")\n",
        "      continue\n",
        "    datos=inventario[flor]\n",
        "    if cantidad>datos[\"cantidad\"]:\n",
        "      print(f\"Lo siento. No tenemos la cantidad solicitada de {flor}\")\n",
        "      continue\n",
        "\n",
        "    #Realizando la venta\n",
        "    datos[\"cantidad\"]-=cantidad\n",
        "    datos[\"vendidas\"]+=cantidad\n",
        "    venta = datos[\"precio\"] * cantidad\n",
        "    total_ganado+=venta\n",
        "    print(f\"vendidas: {cantidad} de {flor} por un total de ${venta}\")\n",
        "\n",
        "    #Si se acaba, eliminamos la flor\n",
        "    if datos[\"cantidad\"]==0:\n",
        "      print(f\"{flor} ha sido eliminada del inventario\")\n",
        "      del inventario[flor]\n",
        "  return total_ganado\n",
        "\n",
        "def cerrar_tienda(inventario_inicial,inventario_final,total_ganado):\n",
        "  print(\"\\n---Tienda Cerrada---\")\n",
        "  #Combinar el inventario inicial con el final para saber cuantas flores se vendieron\n",
        "  flores_vendidas = {flor: datos[\"vendidas\"] for flor, datos in inventario_inicial.items()}\n",
        "\n",
        "  #Determinar cuales fueron las más vendidas\n",
        "  mas_vendidas=max(flores_vendidas,key=flores_vendidas.get)\n",
        "  menos_vendidas=min(flores_vendidas,key=flores_vendidas.get)\n",
        "\n",
        "  print(f\"La flor más vendida es {mas_vendidas}:{flores_vendidas[mas_vendidas]} unidad(es)\")\n",
        "  print(f\"La flor menos vendida es {menos_vendidas}:{flores_vendidas[menos_vendidas]} unidad(es)\")\n",
        "\n",
        "#-----Inicio del programa-----\n",
        "\n",
        "print(\"Bienvenido a la Floristeria carlitos\")\n",
        "pregunta = input(\"Deseas ver el menu? \")\n",
        "if pregunta == \"si\" or pregunta == \"Si\":\n",
        "  menu(flor)\n",
        "  print(\"\")\n",
        "  flo = {}\n",
        "  total_ganado=0\n",
        "  while True:\n",
        "    flores_deseadas=int(input(\"De cuantos tipos de flores quieres? \"))\n",
        "    if flores_deseadas > 3:\n",
        "      print(\"Solo manejamos hasta 3 tipos de flores\")\n",
        "      continue\n",
        "    for g in range(1,flores_deseadas+1):\n",
        "      eleccion = input(f\"cual es el {g} tipo de flor que deseas? \")\n",
        "      cuantas = int(input(f\"cuanta/os {eleccion} deseas? \"))\n",
        "      flo.update({eleccion: cuantas})\n",
        "    print(\"\")\n",
        "    salir=input(\"Deseas mas flores? \")\n",
        "    if salir == \"no\":\n",
        "      print(\"Hasta luego\")\n",
        "      break\n",
        "  print(\"Entonces tenemos:\")\n",
        "  ventas(flor,flo,total_ganado)\n",
        "  cerrar_tienda(flor,flor,total_ganado)\n",
        "  print(f\" Total ganado en el día: ${total_ganado}\")\n",
        "else:\n",
        "  print(\"Ok,Muchas gracias por tu visita\")"
      ],
      "metadata": {
        "colab": {
          "base_uri": "https://localhost:8080/"
        },
        "id": "zVOkzt-nUStu",
        "outputId": "6c3cf22c-55ad-4e34-e77d-2cf65d46ba0a"
      },
      "execution_count": 139,
      "outputs": [
        {
          "output_type": "stream",
          "name": "stdout",
          "text": [
            "Bienvenido a la Floristeria carlitos\n",
            "Deseas ver el menu? no\n",
            "Muchas gracias por tu visita\n"
          ]
        }
      ]
    }
  ]
}