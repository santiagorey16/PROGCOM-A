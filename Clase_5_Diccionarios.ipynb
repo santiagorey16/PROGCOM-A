{
  "nbformat": 4,
  "nbformat_minor": 0,
  "metadata": {
    "colab": {
      "provenance": [],
      "authorship_tag": "ABX9TyO56oXhj7fwzUkl2dbUSIpq",
      "include_colab_link": true
    },
    "kernelspec": {
      "name": "python3",
      "display_name": "Python 3"
    },
    "language_info": {
      "name": "python"
    }
  },
  "cells": [
    {
      "cell_type": "markdown",
      "metadata": {
        "id": "view-in-github",
        "colab_type": "text"
      },
      "source": [
        "<a href=\"https://colab.research.google.com/github/santiagorey16/PROGCOM-A/blob/main/Clase_5_Diccionarios.ipynb\" target=\"_parent\"><img src=\"https://colab.research.google.com/assets/colab-badge.svg\" alt=\"Open In Colab\"/></a>"
      ]
    },
    {
      "cell_type": "markdown",
      "source": [
        "##Diccionerios\n",
        "Un tipo de dato que tiene como sintaxis:\n",
        "\n",
        "\n",
        "```\n",
        "Nombre_dict={}\n",
        "dict2={\"clave\":valor}\n",
        "```\n",
        "* La \"clave o llave\":siempre es alfanumérica\n",
        "* Valor: Puede ser cualquier tipo de dato\n",
        "\n",
        "\n",
        "las siguientes características\n",
        "1. No tiene indexación"
      ],
      "metadata": {
        "id": "mOtf7ba5eB3h"
      }
    },
    {
      "cell_type": "code",
      "source": [
        "lista=list(range(1,11))\n",
        "lista[0]"
      ],
      "metadata": {
        "id": "MZrZelypbHNL",
        "colab": {
          "base_uri": "https://localhost:8080/"
        },
        "outputId": "6abffb38-0b87-4a29-cb0e-09bfb24c1ed8"
      },
      "execution_count": null,
      "outputs": [
        {
          "output_type": "execute_result",
          "data": {
            "text/plain": [
              "1"
            ]
          },
          "metadata": {},
          "execution_count": 15
        }
      ]
    },
    {
      "cell_type": "code",
      "source": [
        "liga_justicia={\"superheroes\":[\"Supermán\", \"Batman\",\"Wonder Woman\"],\n",
        "               \"Villanos\":[\"Lex Luthor\", \"Joker\",\"Cheetah\"],\n",
        "               \"Identidad\":[\"Clark Kent\",\"Bruce Wayne\", \"Diana Prince\"]}"
      ],
      "metadata": {
        "id": "dZM3XiFRhNeO"
      },
      "execution_count": 69,
      "outputs": []
    },
    {
      "cell_type": "code",
      "source": [
        "type(liga_justicia)"
      ],
      "metadata": {
        "colab": {
          "base_uri": "https://localhost:8080/"
        },
        "id": "UsZj_F8Bh7XO",
        "outputId": "c192188b-5aea-4996-e621-6a24bff44e6a"
      },
      "execution_count": null,
      "outputs": [
        {
          "output_type": "execute_result",
          "data": {
            "text/plain": [
              "dict"
            ]
          },
          "metadata": {},
          "execution_count": 19
        }
      ]
    },
    {
      "cell_type": "code",
      "source": [
        "liga_justicia[\"Identidad\"][2]"
      ],
      "metadata": {
        "id": "Joq3BcfKiLHd",
        "outputId": "352010a6-c75a-42ce-9270-fb4f38633c80",
        "colab": {
          "base_uri": "https://localhost:8080/",
          "height": 35
        }
      },
      "execution_count": 29,
      "outputs": [
        {
          "output_type": "execute_result",
          "data": {
            "text/plain": [
              "'Diana Prince'"
            ],
            "application/vnd.google.colaboratory.intrinsic+json": {
              "type": "string"
            }
          },
          "metadata": {},
          "execution_count": 29
        }
      ]
    },
    {
      "cell_type": "markdown",
      "source": [
        "2. puede almacenar cualquier tipo"
      ],
      "metadata": {
        "id": "MzQQ7yEKknk0"
      }
    },
    {
      "cell_type": "code",
      "source": [
        "print(\"la identidad secreta de batman es\", liga_justicia[\"Identidad\"][1])"
      ],
      "metadata": {
        "colab": {
          "base_uri": "https://localhost:8080/"
        },
        "id": "eHM3uo0ejQpE",
        "outputId": "4aca9089-938e-437c-af79-e2c41dd7634a"
      },
      "execution_count": 41,
      "outputs": [
        {
          "output_type": "stream",
          "name": "stdout",
          "text": [
            "la identidad secreta de batman es Bruce Wayne\n"
          ]
        }
      ]
    },
    {
      "cell_type": "markdown",
      "source": [
        ".keys():Metodo de los diccionarios que permite adquirir todas las llaves o claves del diccionario."
      ],
      "metadata": {
        "id": "QGzSp-R4mfSr"
      }
    },
    {
      "cell_type": "code",
      "source": [
        "liga_justicia.keys()"
      ],
      "metadata": {
        "colab": {
          "base_uri": "https://localhost:8080/"
        },
        "id": "EaAQTKmxmNWC",
        "outputId": "a82c1cf8-c643-4392-a455-8a50624d0472"
      },
      "execution_count": 42,
      "outputs": [
        {
          "output_type": "execute_result",
          "data": {
            "text/plain": [
              "dict_keys(['superhéroes', 'Villanos', 'Identidad'])"
            ]
          },
          "metadata": {},
          "execution_count": 42
        }
      ]
    },
    {
      "cell_type": "markdown",
      "source": [
        ".get():Busca en el diccionario las claves que tiene y imprime el que se escribio, si no esta la clave en el diccionario se imprime un none o nada"
      ],
      "metadata": {
        "id": "rkUFSCnqm7uR"
      }
    },
    {
      "cell_type": "code",
      "source": [
        "liga_justicia.get(\"Villanos\")"
      ],
      "metadata": {
        "colab": {
          "base_uri": "https://localhost:8080/"
        },
        "id": "fb8luXRVmyB6",
        "outputId": "e94e78f9-9871-464b-f224-a840d5dfc278"
      },
      "execution_count": 76,
      "outputs": [
        {
          "output_type": "execute_result",
          "data": {
            "text/plain": [
              "['Lex Luthor', 'Joker', 'Cheetah']"
            ]
          },
          "metadata": {},
          "execution_count": 76
        }
      ]
    },
    {
      "cell_type": "markdown",
      "source": [
        ".items():Crea tuplas con las claves y los valores"
      ],
      "metadata": {
        "id": "2DpVlIMcqHHP"
      }
    },
    {
      "cell_type": "code",
      "source": [
        "liga_justicia.items()"
      ],
      "metadata": {
        "colab": {
          "base_uri": "https://localhost:8080/"
        },
        "id": "HrRM4eSlnmeZ",
        "outputId": "f970ebfb-a610-4f9e-b57a-860f878da617"
      },
      "execution_count": 75,
      "outputs": [
        {
          "output_type": "execute_result",
          "data": {
            "text/plain": [
              "dict_items([('superheroes', ['Supermán', 'Batman', 'Wonder Woman']), ('Villanos', ['Lex Luthor', 'Joker', 'Cheetah']), ('Identidad', ['Clark Kent', 'Bruce Wayne', 'Diana Prince'])])"
            ]
          },
          "metadata": {},
          "execution_count": 75
        }
      ]
    },
    {
      "cell_type": "markdown",
      "source": [
        ".vaules():Crea tuplas de los valores sin sus claves"
      ],
      "metadata": {
        "id": "Rpf-oALTrLoW"
      }
    },
    {
      "cell_type": "code",
      "source": [
        "liga_justicia.values()"
      ],
      "metadata": {
        "colab": {
          "base_uri": "https://localhost:8080/"
        },
        "id": "_QeV0V6LrLJO",
        "outputId": "d09f0c41-06ca-406d-f478-de3373f66305"
      },
      "execution_count": 77,
      "outputs": [
        {
          "output_type": "execute_result",
          "data": {
            "text/plain": [
              "dict_values([['Supermán', 'Batman', 'Wonder Woman'], ['Lex Luthor', 'Joker', 'Cheetah'], ['Clark Kent', 'Bruce Wayne', 'Diana Prince']])"
            ]
          },
          "metadata": {},
          "execution_count": 77
        }
      ]
    }
  ]
}