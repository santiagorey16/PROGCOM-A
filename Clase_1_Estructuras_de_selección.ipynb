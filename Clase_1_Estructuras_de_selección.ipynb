{
  "nbformat": 4,
  "nbformat_minor": 0,
  "metadata": {
    "colab": {
      "provenance": [],
      "authorship_tag": "ABX9TyPdOsfSDnziz3MGDgqKGmQx",
      "include_colab_link": true
    },
    "kernelspec": {
      "name": "python3",
      "display_name": "Python 3"
    },
    "language_info": {
      "name": "python"
    }
  },
  "cells": [
    {
      "cell_type": "markdown",
      "metadata": {
        "id": "view-in-github",
        "colab_type": "text"
      },
      "source": [
        "<a href=\"https://colab.research.google.com/github/santiagorey16/PROGCOM-A/blob/main/Clase_1_Estructuras_de_selecci%C3%B3n.ipynb\" target=\"_parent\"><img src=\"https://colab.research.google.com/assets/colab-badge.svg\" alt=\"Open In Colab\"/></a>"
      ]
    },
    {
      "cell_type": "markdown",
      "source": [
        "#Estructura de selección\n",
        "Se emplea cuando se debe evaluar una condicion y esta de un valor de verdad (V) o (F)."
      ],
      "metadata": {
        "id": "b9S24PZKsCug"
      }
    },
    {
      "cell_type": "markdown",
      "source": [
        "## Estructura if-else\n",
        "\n",
        "```\n",
        "if (condición):\n",
        "  entro aquí, si la condión es V\n",
        "else:\n",
        "  entro aquí, si la condición es F.\n",
        "  \n",
        "```\n",
        "\n"
      ],
      "metadata": {
        "id": "LwdpWYUksg32"
      }
    },
    {
      "cell_type": "code",
      "execution_count": 2,
      "metadata": {
        "colab": {
          "base_uri": "https://localhost:8080/"
        },
        "id": "ejBztKk0qVP_",
        "outputId": "05b0cef1-53d1-4d54-a703-8e9373a73f70"
      },
      "outputs": [
        {
          "output_type": "stream",
          "name": "stdout",
          "text": [
            "ingrese un número -9\n",
            "-9 NO es un numero positivo\n"
          ]
        }
      ],
      "source": [
        "#Escribe un programa que reciba un número e indique si es positivo\n",
        "n =int(input(\"ingrese un número \"))\n",
        "if n>=0:\n",
        "  print(f\"{n} es un numero positivo\")\n",
        "else:\n",
        "  print(f\"{n} NO es un numero positivo\")"
      ]
    },
    {
      "cell_type": "markdown",
      "source": [
        "##Selección multiple if-else-else\n",
        "\n",
        "\n",
        "```\n",
        "if (condición1):\n",
        "  si se cumple condicion , entro aquí\n",
        "elif (condición2):\n",
        "  si no se cumple condición1, pero se cumple condicón 2, entro aquí\n",
        "else:\n",
        "  si no se cumple ninguna de la anteriores\n",
        "```\n",
        "\n"
      ],
      "metadata": {
        "id": "jGfNnZvQy81A"
      }
    },
    {
      "cell_type": "code",
      "source": [
        "n = int(input(\"ingresa un numero \"))\n",
        "if n>0:\n",
        "  print(f\"{n} es un numero positivo\")\n",
        "elif n<0:\n",
        "  print(f\"{n} NO es un numero negativo\")\n",
        "else: print(f\"{n} es positivo\")"
      ],
      "metadata": {
        "colab": {
          "base_uri": "https://localhost:8080/"
        },
        "id": "6rsOYZbozv12",
        "outputId": "2f3f8607-46c8-4cca-953d-08e2c1d9f2b3"
      },
      "execution_count": 26,
      "outputs": [
        {
          "output_type": "stream",
          "name": "stdout",
          "text": [
            "ingresa un numero -4\n",
            "-4 NO es un numero negativo\n"
          ]
        }
      ]
    },
    {
      "cell_type": "markdown",
      "source": [
        "## Operador terniario\n",
        "Se usa cuendo hay una condición a evaluar simple y se desea resolver en una linea de código\n",
        "```\n",
        "(valor de verdad V) if (condición) else ( valor de verdad F)\n",
        "```\n",
        "\n"
      ],
      "metadata": {
        "id": "iDPIo5ob0om8"
      }
    },
    {
      "cell_type": "code",
      "source": [
        "print(f\"{n} es un numero positivo\") if n>=0 else print(f\"{n} NO es un numero positivo\")"
      ],
      "metadata": {
        "colab": {
          "base_uri": "https://localhost:8080/"
        },
        "id": "Cl14giMQ2JQL",
        "outputId": "feda4e12-ddbd-42e2-bd57-7453dac481bb"
      },
      "execution_count": 28,
      "outputs": [
        {
          "output_type": "stream",
          "name": "stdout",
          "text": [
            "-4 NO es un numero positivo\n"
          ]
        }
      ]
    },
    {
      "cell_type": "code",
      "source": [
        "a=f\"{n} es un número positivo\" if n>=0 else f\"{n} NO es un numero positivo\"\n",
        "print(a)"
      ],
      "metadata": {
        "colab": {
          "base_uri": "https://localhost:8080/"
        },
        "id": "FDk8x99_3xdl",
        "outputId": "c8ef3aa2-5682-470d-d24b-9efbdceacdd7"
      },
      "execution_count": 18,
      "outputs": [
        {
          "output_type": "stream",
          "name": "stdout",
          "text": [
            "-4 NO es un numero positivo\n"
          ]
        }
      ]
    },
    {
      "cell_type": "code",
      "source": [
        "#2\n",
        "edad = int(input(\"ingresa tu edad porfa \"))\n",
        "if edad >= 18:\n",
        "  print(\"Eres mayor de edad\")\n",
        "else:\n",
        "  print(\"eres menor de edad\")"
      ],
      "metadata": {
        "colab": {
          "base_uri": "https://localhost:8080/"
        },
        "id": "CNfsVi7b5mtz",
        "outputId": "d5be811f-3e50-4fff-f2ee-abf354cfed17"
      },
      "execution_count": 20,
      "outputs": [
        {
          "output_type": "stream",
          "name": "stdout",
          "text": [
            "ingresa tu edad porfa 3\n",
            "eres menor de edad\n"
          ]
        }
      ]
    },
    {
      "cell_type": "code",
      "source": [
        "edad = int(input(\"ingresa tu edad porfa \"))\n",
        "if edad >= 18:\n",
        "  print(\"Eres mayor de edad\"))\n",
        "elif edad >= 13 and edad <= 17:\n",
        "  print(\"Eres un adolencente\")\n",
        "else: print(\"Eres un niño\")"
      ],
      "metadata": {
        "id": "Wxz08JTw58B4"
      },
      "execution_count": null,
      "outputs": []
    },
    {
      "cell_type": "code",
      "source": [
        "print(\"Eres mayor de edad\") if edad>=18 else print(\"eres menor de edad\")"
      ],
      "metadata": {
        "colab": {
          "base_uri": "https://localhost:8080/"
        },
        "id": "G17u-zGm6zIY",
        "outputId": "6fb02c7a-3589-4c36-8c10-1bcd5f85553d"
      },
      "execution_count": 21,
      "outputs": [
        {
          "output_type": "stream",
          "name": "stdout",
          "text": [
            "eres menor de edad\n"
          ]
        }
      ]
    },
    {
      "cell_type": "code",
      "source": [
        "a = \"Eres mayor de edad\" if edad>=18 else \"eres menor de edad\"\n",
        "print(a)"
      ],
      "metadata": {
        "colab": {
          "base_uri": "https://localhost:8080/"
        },
        "id": "cufLnhSh8Fjr",
        "outputId": "839ce9fb-ecdc-445e-a288-3f9afc339eb2"
      },
      "execution_count": 29,
      "outputs": [
        {
          "output_type": "stream",
          "name": "stdout",
          "text": [
            "eres menor de edad\n"
          ]
        }
      ]
    },
    {
      "cell_type": "code",
      "source": [
        "#3\n",
        "n1 = float(input(\"ingresa el valor 1: \"))\n",
        "n2 = float(input(\"ingresa el valor 2: \"))\n",
        "if n1 > n2:\n",
        "  print(\"el mayor es \", n1)\n",
        "else:\n",
        "  print(\"el mayor es \", n2)"
      ],
      "metadata": {
        "colab": {
          "base_uri": "https://localhost:8080/"
        },
        "id": "EgRhX41E8hjC",
        "outputId": "2c9a4b0d-d807-4a93-ff8b-ade94ee96306"
      },
      "execution_count": 32,
      "outputs": [
        {
          "output_type": "stream",
          "name": "stdout",
          "text": [
            "ingresa el valor 1: 4\n",
            "ingresa el valor 2: 2\n",
            "el mayor es  4.0\n"
          ]
        }
      ]
    },
    {
      "cell_type": "code",
      "source": [
        "n1 = float(input(\"ingresa el valor 1: \"))\n",
        "n2 = float(input(\"ingresa el valor 2: \"))\n",
        "if n1 > n2:\n",
        "  print(f\"el mayor es {n1}\")\n",
        "elif n2 > n1:\n",
        "  print(f\"el mayor es {n2}\")\n",
        "else: print(\"son iguales\")"
      ],
      "metadata": {
        "colab": {
          "base_uri": "https://localhost:8080/"
        },
        "id": "ZpqJSg8E8qLC",
        "outputId": "515f6d03-5f31-47dc-dacf-b497267007dc"
      },
      "execution_count": 31,
      "outputs": [
        {
          "output_type": "stream",
          "name": "stdout",
          "text": [
            "ingresa el valor 1: 3\n",
            "ingresa el valor 2: 3\n",
            "son iguales\n"
          ]
        }
      ]
    },
    {
      "cell_type": "code",
      "source": [
        " print(\"el mayor es \", n1) if n1 > n2 else print(\"el mayor es \", n2)"
      ],
      "metadata": {
        "colab": {
          "base_uri": "https://localhost:8080/"
        },
        "id": "cSYcmUXf9QvJ",
        "outputId": "23cdcbe2-9354-4f1d-cccc-e1a31a7eb6f4"
      },
      "execution_count": 33,
      "outputs": [
        {
          "output_type": "stream",
          "name": "stdout",
          "text": [
            "el mayor es  4.0\n"
          ]
        }
      ]
    },
    {
      "cell_type": "code",
      "source": [
        "a= f\"el mayor es {n1}\" if n1 > n2 else f\"el mayor es {n2}\"\n",
        "print(a)"
      ],
      "metadata": {
        "colab": {
          "base_uri": "https://localhost:8080/"
        },
        "id": "FWubkCMi9f0o",
        "outputId": "128e6798-1e16-4a0b-bd17-5f3167573826"
      },
      "execution_count": 36,
      "outputs": [
        {
          "output_type": "stream",
          "name": "stdout",
          "text": [
            "el mayor es 4.0\n"
          ]
        }
      ]
    },
    {
      "cell_type": "code",
      "source": [
        "#4\n",
        "cali = float(input(\"ingresa tu calificacion \"))\n",
        "if cali < 60:\n",
        "  print(\"reprobaste\")\n",
        "else:\n",
        "  print(\"aprobaste\")"
      ],
      "metadata": {
        "colab": {
          "base_uri": "https://localhost:8080/"
        },
        "id": "Qx0sGUW99yQg",
        "outputId": "852bc6c2-4c4d-4022-d0a3-4a5e1331eaeb"
      },
      "execution_count": 42,
      "outputs": [
        {
          "output_type": "stream",
          "name": "stdout",
          "text": [
            "ingresa tu calificacion 80\n",
            "aprobaste\n"
          ]
        }
      ]
    },
    {
      "cell_type": "code",
      "source": [
        "cali = int(input(\"ingresa tu calificacion \"))\n",
        "if cali >= 80:\n",
        "  print(\"Aprovaste con una calificación superior\")\n",
        "elif cali >=60 and cali <= 70:\n",
        "  print(\"Aprovaste con una calificación media\")\n",
        "else: print(\"reprobaste\")"
      ],
      "metadata": {
        "colab": {
          "base_uri": "https://localhost:8080/"
        },
        "id": "ZeN7EiUo-Awu",
        "outputId": "70614103-5508-47f0-880b-34f1af19719e"
      },
      "execution_count": 41,
      "outputs": [
        {
          "output_type": "stream",
          "name": "stdout",
          "text": [
            "ingresa tu calificacion 80\n",
            "Aprovaste con una calificación superior\n"
          ]
        }
      ]
    },
    {
      "cell_type": "code",
      "source": [
        "print(\"reprobaste\") if cali < 60 else print(\"aprobaste\")"
      ],
      "metadata": {
        "colab": {
          "base_uri": "https://localhost:8080/"
        },
        "id": "ppjDb3um-1UV",
        "outputId": "cbd69825-8921-4eb5-fbe9-9ce8fd34f712"
      },
      "execution_count": 43,
      "outputs": [
        {
          "output_type": "stream",
          "name": "stdout",
          "text": [
            "aprobaste\n"
          ]
        }
      ]
    },
    {
      "cell_type": "code",
      "source": [
        "a=\"reprobaste\" if cali < 60 else \"aprobaste\"\n",
        "print(a)"
      ],
      "metadata": {
        "colab": {
          "base_uri": "https://localhost:8080/"
        },
        "id": "8-s_-MEK--U0",
        "outputId": "b36fc1b3-0a12-4b63-8696-0c1b55ff55a4"
      },
      "execution_count": 59,
      "outputs": [
        {
          "output_type": "stream",
          "name": "stdout",
          "text": [
            "aprobaste\n"
          ]
        }
      ]
    },
    {
      "cell_type": "code",
      "source": [
        "#5\n",
        "numero = float(input(\"ingresa un numero \"))\n",
        "if numero % 2 == 0:\n",
        "  print(\"es par\")\n",
        "else:\n",
        "  print(\"es impar\")"
      ],
      "metadata": {
        "colab": {
          "base_uri": "https://localhost:8080/"
        },
        "id": "-Rnm0tVO_NFc",
        "outputId": "9d61c3dc-f737-43ee-e1bd-151a5e421d41"
      },
      "execution_count": 64,
      "outputs": [
        {
          "output_type": "stream",
          "name": "stdout",
          "text": [
            "ingresa un numero 137643552834\n",
            "es par\n"
          ]
        }
      ]
    },
    {
      "cell_type": "code",
      "source": [
        "numero = float(input(\"ingresa un numero \"))\n",
        "if numero == 0:\n",
        "  print(\"es 0 y es par\")\n",
        "elif numero % 2 == 0:\n",
        "  print(\"y par\")\n",
        "else: print(\"es impar\")\n"
      ],
      "metadata": {
        "colab": {
          "base_uri": "https://localhost:8080/"
        },
        "id": "bxRH06gHAORC",
        "outputId": "c747c6ba-c982-46d0-99d5-9916a673f9af"
      },
      "execution_count": 75,
      "outputs": [
        {
          "output_type": "stream",
          "name": "stdout",
          "text": [
            "ingresa un numero 0\n",
            "es 0 y es par\n"
          ]
        }
      ]
    },
    {
      "cell_type": "code",
      "source": [
        "print(\"es par\") if numero % 2 == 0 else print(\"es impar\")"
      ],
      "metadata": {
        "colab": {
          "base_uri": "https://localhost:8080/"
        },
        "id": "pWa14OSzCUV2",
        "outputId": "bbc2e892-3b81-465e-c9b1-daeb68f5c3b8"
      },
      "execution_count": 77,
      "outputs": [
        {
          "output_type": "stream",
          "name": "stdout",
          "text": [
            "es par\n"
          ]
        }
      ]
    },
    {
      "cell_type": "code",
      "source": [
        "a=\"es par\" if numero % 2 == 0 else \"es impar\"\n",
        "print(a)"
      ],
      "metadata": {
        "colab": {
          "base_uri": "https://localhost:8080/"
        },
        "id": "R76ZywFDCbD2",
        "outputId": "bec88328-c6c9-42c9-d6d9-ff809fc357ad"
      },
      "execution_count": 81,
      "outputs": [
        {
          "output_type": "stream",
          "name": "stdout",
          "text": [
            "es par\n"
          ]
        }
      ]
    },
    {
      "cell_type": "code",
      "source": [
        "n1 = float(input(\"ingresa el primer numero \"))\n",
        "n2 = float(input(\"ingresa el segundo numero \"))\n",
        "n3 = float(input(\"ingresa el tercer numero \"))\n",
        "if n1 > n2 and n1 > n3:\n",
        "  print(\"el mayor es \", n1)\n",
        "else:\n",
        "  if n2 > n3:\n",
        "    print(\"el mayor es \", n2)\n",
        "  else:\n",
        "    print(\"el mayor es \", n3)"
      ],
      "metadata": {
        "colab": {
          "base_uri": "https://localhost:8080/"
        },
        "id": "zfHXkEvtDXDD",
        "outputId": "0bb01030-1d99-4539-a939-f395d8516136"
      },
      "execution_count": 82,
      "outputs": [
        {
          "output_type": "stream",
          "name": "stdout",
          "text": [
            "ingresa el primer numero 1\n",
            "ingresa el segundo numero 2\n",
            "ingresa el tercer numero 3\n",
            "el mayor es  3.0\n"
          ]
        }
      ]
    },
    {
      "cell_type": "code",
      "source": [
        "#6\n",
        "n1 = float(input(\"ingresa el primer numero \"))\n",
        "n2 = float(input(\"ingresa el segundo numero \"))\n",
        "n3 = float(input(\"ingresa el tercer numero \"))\n",
        "if n1 > n2 and n1 > n3:\n",
        "  print(\"el mayor es \", n1)\n",
        "elif n2 > n1 and n2 > n3:\n",
        "  print(\"el mayor es \", n2)\n",
        "else:\n",
        "  print(\"el mayor es \", n3)"
      ],
      "metadata": {
        "id": "SacZUC48BzTw"
      },
      "execution_count": null,
      "outputs": []
    },
    {
      "cell_type": "code",
      "source": [
        "print(\"el mayor es \", n1) if n1 > n2 and n1 > n3 else"
      ],
      "metadata": {
        "id": "kOTFvWJBDytq"
      },
      "execution_count": null,
      "outputs": []
    }
  ]
}