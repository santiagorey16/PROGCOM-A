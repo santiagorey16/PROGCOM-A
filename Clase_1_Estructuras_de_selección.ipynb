{
  "nbformat": 4,
  "nbformat_minor": 0,
  "metadata": {
    "colab": {
      "provenance": [],
      "authorship_tag": "ABX9TyN7hwSszB2nkWhjIn1QgRv/",
      "include_colab_link": true
    },
    "kernelspec": {
      "name": "python3",
      "display_name": "Python 3"
    },
    "language_info": {
      "name": "python"
    }
  },
  "cells": [
    {
      "cell_type": "markdown",
      "metadata": {
        "id": "view-in-github",
        "colab_type": "text"
      },
      "source": [
        "<a href=\"https://colab.research.google.com/github/santiagorey16/PROGCOM-A/blob/main/Clase_1_Estructuras_de_selecci%C3%B3n.ipynb\" target=\"_parent\"><img src=\"https://colab.research.google.com/assets/colab-badge.svg\" alt=\"Open In Colab\"/></a>"
      ]
    },
    {
      "cell_type": "markdown",
      "source": [
        "#Estructura de selección\n",
        "Se emplea cuando se debe evaluar una condicion y esta de un valor de verdad (V) o (F)."
      ],
      "metadata": {
        "id": "b9S24PZKsCug"
      }
    },
    {
      "cell_type": "markdown",
      "source": [
        "## Estructura if-else\n",
        "\n",
        "```\n",
        "if (condición):\n",
        "  entro aquí, si la condión es V\n",
        "else:\n",
        "  entro aquí, si la condición es F.\n",
        "  \n",
        "```\n",
        "\n"
      ],
      "metadata": {
        "id": "LwdpWYUksg32"
      }
    },
    {
      "cell_type": "code",
      "execution_count": null,
      "metadata": {
        "colab": {
          "base_uri": "https://localhost:8080/"
        },
        "id": "ejBztKk0qVP_",
        "outputId": "05b0cef1-53d1-4d54-a703-8e9373a73f70"
      },
      "outputs": [
        {
          "output_type": "stream",
          "name": "stdout",
          "text": [
            "ingrese un número -9\n",
            "-9 NO es un numero positivo\n"
          ]
        }
      ],
      "source": [
        "#Escribe un programa que reciba un número e indique si es positivo\n",
        "n =int(input(\"ingrese un número \"))\n",
        "if n>=0:\n",
        "  print(f\"{n} es un numero positivo\")\n",
        "else:\n",
        "  print(f\"{n} NO es un numero positivo\")"
      ]
    },
    {
      "cell_type": "markdown",
      "source": [
        "##Selección multiple if-else-else\n",
        "\n",
        "\n",
        "```\n",
        "if (condición1):\n",
        "  si se cumple condicion , entro aquí\n",
        "elif (condición2):\n",
        "  si no se cumple condición1, pero se cumple condicón 2, entro aquí\n",
        "else:\n",
        "  si no se cumple ninguna de la anteriores\n",
        "```\n",
        "\n"
      ],
      "metadata": {
        "id": "jGfNnZvQy81A"
      }
    },
    {
      "cell_type": "code",
      "source": [
        "n = int(input(\"ingresa un numero \"))\n",
        "if n>0:\n",
        "  print(f\"{n} es un numero positivo\")\n",
        "elif n<0:\n",
        "  print(f\"{n} NO es un numero negativo\")\n",
        "else: print(f\"{n} es positivo\")"
      ],
      "metadata": {
        "colab": {
          "base_uri": "https://localhost:8080/"
        },
        "id": "6rsOYZbozv12",
        "outputId": "2f3f8607-46c8-4cca-953d-08e2c1d9f2b3"
      },
      "execution_count": null,
      "outputs": [
        {
          "output_type": "stream",
          "name": "stdout",
          "text": [
            "ingresa un numero -4\n",
            "-4 NO es un numero negativo\n"
          ]
        }
      ]
    },
    {
      "cell_type": "markdown",
      "source": [
        "## Operador terniario\n",
        "Se usa cuendo hay una condición a evaluar simple y se desea resolver en una linea de código\n",
        "```\n",
        "(valor de verdad V) if (condición) else ( valor de verdad F)\n",
        "```\n",
        "\n"
      ],
      "metadata": {
        "id": "iDPIo5ob0om8"
      }
    },
    {
      "cell_type": "code",
      "source": [
        "print(f\"{n} es un numero positivo\") if n>=0 else print(f\"{n} NO es un numero positivo\")"
      ],
      "metadata": {
        "colab": {
          "base_uri": "https://localhost:8080/"
        },
        "id": "Cl14giMQ2JQL",
        "outputId": "feda4e12-ddbd-42e2-bd57-7453dac481bb"
      },
      "execution_count": null,
      "outputs": [
        {
          "output_type": "stream",
          "name": "stdout",
          "text": [
            "-4 NO es un numero positivo\n"
          ]
        }
      ]
    },
    {
      "cell_type": "code",
      "source": [
        "a=f\"{n} es un número positivo\" if n>=0 else f\"{n} NO es un numero positivo\"\n",
        "print(a)"
      ],
      "metadata": {
        "colab": {
          "base_uri": "https://localhost:8080/"
        },
        "id": "FDk8x99_3xdl",
        "outputId": "c8ef3aa2-5682-470d-d24b-9efbdceacdd7"
      },
      "execution_count": null,
      "outputs": [
        {
          "output_type": "stream",
          "name": "stdout",
          "text": [
            "-4 NO es un numero positivo\n"
          ]
        }
      ]
    },
    {
      "cell_type": "code",
      "source": [
        "#2\n",
        "edad = int(input(\"ingresa tu edad porfa \"))\n",
        "if edad >= 18:\n",
        "  print(\"Eres mayor de edad\")\n",
        "else:\n",
        "  print(\"eres menor de edad\")"
      ],
      "metadata": {
        "colab": {
          "base_uri": "https://localhost:8080/"
        },
        "id": "CNfsVi7b5mtz",
        "outputId": "d5be811f-3e50-4fff-f2ee-abf354cfed17"
      },
      "execution_count": null,
      "outputs": [
        {
          "output_type": "stream",
          "name": "stdout",
          "text": [
            "ingresa tu edad porfa 3\n",
            "eres menor de edad\n"
          ]
        }
      ]
    },
    {
      "cell_type": "code",
      "source": [
        "edad = int(input(\"ingresa tu edad porfa \"))\n",
        "if edad >= 18:\n",
        "  print(\"Eres mayor de edad\"))\n",
        "elif edad >= 13 and edad <= 17:\n",
        "  print(\"Eres un adolencente\")\n",
        "else: print(\"Eres un niño\")"
      ],
      "metadata": {
        "id": "Wxz08JTw58B4"
      },
      "execution_count": null,
      "outputs": []
    },
    {
      "cell_type": "code",
      "source": [
        "print(\"Eres mayor de edad\") if edad>=18 else print(\"eres menor de edad\")"
      ],
      "metadata": {
        "colab": {
          "base_uri": "https://localhost:8080/"
        },
        "id": "G17u-zGm6zIY",
        "outputId": "6fb02c7a-3589-4c36-8c10-1bcd5f85553d"
      },
      "execution_count": null,
      "outputs": [
        {
          "output_type": "stream",
          "name": "stdout",
          "text": [
            "eres menor de edad\n"
          ]
        }
      ]
    },
    {
      "cell_type": "code",
      "source": [
        "a = \"Eres mayor de edad\" if edad>=18 else \"eres menor de edad\"\n",
        "print(a)"
      ],
      "metadata": {
        "colab": {
          "base_uri": "https://localhost:8080/"
        },
        "id": "cufLnhSh8Fjr",
        "outputId": "839ce9fb-ecdc-445e-a288-3f9afc339eb2"
      },
      "execution_count": null,
      "outputs": [
        {
          "output_type": "stream",
          "name": "stdout",
          "text": [
            "eres menor de edad\n"
          ]
        }
      ]
    },
    {
      "cell_type": "code",
      "source": [
        "#3\n",
        "n1 = float(input(\"ingresa el valor 1: \"))\n",
        "n2 = float(input(\"ingresa el valor 2: \"))\n",
        "if n1 > n2:\n",
        "  print(\"el mayor es \", n1)\n",
        "else:\n",
        "  print(\"el mayor es \", n2)"
      ],
      "metadata": {
        "colab": {
          "base_uri": "https://localhost:8080/"
        },
        "id": "EgRhX41E8hjC",
        "outputId": "2c9a4b0d-d807-4a93-ff8b-ade94ee96306"
      },
      "execution_count": null,
      "outputs": [
        {
          "output_type": "stream",
          "name": "stdout",
          "text": [
            "ingresa el valor 1: 4\n",
            "ingresa el valor 2: 2\n",
            "el mayor es  4.0\n"
          ]
        }
      ]
    },
    {
      "cell_type": "code",
      "source": [
        "n1 = float(input(\"ingresa el valor 1: \"))\n",
        "n2 = float(input(\"ingresa el valor 2: \"))\n",
        "if n1 > n2:\n",
        "  print(f\"el mayor es {n1}\")\n",
        "elif n2 > n1:\n",
        "  print(f\"el mayor es {n2}\")\n",
        "else: print(\"son iguales\")"
      ],
      "metadata": {
        "colab": {
          "base_uri": "https://localhost:8080/"
        },
        "id": "ZpqJSg8E8qLC",
        "outputId": "515f6d03-5f31-47dc-dacf-b497267007dc"
      },
      "execution_count": null,
      "outputs": [
        {
          "output_type": "stream",
          "name": "stdout",
          "text": [
            "ingresa el valor 1: 3\n",
            "ingresa el valor 2: 3\n",
            "son iguales\n"
          ]
        }
      ]
    },
    {
      "cell_type": "code",
      "source": [
        " print(\"el mayor es \", n1) if n1 > n2 else print(\"el mayor es \", n2)"
      ],
      "metadata": {
        "colab": {
          "base_uri": "https://localhost:8080/"
        },
        "id": "cSYcmUXf9QvJ",
        "outputId": "23cdcbe2-9354-4f1d-cccc-e1a31a7eb6f4"
      },
      "execution_count": null,
      "outputs": [
        {
          "output_type": "stream",
          "name": "stdout",
          "text": [
            "el mayor es  4.0\n"
          ]
        }
      ]
    },
    {
      "cell_type": "code",
      "source": [
        "a= f\"el mayor es {n1}\" if n1 > n2 else f\"el mayor es {n2}\"\n",
        "print(a)"
      ],
      "metadata": {
        "colab": {
          "base_uri": "https://localhost:8080/"
        },
        "id": "FWubkCMi9f0o",
        "outputId": "128e6798-1e16-4a0b-bd17-5f3167573826"
      },
      "execution_count": null,
      "outputs": [
        {
          "output_type": "stream",
          "name": "stdout",
          "text": [
            "el mayor es 4.0\n"
          ]
        }
      ]
    },
    {
      "cell_type": "code",
      "source": [
        "#4\n",
        "cali = float(input(\"ingresa tu calificacion \"))\n",
        "if cali < 60:\n",
        "  print(\"reprobaste\")\n",
        "else:\n",
        "  print(\"aprobaste\")"
      ],
      "metadata": {
        "colab": {
          "base_uri": "https://localhost:8080/"
        },
        "id": "Qx0sGUW99yQg",
        "outputId": "852bc6c2-4c4d-4022-d0a3-4a5e1331eaeb"
      },
      "execution_count": null,
      "outputs": [
        {
          "output_type": "stream",
          "name": "stdout",
          "text": [
            "ingresa tu calificacion 80\n",
            "aprobaste\n"
          ]
        }
      ]
    },
    {
      "cell_type": "code",
      "source": [
        "cali = int(input(\"ingresa tu calificacion \"))\n",
        "if cali >= 80:\n",
        "  print(\"Aprovaste con una calificación superior\")\n",
        "elif cali >=60 and cali <= 70:\n",
        "  print(\"Aprovaste con una calificación media\")\n",
        "else: print(\"reprobaste\")"
      ],
      "metadata": {
        "colab": {
          "base_uri": "https://localhost:8080/"
        },
        "id": "ZeN7EiUo-Awu",
        "outputId": "70614103-5508-47f0-880b-34f1af19719e"
      },
      "execution_count": null,
      "outputs": [
        {
          "output_type": "stream",
          "name": "stdout",
          "text": [
            "ingresa tu calificacion 80\n",
            "Aprovaste con una calificación superior\n"
          ]
        }
      ]
    },
    {
      "cell_type": "code",
      "source": [
        "print(\"reprobaste\") if cali < 60 else print(\"aprobaste\")"
      ],
      "metadata": {
        "colab": {
          "base_uri": "https://localhost:8080/"
        },
        "id": "ppjDb3um-1UV",
        "outputId": "cbd69825-8921-4eb5-fbe9-9ce8fd34f712"
      },
      "execution_count": null,
      "outputs": [
        {
          "output_type": "stream",
          "name": "stdout",
          "text": [
            "aprobaste\n"
          ]
        }
      ]
    },
    {
      "cell_type": "code",
      "source": [
        "a=\"reprobaste\" if cali < 60 else \"aprobaste\"\n",
        "print(a)"
      ],
      "metadata": {
        "colab": {
          "base_uri": "https://localhost:8080/"
        },
        "id": "8-s_-MEK--U0",
        "outputId": "b36fc1b3-0a12-4b63-8696-0c1b55ff55a4"
      },
      "execution_count": null,
      "outputs": [
        {
          "output_type": "stream",
          "name": "stdout",
          "text": [
            "aprobaste\n"
          ]
        }
      ]
    },
    {
      "cell_type": "code",
      "source": [
        "#5\n",
        "numero = float(input(\"ingresa un numero \"))\n",
        "if numero % 2 == 0:\n",
        "  print(\"es par\")\n",
        "else:\n",
        "  print(\"es impar\")"
      ],
      "metadata": {
        "colab": {
          "base_uri": "https://localhost:8080/"
        },
        "id": "-Rnm0tVO_NFc",
        "outputId": "9d61c3dc-f737-43ee-e1bd-151a5e421d41"
      },
      "execution_count": null,
      "outputs": [
        {
          "output_type": "stream",
          "name": "stdout",
          "text": [
            "ingresa un numero 137643552834\n",
            "es par\n"
          ]
        }
      ]
    },
    {
      "cell_type": "code",
      "source": [
        "numero = float(input(\"ingresa un numero \"))\n",
        "if numero == 0:\n",
        "  print(\"es 0 y es par\")\n",
        "elif numero % 2 == 0:\n",
        "  print(\"y par\")\n",
        "else: print(\"es impar\")\n"
      ],
      "metadata": {
        "colab": {
          "base_uri": "https://localhost:8080/"
        },
        "id": "bxRH06gHAORC",
        "outputId": "c747c6ba-c982-46d0-99d5-9916a673f9af"
      },
      "execution_count": null,
      "outputs": [
        {
          "output_type": "stream",
          "name": "stdout",
          "text": [
            "ingresa un numero 0\n",
            "es 0 y es par\n"
          ]
        }
      ]
    },
    {
      "cell_type": "code",
      "source": [
        "print(\"es par\") if numero % 2 == 0 else print(\"es impar\")"
      ],
      "metadata": {
        "colab": {
          "base_uri": "https://localhost:8080/"
        },
        "id": "pWa14OSzCUV2",
        "outputId": "bbc2e892-3b81-465e-c9b1-daeb68f5c3b8"
      },
      "execution_count": null,
      "outputs": [
        {
          "output_type": "stream",
          "name": "stdout",
          "text": [
            "es par\n"
          ]
        }
      ]
    },
    {
      "cell_type": "code",
      "source": [
        "a=\"es par\" if numero % 2 == 0 else \"es impar\"\n",
        "print(a)"
      ],
      "metadata": {
        "colab": {
          "base_uri": "https://localhost:8080/"
        },
        "id": "R76ZywFDCbD2",
        "outputId": "bec88328-c6c9-42c9-d6d9-ff809fc357ad"
      },
      "execution_count": null,
      "outputs": [
        {
          "output_type": "stream",
          "name": "stdout",
          "text": [
            "es par\n"
          ]
        }
      ]
    },
    {
      "cell_type": "code",
      "source": [
        "n1 = float(input(\"ingresa el primer numero \"))\n",
        "n2 = float(input(\"ingresa el segundo numero \"))\n",
        "n3 = float(input(\"ingresa el tercer numero \"))\n",
        "if n1 > n2 and n1 > n3:\n",
        "  print(\"el mayor es \", n1)\n",
        "else:\n",
        "  if n2 > n3:\n",
        "    print(\"el mayor es \", n2)\n",
        "  else:\n",
        "    print(\"el mayor es \", n3)"
      ],
      "metadata": {
        "colab": {
          "base_uri": "https://localhost:8080/"
        },
        "id": "zfHXkEvtDXDD",
        "outputId": "0bb01030-1d99-4539-a939-f395d8516136"
      },
      "execution_count": null,
      "outputs": [
        {
          "output_type": "stream",
          "name": "stdout",
          "text": [
            "ingresa el primer numero 1\n",
            "ingresa el segundo numero 2\n",
            "ingresa el tercer numero 3\n",
            "el mayor es  3.0\n"
          ]
        }
      ]
    },
    {
      "cell_type": "code",
      "source": [
        "#6\n",
        "n1 = float(input(\"ingresa el primer numero \"))\n",
        "n2 = float(input(\"ingresa el segundo numero \"))\n",
        "n3 = float(input(\"ingresa el tercer numero \"))\n",
        "if n1 > n2 and n1 > n3:\n",
        "  print(\"el mayor es \", n1)\n",
        "elif n2 > n1 and n2 > n3:\n",
        "  print(\"el mayor es \", n2)\n",
        "else:\n",
        "  print(\"el mayor es \", n3)"
      ],
      "metadata": {
        "id": "SacZUC48BzTw",
        "colab": {
          "base_uri": "https://localhost:8080/"
        },
        "outputId": "c1eeefca-860d-44f6-8626-22453070c167"
      },
      "execution_count": null,
      "outputs": [
        {
          "output_type": "stream",
          "name": "stdout",
          "text": [
            "ingresa el primer numero 2\n",
            "ingresa el segundo numero 3\n",
            "ingresa el tercer numero 8\n",
            "el mayor es  8.0\n"
          ]
        }
      ]
    },
    {
      "cell_type": "code",
      "source": [
        "print(\"el mayor es \",n1) if n1 > n2 and n1 > n3 else print(\"el mayor es \",n2) if n2 > n1 and n2 > n3 else print(\"el mayor es \", n3)"
      ],
      "metadata": {
        "id": "kOTFvWJBDytq",
        "colab": {
          "base_uri": "https://localhost:8080/"
        },
        "outputId": "ba93d7bd-b071-4921-983d-724bd5525087"
      },
      "execution_count": null,
      "outputs": [
        {
          "output_type": "stream",
          "name": "stdout",
          "text": [
            "el mayor es  8.0\n"
          ]
        }
      ]
    },
    {
      "cell_type": "code",
      "source": [
        "a=f\"el mayor es {n1}\" if n1 > n2 and n1 > n3 else f\"el mayor es {n2}\" if n2 > n1 and n2 > n3 else f\"el mayor es {n3}\"\n",
        "print(a)"
      ],
      "metadata": {
        "colab": {
          "base_uri": "https://localhost:8080/"
        },
        "id": "V65Pt3DA7PTv",
        "outputId": "7c58ab26-8802-479f-944f-226b708c537a"
      },
      "execution_count": null,
      "outputs": [
        {
          "output_type": "stream",
          "name": "stdout",
          "text": [
            "el mayor es 8.0\n"
          ]
        }
      ]
    },
    {
      "cell_type": "code",
      "source": [
        "#7\n",
        "año = float(input(\"ingresa un año \"))\n",
        "h = año/4\n",
        "b = año/100\n",
        "c = año/400\n",
        "if (año % 4 == 0 and año % 100 != 0) or (año % 400 == 0):\n",
        "  print(\"si es bisiesto \")\n",
        "else:\n",
        "  print(\"no es bisiesto \")"
      ],
      "metadata": {
        "colab": {
          "base_uri": "https://localhost:8080/"
        },
        "id": "B3GXHrjB7qNG",
        "outputId": "75af2302-98c8-4cb2-93b6-8b13f76fe00b"
      },
      "execution_count": null,
      "outputs": [
        {
          "output_type": "stream",
          "name": "stdout",
          "text": [
            "ingresa un año 2024\n",
            "si es bisiesto \n"
          ]
        }
      ]
    },
    {
      "cell_type": "code",
      "source": [
        "año = float(input(\"ingresa un año \"))\n",
        "h = año/4\n",
        "b = año/100\n",
        "c = año/400\n",
        "if año % 4 == 0 and año % 100 != 0:\n",
        "  print(\"si es bisiesto \")\n",
        "elif año % 400 == 0:\n",
        "  print(\"si es bisiesto \")\n",
        "else:\n",
        "  print(\"no es bisiesto \")"
      ],
      "metadata": {
        "colab": {
          "base_uri": "https://localhost:8080/"
        },
        "id": "ncy1Oz_a72Vk",
        "outputId": "c4bc470e-e859-4f33-b904-ed4975ac6ecb"
      },
      "execution_count": null,
      "outputs": [
        {
          "output_type": "stream",
          "name": "stdout",
          "text": [
            "ingresa un año 2345\n",
            "no es bisiesto \n"
          ]
        }
      ]
    },
    {
      "cell_type": "code",
      "source": [
        "print(\"si es bisiesto \") if (año % 4 == 0 and año % 100 != 0) or (año % 400 == 0) else print( \"no es bisiesto \")"
      ],
      "metadata": {
        "colab": {
          "base_uri": "https://localhost:8080/"
        },
        "id": "DLZrsm_z_r9w",
        "outputId": "b8908941-b6b7-4fa9-eb13-ab878d6cf347"
      },
      "execution_count": null,
      "outputs": [
        {
          "output_type": "stream",
          "name": "stdout",
          "text": [
            "no es bisiesto \n"
          ]
        }
      ]
    },
    {
      "cell_type": "code",
      "source": [
        "a=\"si es bisiesto\" if (año % 4 == 0 and año % 100 != 0) or (año % 400 == 0) else \"no es bisiesto\"\n",
        "print(a)"
      ],
      "metadata": {
        "colab": {
          "base_uri": "https://localhost:8080/"
        },
        "id": "Ts9jRkCoAguQ",
        "outputId": "e228585c-3e06-499e-a9db-d1d24db79732"
      },
      "execution_count": null,
      "outputs": [
        {
          "output_type": "stream",
          "name": "stdout",
          "text": [
            "no es bisiesto\n"
          ]
        }
      ]
    },
    {
      "cell_type": "code",
      "source": [
        "c=(input(\"ingresa tu contraseña: \"))\n",
        "a=len(c) > 8\n",
        "b=any(c.isupper() for c in c)\n",
        "d=any(c.isdigit() for c in c)\n",
        "if a and b and d:\n",
        "  print(\"Contraseña aceptada\")\n",
        "else:\n",
        "  print(\"Contraseña invalida\")\n",
        "  if not a:\n",
        "    print(\"La contraseña no contiene 8 caracteres\")\n",
        "  if not b:\n",
        "    print(\"La contraseña no contiene mayusculas\")\n",
        "    if not d:\n",
        "      print(\"la contraseña no contiene numeros\")"
      ],
      "metadata": {
        "colab": {
          "base_uri": "https://localhost:8080/"
        },
        "id": "i0bgnMW9Atbz",
        "outputId": "7d04a6af-6720-4b7f-9209-db4e28e4c3f7"
      },
      "execution_count": null,
      "outputs": [
        {
          "output_type": "stream",
          "name": "stdout",
          "text": [
            "ingresa tu contraseña: D11\n",
            "Contraseña invalida\n",
            "La contraseña no contiene 8 caracteres\n"
          ]
        }
      ]
    },
    {
      "cell_type": "code",
      "source": [
        "c=(input(\"ingresa tu contraseña: \"))\n",
        "a=len(c) > 8\n",
        "b=any(c.isupper() for c in c)\n",
        "d=any(c.isdigit() for c in c)\n",
        "if a < 8:\n",
        "  print(\"La contraseña no contiene 8 caracteres\")\n",
        "elif not b:\n",
        "  print(\"La contraseña no contiene mayusculas\")\n",
        "elif not d:\n",
        "  print(\"la contraseña no contiene numeros\")\n",
        "else:\n",
        "  print(\"Contraseña aceptada\")"
      ],
      "metadata": {
        "colab": {
          "base_uri": "https://localhost:8080/"
        },
        "id": "k_z-x8_ECnqO",
        "outputId": "26173cf5-fd74-48ac-9335-6f1bf2a312a3"
      },
      "execution_count": null,
      "outputs": [
        {
          "output_type": "stream",
          "name": "stdout",
          "text": [
            "ingresa tu contraseña: sd\n",
            "La contraseña no contiene 8 caracteres\n"
          ]
        }
      ]
    },
    {
      "cell_type": "code",
      "source": [
        "print(\"La contraseña no contiene 8 caracteres\") if a < 8 else print(\"La contraseña no contiene mayusculas\") if not b else print(\"la contraseña no contiene numeros\") if not d else print(\"Contraseña aceptada\")"
      ],
      "metadata": {
        "colab": {
          "base_uri": "https://localhost:8080/"
        },
        "id": "1cLx5xQ2MMpu",
        "outputId": "345431c3-8127-450c-828c-23c61f92d6f2"
      },
      "execution_count": null,
      "outputs": [
        {
          "output_type": "stream",
          "name": "stdout",
          "text": [
            "La contraseña no contiene 8 caracteres\n"
          ]
        }
      ]
    },
    {
      "cell_type": "code",
      "source": [
        "a=\"La contraseña no contiene 8 caracteres\" if a < 8 else \"La contraseña no contiene mayusculas\" if not b else \"la contraseña no contiene numeros\" if not d else \"Contraseña aceptada\"\n",
        "print(a)"
      ],
      "metadata": {
        "colab": {
          "base_uri": "https://localhost:8080/"
        },
        "id": "i2LMR0FiPfUb",
        "outputId": "628ffeaa-3ba4-4165-fd7d-06b5492920c7"
      },
      "execution_count": null,
      "outputs": [
        {
          "output_type": "stream",
          "name": "stdout",
          "text": [
            "La contraseña no contiene 8 caracteres\n"
          ]
        }
      ]
    },
    {
      "cell_type": "code",
      "source": [
        "a=float(input(\"ingresa un numero \"))\n",
        "b=a/3\n",
        "c=a/5\n",
        "if a % 3==0 and a % 5!= 0:\n",
        "  print(\"Fizz\")\n",
        "else:\n",
        "  if a % 5==0 and a % 3!=0:\n",
        "    print(\"Buzz\")\n",
        "  else:\n",
        "    print(\"FizzBuzz\")"
      ],
      "metadata": {
        "colab": {
          "base_uri": "https://localhost:8080/"
        },
        "id": "a1vzKRANPuJb",
        "outputId": "d62d0fcb-0917-462e-ab21-ba54764dceba"
      },
      "execution_count": null,
      "outputs": [
        {
          "output_type": "stream",
          "name": "stdout",
          "text": [
            "ingresa un numero 15\n",
            "FizzBuzz\n"
          ]
        }
      ]
    },
    {
      "cell_type": "code",
      "source": [
        "a=float(input(\"ingresa un numero \"))\n",
        "b=a/3\n",
        "c=a/5\n",
        "if a % 3==0 and a % 5!= 0:\n",
        "  print(\"Fizz\")\n",
        "elif a % 5==0 and a % 3!=0:\n",
        "  print(\"Buzz\")\n",
        "elif a % 3==0 and a % 5==0:\n",
        "    print(\"FizzBuzz\")\n",
        "else:\n",
        "  print(a)"
      ],
      "metadata": {
        "colab": {
          "base_uri": "https://localhost:8080/"
        },
        "id": "c3TDrKaVSCA6",
        "outputId": "24705c0c-eb81-4aee-ce28-9acddbeed73a"
      },
      "execution_count": null,
      "outputs": [
        {
          "output_type": "stream",
          "name": "stdout",
          "text": [
            "ingresa un numero 62\n",
            "62.0\n"
          ]
        }
      ]
    },
    {
      "cell_type": "code",
      "source": [
        " print(\"FizzBuzz\") if a % 3==0 and a % 5==0 else print(\"Buzz\") if a % 5==0 and a % 3!=0 else print(\"Fizz\") if a % 3==0 and a % 5!= 0 else print(a)"
      ],
      "metadata": {
        "colab": {
          "base_uri": "https://localhost:8080/"
        },
        "id": "SehpwYtTS1RA",
        "outputId": "ea041875-cbd6-4d9f-8902-8d6ca27b1c70"
      },
      "execution_count": null,
      "outputs": [
        {
          "output_type": "stream",
          "name": "stdout",
          "text": [
            "62.0\n"
          ]
        }
      ]
    },
    {
      "cell_type": "code",
      "source": [
        "a=\"FizzBuzz\" if a % 3==0 and a % 5==0 else \"Buzz\" if a % 5==0 and a % 3!=0 else \"Fizz\" if a % 3==0 and a % 5!= 0 else a\n",
        "print(a)"
      ],
      "metadata": {
        "colab": {
          "base_uri": "https://localhost:8080/"
        },
        "id": "wqD0b4fDX3AF",
        "outputId": "01f4f39a-c3ea-461e-973c-491c4a967271"
      },
      "execution_count": null,
      "outputs": [
        {
          "output_type": "stream",
          "name": "stdout",
          "text": [
            "62.0\n"
          ]
        }
      ]
    },
    {
      "cell_type": "code",
      "source": [
        "mila=float(input(\"Ingresa tu saldo \"))\n",
        "gab=float(input(\"cuando desea retirar \"))\n",
        "ro= mila - gab\n",
        "if ro >= 0:\n",
        "  print(\"operación permitida\")\n",
        "else:\n",
        "  print(\"operación invalida\")"
      ],
      "metadata": {
        "colab": {
          "base_uri": "https://localhost:8080/"
        },
        "id": "FHLUbrl1YIp8",
        "outputId": "23ecda62-0542-47a7-f481-067c71005981"
      },
      "execution_count": null,
      "outputs": [
        {
          "output_type": "stream",
          "name": "stdout",
          "text": [
            "Ingresa tu saldo 100\n",
            "cuando desea retirar 100\n",
            "operación permitida\n"
          ]
        }
      ]
    },
    {
      "cell_type": "code",
      "source": [
        "mila=float(input(\"Ingresa tu saldo \"))\n",
        "gab=float(input(\"cuando desea retirar \"))\n",
        "ro= mila - gab\n",
        "if ro > 0:\n",
        "  print(f\"operación permitida el valor que le queda es de {ro}\")\n",
        "elif ro < 0:\n",
        "  print(\"operación invalida el retiro excede el saldo total\")\n",
        "else:\n",
        "  print(f\"operación permitida el valor que le queda es de {ro}\")"
      ],
      "metadata": {
        "colab": {
          "base_uri": "https://localhost:8080/"
        },
        "id": "kUY7ZZvGZi1H",
        "outputId": "5695f0e2-7d90-4d97-cc41-15aafe392869"
      },
      "execution_count": null,
      "outputs": [
        {
          "output_type": "stream",
          "name": "stdout",
          "text": [
            "Ingresa tu saldo 100\n",
            "cuando desea retirar 100\n",
            "operación permitida el valor que le queda es de 0.0\n"
          ]
        }
      ]
    },
    {
      "cell_type": "code",
      "source": [
        "print(\"operación permitida\") if ro >= 0 else print(\"operación invalida\")"
      ],
      "metadata": {
        "colab": {
          "base_uri": "https://localhost:8080/"
        },
        "id": "Yl4S2RXPaNIc",
        "outputId": "4616dfbb-b31b-4155-e37d-da19507b086e"
      },
      "execution_count": null,
      "outputs": [
        {
          "output_type": "stream",
          "name": "stdout",
          "text": [
            "operación permitida\n"
          ]
        }
      ]
    },
    {
      "cell_type": "code",
      "source": [
        "a=\"operación permitida\" if ro >= 0 else \"operación invalida\"\n",
        "print(a)"
      ],
      "metadata": {
        "colab": {
          "base_uri": "https://localhost:8080/"
        },
        "id": "DYE77JQqaT_6",
        "outputId": "2ef89359-eb7f-41a8-fc9a-64dc9e1ab436"
      },
      "execution_count": null,
      "outputs": [
        {
          "output_type": "stream",
          "name": "stdout",
          "text": [
            "operación permitida\n"
          ]
        }
      ]
    }
  ]
}