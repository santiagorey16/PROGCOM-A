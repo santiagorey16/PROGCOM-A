{
  "nbformat": 4,
  "nbformat_minor": 0,
  "metadata": {
    "colab": {
      "provenance": [],
      "authorship_tag": "ABX9TyPh3T9Tn/jmp66CnL/OdErO",
      "include_colab_link": true
    },
    "kernelspec": {
      "name": "python3",
      "display_name": "Python 3"
    },
    "language_info": {
      "name": "python"
    }
  },
  "cells": [
    {
      "cell_type": "markdown",
      "metadata": {
        "id": "view-in-github",
        "colab_type": "text"
      },
      "source": [
        "<a href=\"https://colab.research.google.com/github/santiagorey16/PROGCOM-A/blob/main/Clase_3_Funciones.ipynb\" target=\"_parent\"><img src=\"https://colab.research.google.com/assets/colab-badge.svg\" alt=\"Open In Colab\"/></a>"
      ]
    },
    {
      "cell_type": "markdown",
      "source": [
        "#Funciones\n",
        "Copiado dinámico.\n",
        "Dió nacimiento a un nuevo paradigma de programación modular.\n",
        "##Forma general de programar funciones.\n",
        "\n",
        "```\n",
        "def (nombre_de_función)(p,p2,p3...pn):\n",
        "  donde p,p2,p3...pn: son parámetros\n",
        "```\n",
        "\n"
      ],
      "metadata": {
        "id": "k5tFydFz11_o"
      }
    },
    {
      "cell_type": "markdown",
      "source": [
        "1. list()\n",
        "2. len()\n",
        "3. print()\n",
        "4. append()\n",
        "5. int()\n",
        "6. input()"
      ],
      "metadata": {
        "id": "eobqN_VF3nmW"
      }
    },
    {
      "cell_type": "markdown",
      "source": [
        "##Tipo de funciones\n",
        "1. Sin parámetros, sin entorno\n",
        "2. Sin parámetros, con retorno\n",
        "3. Con parámetros, sin retorno\n",
        "4. Con parámetros, con entorno"
      ],
      "metadata": {
        "id": "rqgtzDOZ4g32"
      }
    },
    {
      "cell_type": "markdown",
      "source": [
        "###1.Sin parámetros, sin entorno\n",
        "Se emplea como copiado dinámico\n"
      ],
      "metadata": {
        "id": "NmWUcXbX5L3_"
      }
    },
    {
      "cell_type": "code",
      "execution_count": 11,
      "metadata": {
        "id": "-lfYkAWw10PT"
      },
      "outputs": [],
      "source": [
        "#Ejemplo: Entrada de cajero electrónico\n",
        "def cajero(): #Esto significa que es sin parámetros\n",
        "  print(\"Bienvenido a DaviUNAB\")\n",
        "  print(\"Estas son las operaciones que se pueden realizar\")\n",
        "  print(\"1. Retirar\\n2. Transferencias\\n3. Denunciar\\n4. Opereciones sin targeta\")"
      ]
    },
    {
      "cell_type": "code",
      "source": [
        "a = input(cajero())\n"
      ],
      "metadata": {
        "colab": {
          "base_uri": "https://localhost:8080/"
        },
        "id": "uLox2PjL6i60",
        "outputId": "3ac7fe76-19ec-4edf-f756-39cd0541e241"
      },
      "execution_count": 13,
      "outputs": [
        {
          "output_type": "stream",
          "name": "stdout",
          "text": [
            "Bienvenido a DaviUNAB\n",
            "Estas son las operaciones que se pueden realizar\n",
            "1. Retirar\n",
            "2. Transferencias\n",
            "3. Denunciar\n",
            "4. Opereciones sin targeta\n",
            "None4\n",
            "escogiste la opción 4\n"
          ]
        }
      ]
    },
    {
      "cell_type": "markdown",
      "source": [
        "###2.Sin parámetros, con retorno"
      ],
      "metadata": {
        "id": "qK2ZMMzu8ew1"
      }
    },
    {
      "cell_type": "code",
      "source": [
        "def cajero2(): #Esto significa que es sin parámetros\n",
        "  print(\"Bienvenido a DaviUNAB\")\n",
        "  print(\"Estas son las operaciones que se pueden realizar\")\n",
        "  print(\"1. Retirar\\n2. Transferencias\\n3. Denunciar\\n4. Opereciones sin targeta\")\n",
        "  rta=input(\"ingresa una opción \")\n",
        "  return rta"
      ],
      "metadata": {
        "id": "jHIBnPWP8d56"
      },
      "execution_count": 20,
      "outputs": []
    },
    {
      "cell_type": "code",
      "source": [
        "cajero2()"
      ],
      "metadata": {
        "colab": {
          "base_uri": "https://localhost:8080/"
        },
        "id": "ek2n2Gb08oF7",
        "outputId": "bce83a0d-7f5d-4295-8ecf-7f1b2170b7fb"
      },
      "execution_count": 16,
      "outputs": [
        {
          "name": "stdout",
          "output_type": "stream",
          "text": [
            "Bienvenido a DaviUNAB\n",
            "Estas son las operaciones que se pueden realizar\n",
            "1. Retirar\n",
            "2. Transferencias\n",
            "3. Denunciar\n",
            "4. Opereciones sin targeta\n",
            "ingresa una opción 2\n"
          ]
        }
      ]
    },
    {
      "cell_type": "code",
      "source": [
        "rta=cajero()"
      ],
      "metadata": {
        "colab": {
          "base_uri": "https://localhost:8080/"
        },
        "id": "8V-YLlh183Wp",
        "outputId": "09d78147-b365-4677-cebd-6ecad0c149d2"
      },
      "execution_count": 23,
      "outputs": [
        {
          "name": "stdout",
          "output_type": "stream",
          "text": [
            "Bienvenido a DaviUNAB\n",
            "Estas son las operaciones que se pueden realizar\n",
            "1. Retirar\n",
            "2. Transferencias\n",
            "3. Denunciar\n",
            "4. Opereciones sin targeta\n",
            "ingresa una opción 2\n"
          ]
        }
      ]
    },
    {
      "cell_type": "code",
      "source": [
        "type(rta)"
      ],
      "metadata": {
        "colab": {
          "base_uri": "https://localhost:8080/"
        },
        "id": "lBtnugLj-cwA",
        "outputId": "1a97c688-2fdf-43c7-82a5-d7943d945fcc"
      },
      "execution_count": 24,
      "outputs": [
        {
          "output_type": "execute_result",
          "data": {
            "text/plain": [
              "NoneType"
            ]
          },
          "metadata": {},
          "execution_count": 24
        }
      ]
    },
    {
      "cell_type": "markdown",
      "source": [
        "###Con parametros, sin retorno"
      ],
      "metadata": {
        "id": "c7aDO8Hr-elX"
      }
    },
    {
      "cell_type": "code",
      "source": [
        "#Ejemplo:el area de un rectángulo\n",
        "def ab(u,du):\n",
        "  print(f\"El área de un rectángulo de base {u} y altura {du} es {u*du}\")"
      ],
      "metadata": {
        "id": "zWKMMU3J-iaA"
      },
      "execution_count": 26,
      "outputs": []
    },
    {
      "cell_type": "code",
      "source": [
        "a=ab(2,3)"
      ],
      "metadata": {
        "colab": {
          "base_uri": "https://localhost:8080/"
        },
        "id": "k6tbLWOP_MMX",
        "outputId": "015b1aec-0ffd-4760-952c-89896d5dcf75"
      },
      "execution_count": 27,
      "outputs": [
        {
          "output_type": "stream",
          "name": "stdout",
          "text": [
            "El área de un rectángulo de base 2 y altura 3 es 6\n"
          ]
        }
      ]
    },
    {
      "cell_type": "code",
      "source": [
        "print(a)"
      ],
      "metadata": {
        "colab": {
          "base_uri": "https://localhost:8080/"
        },
        "id": "v4gCN4a0_dMv",
        "outputId": "11529b5a-63cd-41c5-8d98-1d603e0ac44a"
      },
      "execution_count": 28,
      "outputs": [
        {
          "output_type": "stream",
          "name": "stdout",
          "text": [
            "4\n"
          ]
        }
      ]
    },
    {
      "cell_type": "markdown",
      "source": [
        "###4.Con parámetros, con entorno"
      ],
      "metadata": {
        "id": "1feghQZW_hDY"
      }
    },
    {
      "cell_type": "code",
      "source": [
        "def area_rectangulo(u,du):\n",
        "  return f\"El área de un rectángulo de base {u} y altura {du} es {u*du}\""
      ],
      "metadata": {
        "id": "4VKa0QGK_56W"
      },
      "execution_count": 35,
      "outputs": []
    },
    {
      "cell_type": "code",
      "source": [
        "a=area_rectangulo(10,15)"
      ],
      "metadata": {
        "id": "fZ-U0ESDAPIZ"
      },
      "execution_count": 37,
      "outputs": []
    },
    {
      "cell_type": "code",
      "source": [
        "print(a)"
      ],
      "metadata": {
        "colab": {
          "base_uri": "https://localhost:8080/"
        },
        "id": "AsRRb2qLAXZ-",
        "outputId": "b6634a15-f13b-44be-c5ec-cd4a0aff5d41"
      },
      "execution_count": 39,
      "outputs": [
        {
          "output_type": "stream",
          "name": "stdout",
          "text": [
            "El área de un rectángulo de base 10 y altura 15 es 150\n"
          ]
        }
      ]
    },
    {
      "cell_type": "markdown",
      "source": [
        "##Funciones anonimas o lambda\n",
        "1. Siempre usan parámetros\n",
        "2. Siempre genera retorno\n",
        "3. No tienen nombre -->anónimas\n",
        "4. **Se puede emplear n parámetros, pero sólo ejecuta una línea de codigo**\n",
        "###Defición de funciones LAMBDA\n",
        "\n",
        "```\n",
        "variable=lambda (p,p1,p2...pn)\n",
        "operación\n",
        "```\n",
        "\n"
      ],
      "metadata": {
        "id": "M0rbCsg6CHG0"
      }
    },
    {
      "cell_type": "code",
      "source": [
        "#Ejemplo: calcular el área de un triangulo\n",
        "area_triangulo=lambda a,b:a+a*b/2"
      ],
      "metadata": {
        "id": "m2YiKGC0DKlk"
      },
      "execution_count": 43,
      "outputs": []
    },
    {
      "cell_type": "code",
      "source": [
        "area_triangulo(3,8)"
      ],
      "metadata": {
        "colab": {
          "base_uri": "https://localhost:8080/"
        },
        "id": "vFQ2VrW0DwXj",
        "outputId": "56ed02dc-3991-421c-f990-ffc9c81ba337"
      },
      "execution_count": 44,
      "outputs": [
        {
          "output_type": "execute_result",
          "data": {
            "text/plain": [
              "15.0"
            ]
          },
          "metadata": {},
          "execution_count": 44
        }
      ]
    },
    {
      "cell_type": "code",
      "source": [
        "x=int(input(\"Ingrese la altura de un triangulo\"))\n",
        "y=int(input(\"Ingrese la base de un triangulo\"))\n",
        "area_triangulo(x,y)"
      ],
      "metadata": {
        "id": "UHZED-CJEMb7"
      },
      "execution_count": null,
      "outputs": []
    },
    {
      "cell_type": "code",
      "source": [
        "area_circulo=lambda b:3.14*b**2"
      ],
      "metadata": {
        "id": "4Xs1vaBeEmGb"
      },
      "execution_count": 53,
      "outputs": []
    },
    {
      "cell_type": "code",
      "source": [
        "area_circulo(4)"
      ],
      "metadata": {
        "colab": {
          "base_uri": "https://localhost:8080/"
        },
        "id": "x-TxMG8pE6uF",
        "outputId": "741fb221-ab93-4dff-977e-5487c1dcd53e"
      },
      "execution_count": 54,
      "outputs": [
        {
          "output_type": "execute_result",
          "data": {
            "text/plain": [
              "50.24"
            ]
          },
          "metadata": {},
          "execution_count": 54
        }
      ]
    },
    {
      "cell_type": "code",
      "source": [
        "valor=lambda a,b,c:(max(a,b,c))"
      ],
      "metadata": {
        "id": "P_VP7z23G8Ws"
      },
      "execution_count": 61,
      "outputs": []
    },
    {
      "cell_type": "code",
      "source": [
        "valor(3,6,9)"
      ],
      "metadata": {
        "colab": {
          "base_uri": "https://localhost:8080/"
        },
        "id": "zKBJGIpMIByg",
        "outputId": "7b93fb62-0a53-432a-e1e9-a6fca5f05288"
      },
      "execution_count": 60,
      "outputs": [
        {
          "output_type": "execute_result",
          "data": {
            "text/plain": [
              "9"
            ]
          },
          "metadata": {},
          "execution_count": 60
        }
      ]
    }
  ]
}