{
  "nbformat": 4,
  "nbformat_minor": 0,
  "metadata": {
    "colab": {
      "provenance": [],
      "authorship_tag": "ABX9TyPV0uLftyeR5VZHu3HmLp8I",
      "include_colab_link": true
    },
    "kernelspec": {
      "name": "python3",
      "display_name": "Python 3"
    },
    "language_info": {
      "name": "python"
    }
  },
  "cells": [
    {
      "cell_type": "markdown",
      "metadata": {
        "id": "view-in-github",
        "colab_type": "text"
      },
      "source": [
        "<a href=\"https://colab.research.google.com/github/santiagorey16/PROGCOM-A/blob/main/Clase_3_Funciones.ipynb\" target=\"_parent\"><img src=\"https://colab.research.google.com/assets/colab-badge.svg\" alt=\"Open In Colab\"/></a>"
      ]
    },
    {
      "cell_type": "markdown",
      "source": [
        "#Funciones\n",
        "Copiado dinámico.\n",
        "Dió nacimiento a un nuevo paradigma de programación modular.\n",
        "##Forma general de programar funciones.\n",
        "\n",
        "```\n",
        "def (nombre_de_función)(p,p2,p3...pn):\n",
        "  donde p,p2,p3...pn: son parámetros\n",
        "```\n",
        "\n"
      ],
      "metadata": {
        "id": "k5tFydFz11_o"
      }
    },
    {
      "cell_type": "markdown",
      "source": [
        "1. list()\n",
        "2. len()\n",
        "3. print()\n",
        "4. append()\n",
        "5. int()\n",
        "6. input()"
      ],
      "metadata": {
        "id": "eobqN_VF3nmW"
      }
    },
    {
      "cell_type": "markdown",
      "source": [
        "##Tipo de funciones\n",
        "1. Sin parámetros, sin entorno\n",
        "2. Sin parámetros, con retorno\n",
        "3. Con parámetros, sin retorno\n",
        "4. Con parámetros, con entorno"
      ],
      "metadata": {
        "id": "rqgtzDOZ4g32"
      }
    },
    {
      "cell_type": "markdown",
      "source": [
        "###1.Sin parámetros, sin entorno\n",
        "Se emplea como copiado dinámico\n"
      ],
      "metadata": {
        "id": "NmWUcXbX5L3_"
      }
    },
    {
      "cell_type": "code",
      "execution_count": null,
      "metadata": {
        "id": "-lfYkAWw10PT"
      },
      "outputs": [],
      "source": [
        "#Ejemplo: Entrada de cajero electrónico\n",
        "def cajero(): #Esto significa que es sin parámetros\n",
        "  print(\"Bienvenido a DaviUNAB\")\n",
        "  print(\"Estas son las operaciones que se pueden realizar\")\n",
        "  print(\"1. Retirar\\n2. Transferencias\\n3. Denunciar\\n4. Opereciones sin targeta\")"
      ]
    },
    {
      "cell_type": "code",
      "source": [
        "a = input(cajero())\n"
      ],
      "metadata": {
        "colab": {
          "base_uri": "https://localhost:8080/"
        },
        "id": "uLox2PjL6i60",
        "outputId": "3ac7fe76-19ec-4edf-f756-39cd0541e241"
      },
      "execution_count": null,
      "outputs": [
        {
          "output_type": "stream",
          "name": "stdout",
          "text": [
            "Bienvenido a DaviUNAB\n",
            "Estas son las operaciones que se pueden realizar\n",
            "1. Retirar\n",
            "2. Transferencias\n",
            "3. Denunciar\n",
            "4. Opereciones sin targeta\n",
            "None4\n",
            "escogiste la opción 4\n"
          ]
        }
      ]
    },
    {
      "cell_type": "markdown",
      "source": [
        "###2.Sin parámetros, con retorno"
      ],
      "metadata": {
        "id": "qK2ZMMzu8ew1"
      }
    },
    {
      "cell_type": "code",
      "source": [
        "def cajero2(): #Esto significa que es sin parámetros\n",
        "  print(\"Bienvenido a DaviUNAB\")\n",
        "  print(\"Estas son las operaciones que se pueden realizar\")\n",
        "  print(\"1. Retirar\\n2. Transferencias\\n3. Denunciar\\n4. Opereciones sin targeta\")\n",
        "  rta=input(\"ingresa una opción \")\n",
        "  return rta"
      ],
      "metadata": {
        "id": "jHIBnPWP8d56"
      },
      "execution_count": null,
      "outputs": []
    },
    {
      "cell_type": "code",
      "source": [
        "cajero2()"
      ],
      "metadata": {
        "colab": {
          "base_uri": "https://localhost:8080/"
        },
        "id": "ek2n2Gb08oF7",
        "outputId": "bce83a0d-7f5d-4295-8ecf-7f1b2170b7fb"
      },
      "execution_count": null,
      "outputs": [
        {
          "name": "stdout",
          "output_type": "stream",
          "text": [
            "Bienvenido a DaviUNAB\n",
            "Estas son las operaciones que se pueden realizar\n",
            "1. Retirar\n",
            "2. Transferencias\n",
            "3. Denunciar\n",
            "4. Opereciones sin targeta\n",
            "ingresa una opción 2\n"
          ]
        }
      ]
    },
    {
      "cell_type": "code",
      "source": [
        "rta=cajero()"
      ],
      "metadata": {
        "colab": {
          "base_uri": "https://localhost:8080/"
        },
        "id": "8V-YLlh183Wp",
        "outputId": "09d78147-b365-4677-cebd-6ecad0c149d2"
      },
      "execution_count": null,
      "outputs": [
        {
          "name": "stdout",
          "output_type": "stream",
          "text": [
            "Bienvenido a DaviUNAB\n",
            "Estas son las operaciones que se pueden realizar\n",
            "1. Retirar\n",
            "2. Transferencias\n",
            "3. Denunciar\n",
            "4. Opereciones sin targeta\n",
            "ingresa una opción 2\n"
          ]
        }
      ]
    },
    {
      "cell_type": "code",
      "source": [
        "type(rta)"
      ],
      "metadata": {
        "colab": {
          "base_uri": "https://localhost:8080/"
        },
        "id": "lBtnugLj-cwA",
        "outputId": "1a97c688-2fdf-43c7-82a5-d7943d945fcc"
      },
      "execution_count": null,
      "outputs": [
        {
          "output_type": "execute_result",
          "data": {
            "text/plain": [
              "NoneType"
            ]
          },
          "metadata": {},
          "execution_count": 24
        }
      ]
    },
    {
      "cell_type": "markdown",
      "source": [
        "###Con parametros, sin retorno"
      ],
      "metadata": {
        "id": "c7aDO8Hr-elX"
      }
    },
    {
      "cell_type": "code",
      "source": [
        "#Ejemplo:el area de un rectángulo\n",
        "def ab(u,du):\n",
        "  print(f\"El área de un rectángulo de base {u} y altura {du} es {u*du}\")"
      ],
      "metadata": {
        "id": "zWKMMU3J-iaA"
      },
      "execution_count": null,
      "outputs": []
    },
    {
      "cell_type": "code",
      "source": [
        "a=ab(2,3)"
      ],
      "metadata": {
        "colab": {
          "base_uri": "https://localhost:8080/"
        },
        "id": "k6tbLWOP_MMX",
        "outputId": "015b1aec-0ffd-4760-952c-89896d5dcf75"
      },
      "execution_count": null,
      "outputs": [
        {
          "output_type": "stream",
          "name": "stdout",
          "text": [
            "El área de un rectángulo de base 2 y altura 3 es 6\n"
          ]
        }
      ]
    },
    {
      "cell_type": "code",
      "source": [
        "print(a)"
      ],
      "metadata": {
        "colab": {
          "base_uri": "https://localhost:8080/"
        },
        "id": "v4gCN4a0_dMv",
        "outputId": "11529b5a-63cd-41c5-8d98-1d603e0ac44a"
      },
      "execution_count": null,
      "outputs": [
        {
          "output_type": "stream",
          "name": "stdout",
          "text": [
            "4\n"
          ]
        }
      ]
    },
    {
      "cell_type": "markdown",
      "source": [
        "###4.Con parámetros, con entorno"
      ],
      "metadata": {
        "id": "1feghQZW_hDY"
      }
    },
    {
      "cell_type": "code",
      "source": [
        "def area_rectangulo(u,du):\n",
        "  return f\"El área de un rectángulo de base {u} y altura {du} es {u*du}\""
      ],
      "metadata": {
        "id": "4VKa0QGK_56W"
      },
      "execution_count": null,
      "outputs": []
    },
    {
      "cell_type": "code",
      "source": [
        "a=area_rectangulo(10,15)"
      ],
      "metadata": {
        "id": "fZ-U0ESDAPIZ"
      },
      "execution_count": null,
      "outputs": []
    },
    {
      "cell_type": "code",
      "source": [
        "print(a)"
      ],
      "metadata": {
        "colab": {
          "base_uri": "https://localhost:8080/"
        },
        "id": "AsRRb2qLAXZ-",
        "outputId": "b6634a15-f13b-44be-c5ec-cd4a0aff5d41"
      },
      "execution_count": null,
      "outputs": [
        {
          "output_type": "stream",
          "name": "stdout",
          "text": [
            "El área de un rectángulo de base 10 y altura 15 es 150\n"
          ]
        }
      ]
    },
    {
      "cell_type": "markdown",
      "source": [
        "##Funciones anonimas o lambda\n",
        "1. Siempre usan parámetros\n",
        "2. Siempre genera retorno\n",
        "3. No tienen nombre -->anónimas\n",
        "4. **Se puede emplear n parámetros, pero sólo ejecuta una línea de codigo**\n",
        "###Defición de funciones LAMBDA\n",
        "\n",
        "```\n",
        "variable=lambda (p,p1,p2...pn)\n",
        "operación\n",
        "```\n",
        "\n"
      ],
      "metadata": {
        "id": "M0rbCsg6CHG0"
      }
    },
    {
      "cell_type": "code",
      "source": [
        "#Ejemplo: calcular el área de un triangulo\n",
        "area_triangulo=lambda a,b:a+a*b/2"
      ],
      "metadata": {
        "id": "m2YiKGC0DKlk"
      },
      "execution_count": null,
      "outputs": []
    },
    {
      "cell_type": "code",
      "source": [
        "area_triangulo(3,8)"
      ],
      "metadata": {
        "colab": {
          "base_uri": "https://localhost:8080/"
        },
        "id": "vFQ2VrW0DwXj",
        "outputId": "56ed02dc-3991-421c-f990-ffc9c81ba337"
      },
      "execution_count": null,
      "outputs": [
        {
          "output_type": "execute_result",
          "data": {
            "text/plain": [
              "15.0"
            ]
          },
          "metadata": {},
          "execution_count": 44
        }
      ]
    },
    {
      "cell_type": "code",
      "source": [
        "x=int(input(\"Ingrese la altura de un triangulo\"))\n",
        "y=int(input(\"Ingrese la base de un triangulo\"))\n",
        "area_triangulo(x,y)"
      ],
      "metadata": {
        "id": "UHZED-CJEMb7"
      },
      "execution_count": null,
      "outputs": []
    },
    {
      "cell_type": "code",
      "source": [
        "area_circulo=lambda b:3.14*b**2"
      ],
      "metadata": {
        "id": "4Xs1vaBeEmGb"
      },
      "execution_count": null,
      "outputs": []
    },
    {
      "cell_type": "code",
      "source": [
        "area_circulo(4)"
      ],
      "metadata": {
        "colab": {
          "base_uri": "https://localhost:8080/"
        },
        "id": "x-TxMG8pE6uF",
        "outputId": "741fb221-ab93-4dff-977e-5487c1dcd53e"
      },
      "execution_count": null,
      "outputs": [
        {
          "output_type": "execute_result",
          "data": {
            "text/plain": [
              "50.24"
            ]
          },
          "metadata": {},
          "execution_count": 54
        }
      ]
    },
    {
      "cell_type": "code",
      "source": [
        "valor=lambda a,b,c:(max(a,b,c))\n",
        "valor(3,6,9)"
      ],
      "metadata": {
        "id": "P_VP7z23G8Ws",
        "colab": {
          "base_uri": "https://localhost:8080/"
        },
        "outputId": "dfad2289-b342-437b-8e8b-6b1f75db2432"
      },
      "execution_count": null,
      "outputs": [
        {
          "output_type": "execute_result",
          "data": {
            "text/plain": [
              "9"
            ]
          },
          "metadata": {},
          "execution_count": 1
        }
      ]
    },
    {
      "cell_type": "code",
      "source": [
        "valor(3,6,9)"
      ],
      "metadata": {
        "colab": {
          "base_uri": "https://localhost:8080/"
        },
        "id": "zKBJGIpMIByg",
        "outputId": "7b93fb62-0a53-432a-e1e9-a6fca5f05288"
      },
      "execution_count": null,
      "outputs": [
        {
          "output_type": "execute_result",
          "data": {
            "text/plain": [
              "9"
            ]
          },
          "metadata": {},
          "execution_count": 60
        }
      ]
    },
    {
      "cell_type": "markdown",
      "source": [
        "##1"
      ],
      "metadata": {
        "id": "pJNiuYvI0opJ"
      }
    },
    {
      "cell_type": "code",
      "source": [
        "def cuadrado(a):\n",
        "  return f\"El cuadrado de {a} es {a**2}\"\n",
        "a=cuadrado(5)\n",
        "print(a)"
      ],
      "metadata": {
        "colab": {
          "base_uri": "https://localhost:8080/"
        },
        "id": "vYGr9djo0poC",
        "outputId": "1fc405ab-52a1-4a2f-885c-3a466776c0ea"
      },
      "execution_count": null,
      "outputs": [
        {
          "output_type": "stream",
          "name": "stdout",
          "text": [
            "El cuadrado de 5 es 25\n"
          ]
        }
      ]
    },
    {
      "cell_type": "code",
      "source": [
        "cuadrado=lambda a:(a**2)\n",
        "cuadrado(5)"
      ],
      "metadata": {
        "colab": {
          "base_uri": "https://localhost:8080/"
        },
        "id": "H7ZkDiW52LdC",
        "outputId": "6b48e179-6085-426c-ed27-01bed277d20f"
      },
      "execution_count": null,
      "outputs": [
        {
          "output_type": "execute_result",
          "data": {
            "text/plain": [
              "25"
            ]
          },
          "metadata": {},
          "execution_count": 11
        }
      ]
    },
    {
      "cell_type": "markdown",
      "source": [
        "##2"
      ],
      "metadata": {
        "id": "dwUUMdjF2bic"
      }
    },
    {
      "cell_type": "code",
      "source": [
        "def saludo(gab):\n",
        "    woli = [\n",
        "        f\"Hola {gab}, ¡qué alegría verte hoy!\",\n",
        "        f\"Bienvenido {gab}, espero que tu día sea increíble.\",\n",
        "        f\"¡Hola {gab}! Te estaba esperando con mucha energía positiva.\",\n",
        "        f\"Saludos cordiales, {gab}. ¡Que todo te vaya excelente!\",\n",
        "        f\"¡Muy buenos días, {gab}! :)\",\n",
        "        f\"Qué gusto saludarte, {gab}. ¡Vamos por un gran día!\",\n",
        "        f\"{gab}, recuerda que eres una persona única y especial.\",\n",
        "        f\"¡Hola {gab}! Hoy es un gran día para sonreír.\",\n",
        "        f\"Bienvenido {gab}, que la luz te acompañe siempre.\",\n",
        "        f\"¡Hey {gab}! Me alegra mucho verte por aquí.\",\n",
        "        f\"Hola {gab}, que cada paso que des hoy te acerque a tus sueños.\",\n",
        "        f\"¡Saludos, {gab}! Que tengas un día lleno de magia.\",\n",
        "        f\"{gab}, eres una fuente de inspiración para los demás.\",\n",
        "        f\"¡Hola {gab}! Que la alegría sea tu compañera hoy.\",\n",
        "        f\"Bienvenido {gab}, ¡gracias por estar aquí!\",\n",
        "        f\"Qué honor tenerte aquí, {gab}. ;)\",\n",
        "        f\"¡Hola {gab}! Nunca olvides lo valioso que eres.\",\n",
        "        f\"Saludos cálidos para ti, {gab}.\",\n",
        "        f\"Hola {gab}, ¡hoy es un día perfecto para empezar algo nuevo!\",\n",
        "        f\"¡Hola querido {gab}! Estoy feliz de compartir este momento contigo.\"\n",
        "    ]\n",
        "    return random.choice(woli)\n",
        "print(saludo(\"Santiago\"))"
      ],
      "metadata": {
        "id": "gcWBhYti2cgy",
        "colab": {
          "base_uri": "https://localhost:8080/"
        },
        "outputId": "d546ac7d-3d3a-4091-e5a1-888b2b252d99"
      },
      "execution_count": 37,
      "outputs": [
        {
          "output_type": "stream",
          "name": "stdout",
          "text": [
            "¡Hey Santiago! Me alegra mucho verte por aquí.\n"
          ]
        }
      ]
    },
    {
      "cell_type": "code",
      "source": [
        "saludos=lambda gab: random.choice([ f\"Hola {gab}, ¡qué alegría verte hoy!\",\n",
        "        f\"Bienvenido {gab}, espero que tu día sea increíble.\",\n",
        "        f\"¡Hola {gab}! Te estaba esperando con mucha energía positiva.\",\n",
        "        f\"Saludos cordiales, {gab}. ¡Que todo te vaya excelente!\",\n",
        "        f\"¡Muy buenos días, {gab}! :)\",\n",
        "        f\"Qué gusto saludarte, {gab}. ¡Vamos por un gran día!\",\n",
        "        f\"{gab}, recuerda que eres una persona única y especial.\",\n",
        "        f\"¡Hola {gab}! Hoy es un gran día para sonreír.\",\n",
        "        f\"Bienvenido {gab}, que la luz te acompañe siempre.\",\n",
        "        f\"¡Hey {gab}! Me alegra mucho verte por aquí.\",\n",
        "        f\"Hola {gab}, que cada paso que des hoy te acerque a tus sueños.\",\n",
        "        f\"¡Saludos, {gab}! Que tengas un día lleno de magia.\",\n",
        "        f\"{gab}, eres una fuente de inspiración para los demás.\",\n",
        "        f\"¡Hola {gab}! Que la alegría sea tu compañera hoy.\",\n",
        "        f\"Bienvenido {gab}, ¡gracias por estar aquí!\",\n",
        "        f\"Qué honor tenerte aquí, {gab}. ;)\",\n",
        "        f\"¡Hola {gab}! Nunca olvides lo valioso que eres.\",\n",
        "        f\"Saludos cálidos para ti, {gab}.\",\n",
        "        f\"Hola {gab}, ¡hoy es un día perfecto para empezar algo nuevo!\",\n",
        "        f\"¡Hola querido {gab}! Estoy feliz de compartir este momento contigo.\"])\n",
        "saludos(\"Santiago\")"
      ],
      "metadata": {
        "colab": {
          "base_uri": "https://localhost:8080/",
          "height": 36
        },
        "id": "ihEWrGSJ3ZKD",
        "outputId": "4ed8494d-6947-49c9-b8c3-7827c8b2cfe2"
      },
      "execution_count": 46,
      "outputs": [
        {
          "output_type": "execute_result",
          "data": {
            "text/plain": [
              "'Hola Santiago, ¡hoy es un día perfecto para empezar algo nuevo!'"
            ],
            "application/vnd.google.colaboratory.intrinsic+json": {
              "type": "string"
            }
          },
          "metadata": {},
          "execution_count": 46
        }
      ]
    },
    {
      "cell_type": "markdown",
      "source": [
        "##3"
      ],
      "metadata": {
        "id": "TOqUfNLT56A8"
      }
    },
    {
      "cell_type": "code",
      "source": [
        "def ma(a,b):\n",
        "  print(f\"La suma de {a} + {b} es {a+b}\")\n",
        "  print(f\"La resta de {a} - {b} es {a-b}\")\n",
        "  print(f\"La multiplicación de {a} + {b} es {a*b}\")\n",
        "  print(f\"La divición de {a} + {b} es {a/b}\")\n",
        "ma(2,9)"
      ],
      "metadata": {
        "colab": {
          "base_uri": "https://localhost:8080/"
        },
        "id": "5aIvI1Q857Ij",
        "outputId": "2c36f6d8-2312-472c-b110-6a63fba9f5c3"
      },
      "execution_count": 47,
      "outputs": [
        {
          "output_type": "stream",
          "name": "stdout",
          "text": [
            "La suma de 2 + 9 es 11\n",
            "La resta de 2 - 9 es -7\n",
            "La multiplicación de 2 + 9 es 18\n",
            "La divición de 2 + 9 es 0.2222222222222222\n"
          ]
        }
      ]
    },
    {
      "cell_type": "code",
      "source": [
        "ma=lambda a,b:(a+b,a-b,a*b,a/b)\n",
        "ma(2,9)"
      ],
      "metadata": {
        "colab": {
          "base_uri": "https://localhost:8080/"
        },
        "id": "Qjd4xRva6lH6",
        "outputId": "6c51511f-81c3-48ca-d8b9-135f8b7a4a5b"
      },
      "execution_count": 48,
      "outputs": [
        {
          "output_type": "execute_result",
          "data": {
            "text/plain": [
              "(11, -7, 18, 0.2222222222222222)"
            ]
          },
          "metadata": {},
          "execution_count": 48
        }
      ]
    },
    {
      "cell_type": "markdown",
      "source": [
        "##4"
      ],
      "metadata": {
        "id": "ZEkuS7117Fgs"
      }
    },
    {
      "cell_type": "code",
      "source": [
        "def edad(a):\n",
        "  if a>=18:\n",
        "    print(\"eres mayor de edad\")\n",
        "  else:\n",
        "    print(\"eres menor de edad\")\n",
        "    return\n",
        "edad(19)"
      ],
      "metadata": {
        "colab": {
          "base_uri": "https://localhost:8080/"
        },
        "id": "7Ms7pZL07GmT",
        "outputId": "8b666187-841d-4b30-f2f0-226b76f04668"
      },
      "execution_count": 64,
      "outputs": [
        {
          "output_type": "stream",
          "name": "stdout",
          "text": [
            "eres mayor de edad\n"
          ]
        }
      ]
    },
    {
      "cell_type": "code",
      "source": [
        "edad=lambda a:(\"eres mayor de edad\" if a>=18  else \"eres menor de edad\")\n",
        "edad(13)"
      ],
      "metadata": {
        "colab": {
          "base_uri": "https://localhost:8080/",
          "height": 36
        },
        "id": "2Mmqc0a07Zk8",
        "outputId": "e92f3b17-ca0e-449e-fdcf-e25e10c1e17f"
      },
      "execution_count": 56,
      "outputs": [
        {
          "output_type": "execute_result",
          "data": {
            "text/plain": [
              "'eres menor de edad'"
            ],
            "application/vnd.google.colaboratory.intrinsic+json": {
              "type": "string"
            }
          },
          "metadata": {},
          "execution_count": 56
        }
      ]
    },
    {
      "cell_type": "markdown",
      "source": [
        "##5"
      ],
      "metadata": {
        "id": "l9X0OePi9Mwz"
      }
    },
    {
      "cell_type": "code",
      "source": [
        "def pali(t):\n",
        "  if t == t[::-1]:\n",
        "    print(\"es palindromo\")\n",
        "  else:\n",
        "    print(\"no es palindromo\")\n",
        "pali(\"woli\")"
      ],
      "metadata": {
        "colab": {
          "base_uri": "https://localhost:8080/"
        },
        "id": "WFE97t6D9ODT",
        "outputId": "36754027-4ba0-4836-c281-fc378647d48e"
      },
      "execution_count": 71,
      "outputs": [
        {
          "output_type": "stream",
          "name": "stdout",
          "text": [
            "no es palindromo\n"
          ]
        }
      ]
    },
    {
      "cell_type": "code",
      "source": [
        "pali=lambda t: \"es palindromo\" if t==t[::-1] else \"no es palindromo\"\n",
        "pali(\"aña\")"
      ],
      "metadata": {
        "colab": {
          "base_uri": "https://localhost:8080/",
          "height": 36
        },
        "id": "_DjM9tij_N7b",
        "outputId": "93b93b89-f78e-4a76-c0f9-a80bfa2d4081"
      },
      "execution_count": 72,
      "outputs": [
        {
          "output_type": "execute_result",
          "data": {
            "text/plain": [
              "'es palindromo'"
            ],
            "application/vnd.google.colaboratory.intrinsic+json": {
              "type": "string"
            }
          },
          "metadata": {},
          "execution_count": 72
        }
      ]
    },
    {
      "cell_type": "markdown",
      "source": [
        "##6"
      ],
      "metadata": {
        "id": "HLuoVyQY_d_q"
      }
    },
    {
      "cell_type": "code",
      "source": [
        "def y(g):\n",
        "  print(len(g))\n",
        "y(\"hola\")\n",
        "y(\"rtvtyjjjfjrdf\")"
      ],
      "metadata": {
        "colab": {
          "base_uri": "https://localhost:8080/"
        },
        "id": "BE9J4-cL_f9E",
        "outputId": "63ea3511-061b-4605-81e6-831a71952b90"
      },
      "execution_count": 74,
      "outputs": [
        {
          "output_type": "stream",
          "name": "stdout",
          "text": [
            "4\n",
            "13\n"
          ]
        }
      ]
    },
    {
      "cell_type": "code",
      "source": [
        "y=lambda g: len(g)\n",
        "y(\"tolo\")"
      ],
      "metadata": {
        "colab": {
          "base_uri": "https://localhost:8080/"
        },
        "id": "c1aqvK2t_3ua",
        "outputId": "00aa4bc6-9200-4a64-8f80-6b3862cd7f14"
      },
      "execution_count": 75,
      "outputs": [
        {
          "output_type": "execute_result",
          "data": {
            "text/plain": [
              "4"
            ]
          },
          "metadata": {},
          "execution_count": 75
        }
      ]
    },
    {
      "cell_type": "markdown",
      "source": [
        "##7"
      ],
      "metadata": {
        "id": "FfaqCY4yAFPq"
      }
    },
    {
      "cell_type": "code",
      "source": [
        "def t(f):\n",
        "  return sum(f)\n",
        "print(t([1,2,3,4,5]))"
      ],
      "metadata": {
        "colab": {
          "base_uri": "https://localhost:8080/"
        },
        "id": "yXp5wrlUAG3x",
        "outputId": "f3353ba4-87bc-4ff1-86ed-b07be59a5063"
      },
      "execution_count": 83,
      "outputs": [
        {
          "output_type": "stream",
          "name": "stdout",
          "text": [
            "15\n"
          ]
        }
      ]
    },
    {
      "cell_type": "code",
      "source": [
        "t=lambda f:sum(f)\n",
        "\n",
        "print(t([1, 2, 3, 4, 5]))"
      ],
      "metadata": {
        "colab": {
          "base_uri": "https://localhost:8080/"
        },
        "id": "kiB3j7-1CqOj",
        "outputId": "b6a890c7-a7c5-46d8-917a-70f2d99f079d"
      },
      "execution_count": 87,
      "outputs": [
        {
          "output_type": "stream",
          "name": "stdout",
          "text": [
            "15\n"
          ]
        }
      ]
    },
    {
      "cell_type": "markdown",
      "source": [
        "##8"
      ],
      "metadata": {
        "id": "7dp5V_N4C9dl"
      }
    },
    {
      "cell_type": "code",
      "source": [
        "def m(u):\n",
        "  print(max(u),min(u))\n",
        "m([1,2,3,4,5])"
      ],
      "metadata": {
        "colab": {
          "base_uri": "https://localhost:8080/"
        },
        "id": "jdzA0p3RC_GK",
        "outputId": "8495c60e-4f2e-480d-920d-68d0981d6d16"
      },
      "execution_count": 89,
      "outputs": [
        {
          "output_type": "stream",
          "name": "stdout",
          "text": [
            "5 1\n"
          ]
        }
      ]
    },
    {
      "cell_type": "code",
      "source": [
        "m=lambda u: (max(u),min(u))\n",
        "print(m([1,2,3,4,5]))"
      ],
      "metadata": {
        "colab": {
          "base_uri": "https://localhost:8080/"
        },
        "id": "COISQIr_Ddyq",
        "outputId": "b9b281ed-a24e-4ac3-838f-ac07845f25a1"
      },
      "execution_count": 91,
      "outputs": [
        {
          "output_type": "stream",
          "name": "stdout",
          "text": [
            "(5, 1)\n"
          ]
        }
      ]
    },
    {
      "cell_type": "markdown",
      "source": [
        "##9"
      ],
      "metadata": {
        "id": "CfCNvjyGD-X0"
      }
    },
    {
      "cell_type": "code",
      "source": [
        "def b(kl):\n",
        "  print(kl[::-1])\n",
        "b([1,2,3,4,5])"
      ],
      "metadata": {
        "colab": {
          "base_uri": "https://localhost:8080/"
        },
        "id": "fovtOz0CEACK",
        "outputId": "5ea5c3f1-0e15-42ac-f650-a49ee7c1a2f3"
      },
      "execution_count": 92,
      "outputs": [
        {
          "output_type": "stream",
          "name": "stdout",
          "text": [
            "[5, 4, 3, 2, 1]\n"
          ]
        }
      ]
    },
    {
      "cell_type": "code",
      "source": [
        "b=lambda kl: (kl[::-1])\n",
        "print(b([1,2,3,4,5]))"
      ],
      "metadata": {
        "colab": {
          "base_uri": "https://localhost:8080/"
        },
        "id": "zJHZofhHEWhi",
        "outputId": "57dfa0f4-39ef-456f-f332-8022debc85eb"
      },
      "execution_count": 94,
      "outputs": [
        {
          "output_type": "stream",
          "name": "stdout",
          "text": [
            "[5, 4, 3, 2, 1]\n"
          ]
        }
      ]
    },
    {
      "cell_type": "markdown",
      "source": [
        "##10"
      ],
      "metadata": {
        "id": "evxuOg2CEnVT"
      }
    },
    {
      "cell_type": "code",
      "source": [
        "def kj(dl):\n",
        "  resultado = []\n",
        "  for h in dl:\n",
        "      if h[0].lower() in \"aeiou\":\n",
        "        resultado.append(h)\n",
        "  return resultado\n",
        "\n",
        "nombres = [\"Ana\", \"Oscar\", \"Pedro\", \"Elena\", \"Uriel\", \"Sofía\", \"Ignacio\", \"María\"]\n",
        "print(kj(nombres))"
      ],
      "metadata": {
        "colab": {
          "base_uri": "https://localhost:8080/"
        },
        "id": "5NmQcWgPEo9K",
        "outputId": "f21c4791-f094-453e-f9ba-808056663898"
      },
      "execution_count": 97,
      "outputs": [
        {
          "output_type": "stream",
          "name": "stdout",
          "text": [
            "['Ana', 'Oscar', 'Elena', 'Uriel', 'Ignacio']\n"
          ]
        }
      ]
    },
    {
      "cell_type": "code",
      "source": [
        "kj = lambda dl: [h for h in dl if h[0].lower() in \"aeiou\"]\n",
        "nombres = [\"Ana\", \"Oscar\", \"Pedro\", \"Elena\", \"Uriel\", \"Sofía\", \"Ignacio\", \"María\"]\n",
        "print(kj(nombres))"
      ],
      "metadata": {
        "colab": {
          "base_uri": "https://localhost:8080/"
        },
        "id": "KF0O59SfMW-3",
        "outputId": "06f48b29-d735-457a-ee66-b03e43ec6c8a"
      },
      "execution_count": 100,
      "outputs": [
        {
          "output_type": "stream",
          "name": "stdout",
          "text": [
            "['Ana', 'Oscar', 'Elena', 'Uriel', 'Ignacio']\n"
          ]
        }
      ]
    },
    {
      "cell_type": "markdown",
      "source": [
        "##11"
      ],
      "metadata": {
        "id": "0w6GkEyVNEyD"
      }
    },
    {
      "cell_type": "code",
      "source": [
        "def v(hg):\n",
        " return list(set(hg))\n",
        "print(v([1, 2, 2, 3, 4, 4, 5, 4, \"f\", \"f\"]))"
      ],
      "metadata": {
        "colab": {
          "base_uri": "https://localhost:8080/"
        },
        "id": "qcjZ3VOtNFk4",
        "outputId": "38e46dd5-2ec1-4d87-bf5f-4c3a959faa36"
      },
      "execution_count": 105,
      "outputs": [
        {
          "output_type": "stream",
          "name": "stdout",
          "text": [
            "[1, 2, 3, 4, 5, 'f']\n"
          ]
        }
      ]
    },
    {
      "cell_type": "code",
      "source": [
        "v=lambda hg: list(set(hg))\n",
        "print(v([1, 2, 2, 3, 4, 4, 5, 4, \"f\", \"f\"]))"
      ],
      "metadata": {
        "colab": {
          "base_uri": "https://localhost:8080/"
        },
        "id": "lMn06xsVO0ke",
        "outputId": "a1136596-b5ef-4e92-8de3-1c371308d452"
      },
      "execution_count": 106,
      "outputs": [
        {
          "output_type": "stream",
          "name": "stdout",
          "text": [
            "[1, 2, 3, 4, 5, 'f']\n"
          ]
        }
      ]
    },
    {
      "cell_type": "markdown",
      "source": [
        "##12"
      ],
      "metadata": {
        "id": "_l2TtTgtO8yT"
      }
    },
    {
      "cell_type": "code",
      "source": [
        "def df(ef):\n",
        "    wa = []\n",
        "    for n in ef:\n",
        "        if n > 1:\n",
        "            shi = True\n",
        "            for i in range(2, n):\n",
        "                if n % i == 0:\n",
        "                    shi = False\n",
        "                    break\n",
        "            if shi:\n",
        "                wa.append(n)\n",
        "    return wa\n",
        "numeros = [2, 3, 4, 5, 6, 7, 8, 9, 10, 11,13,15,17]\n",
        "print(primos_en_lista(numeros))"
      ],
      "metadata": {
        "colab": {
          "base_uri": "https://localhost:8080/"
        },
        "id": "BWnkYAaWO9_E",
        "outputId": "b4793f7e-cfe7-4b22-bacc-adc13bcddb46"
      },
      "execution_count": 118,
      "outputs": [
        {
          "output_type": "stream",
          "name": "stdout",
          "text": [
            "[2, 3, 5, 7, 11, 13, 17]\n"
          ]
        }
      ]
    },
    {
      "cell_type": "code",
      "source": [
        "df = lambda ef: [n for n in ef if n > 1 and all(n % i != 0 for i in range(2, n))]\n",
        "numeros = [2, 3, 4, 5, 6, 7, 8, 9, 10, 11, 13, 15, 17]\n",
        "print(df(numeros))"
      ],
      "metadata": {
        "colab": {
          "base_uri": "https://localhost:8080/"
        },
        "id": "Y8Nk2MXuSw78",
        "outputId": "c0292e95-756f-4dcc-b3ed-a5c301b0b633"
      },
      "execution_count": 117,
      "outputs": [
        {
          "output_type": "stream",
          "name": "stdout",
          "text": [
            "[2, 3, 5, 7, 11, 13, 17]\n"
          ]
        }
      ]
    },
    {
      "cell_type": "markdown",
      "source": [
        "##13"
      ],
      "metadata": {
        "id": "y8PrhGH5V5c2"
      }
    },
    {
      "cell_type": "code",
      "source": [
        "def ms(dic):\n",
        "    nombre = dic[\"nombre\"]\n",
        "    edad = dic[\"edad\"]\n",
        "    return f\"El nombre es {nombre} y tiene {edad} años.\"\n",
        "persona = {\"nombre\": \"Ana\", \"edad\": 25}\n",
        "print(ms(persona))"
      ],
      "metadata": {
        "colab": {
          "base_uri": "https://localhost:8080/"
        },
        "id": "DdttshigV6gV",
        "outputId": "20d585b7-8be6-400a-d3ae-2a54abc37322"
      },
      "execution_count": 121,
      "outputs": [
        {
          "output_type": "stream",
          "name": "stdout",
          "text": [
            "El nombre es Ana y tiene 25 años.\n"
          ]
        }
      ]
    },
    {
      "cell_type": "code",
      "source": [
        "ms = lambda dic: f\"El nombre es {dic['nombre']} y tiene {dic['edad']} años.\"\n",
        "persona = {\"nombre\": \"Carlos\", \"edad\": 30}\n",
        "print(ms(persona))"
      ],
      "metadata": {
        "colab": {
          "base_uri": "https://localhost:8080/"
        },
        "id": "5h5XBsJKWNeE",
        "outputId": "80c49410-443b-46db-9101-a924b0338031"
      },
      "execution_count": 122,
      "outputs": [
        {
          "output_type": "stream",
          "name": "stdout",
          "text": [
            "El nombre es Carlos y tiene 30 años.\n"
          ]
        }
      ]
    },
    {
      "cell_type": "markdown",
      "source": [
        "##14"
      ],
      "metadata": {
        "id": "D5my2RfiTci8"
      }
    },
    {
      "cell_type": "code",
      "source": [
        "def xz(qw):\n",
        "    ab = 0\n",
        "    for rt in qw.values():\n",
        "        ab += rt\n",
        "    return ab\n",
        "productos = {\"pan\": 3000, \"leche\": 4500, \"queso\": 12000}\n",
        "print(xz(productos))"
      ],
      "metadata": {
        "colab": {
          "base_uri": "https://localhost:8080/"
        },
        "id": "v1m0xFhCTcZO",
        "outputId": "e553285b-cb7d-4099-8f34-73b1bbd1e93d"
      },
      "execution_count": 119,
      "outputs": [
        {
          "output_type": "stream",
          "name": "stdout",
          "text": [
            "19500\n"
          ]
        }
      ]
    },
    {
      "cell_type": "code",
      "source": [
        "xz = lambda qw: sum(qw.values())\n",
        "productos = {\"pan\": 3000, \"leche\": 4500, \"queso\": 12000}\n",
        "print(xz(productos))"
      ],
      "metadata": {
        "colab": {
          "base_uri": "https://localhost:8080/"
        },
        "id": "2BEFD5ymVpnE",
        "outputId": "48d30771-63ec-4662-9f9c-69276f5f5484"
      },
      "execution_count": 120,
      "outputs": [
        {
          "output_type": "stream",
          "name": "stdout",
          "text": [
            "19500\n"
          ]
        }
      ]
    },
    {
      "cell_type": "markdown",
      "source": [
        "##15"
      ],
      "metadata": {
        "id": "UqirYg47V0qm"
      }
    },
    {
      "cell_type": "code",
      "source": [
        "def kl(zx):\n",
        "    rt = sum(zx.values())\n",
        "    qp = len(zx)\n",
        "    return rt / qp if qp > 0 else 0\n",
        "st = {\"Ana\": 4.5, \"Carlos\": 3.8, \"María\": 4.2}\n",
        "print(kl(st))"
      ],
      "metadata": {
        "colab": {
          "base_uri": "https://localhost:8080/"
        },
        "id": "Q1IAKFHlV1is",
        "outputId": "a49a3a14-0af0-400c-f0a5-e51c7f7dc78c"
      },
      "execution_count": 123,
      "outputs": [
        {
          "output_type": "stream",
          "name": "stdout",
          "text": [
            "4.166666666666667\n"
          ]
        }
      ]
    },
    {
      "cell_type": "code",
      "source": [
        "kl = lambda zx: sum(zx.values()) / len(zx) if len(zx) > 0 else 0\n",
        "st = {\"Ana\": 4.5, \"Carlos\": 3.8, \"María\": 4.2}\n",
        "print(kl(st))"
      ],
      "metadata": {
        "colab": {
          "base_uri": "https://localhost:8080/"
        },
        "id": "WGNd1_AyW0EU",
        "outputId": "83a3ad56-a6be-4669-eb2a-4a800d3da2aa"
      },
      "execution_count": 124,
      "outputs": [
        {
          "output_type": "stream",
          "name": "stdout",
          "text": [
            "4.166666666666667\n"
          ]
        }
      ]
    },
    {
      "cell_type": "markdown",
      "source": [
        "##16"
      ],
      "metadata": {
        "id": "_aoJL1ENXc74"
      }
    },
    {
      "cell_type": "code",
      "source": [
        "def hj(xz, nm):\n",
        "    return xz[nm] if nm in xz else \"no encontrado\"\n",
        "st = {\"Ana\": 4.5, \"Carlos\": 3.8, \"María\": 4.9}\n",
        "print(hj(st, \"Carlos\"))\n",
        "print(hj(st, \"Pedro\"))"
      ],
      "metadata": {
        "colab": {
          "base_uri": "https://localhost:8080/"
        },
        "id": "g8Jq7M9MXeBM",
        "outputId": "5eedae14-e951-4d17-8f35-7b16ac5a496e"
      },
      "execution_count": 127,
      "outputs": [
        {
          "output_type": "stream",
          "name": "stdout",
          "text": [
            "3.8\n",
            "no encontrado\n"
          ]
        }
      ]
    },
    {
      "cell_type": "code",
      "source": [
        "hj = lambda xz, nm: xz[nm] if nm in xz else \"no encontrado\"\n",
        "st = {\"Ana\": 4.5, \"Carlos\": 3.8, \"María\": 4.9}\n",
        "print(hj(st, \"Ana\"))\n",
        "print(hj(st, \"Luis\"))"
      ],
      "metadata": {
        "colab": {
          "base_uri": "https://localhost:8080/"
        },
        "id": "HjWCBGmGXjXt",
        "outputId": "a95116fc-a9c3-4f5e-8f79-12d90f962ab2"
      },
      "execution_count": 128,
      "outputs": [
        {
          "output_type": "stream",
          "name": "stdout",
          "text": [
            "4.5\n",
            "no encontrado\n"
          ]
        }
      ]
    },
    {
      "cell_type": "markdown",
      "source": [
        "##17"
      ],
      "metadata": {
        "id": "b9y9DXF6W3NE"
      }
    },
    {
      "cell_type": "code",
      "source": [
        "def fg(xy):\n",
        "    ab = max(xy, key=xy.get)\n",
        "    return ab\n",
        "st = {\"Ana\": 4.5, \"Carlos\": 3.8, \"María\": 4.9}\n",
        "print(fg(st))"
      ],
      "metadata": {
        "colab": {
          "base_uri": "https://localhost:8080/"
        },
        "id": "06qB1BwcW4IM",
        "outputId": "93757898-490d-4ccf-f4ea-1ee89eff5c11"
      },
      "execution_count": 125,
      "outputs": [
        {
          "output_type": "stream",
          "name": "stdout",
          "text": [
            "María\n"
          ]
        }
      ]
    },
    {
      "cell_type": "code",
      "source": [
        "fg = lambda xy: max(xy, key=xy.get)\n",
        "st = {\"Ana\": 4.5, \"Carlos\": 3.8, \"María\": 4.9}\n",
        "print(fg(st))"
      ],
      "metadata": {
        "colab": {
          "base_uri": "https://localhost:8080/"
        },
        "id": "iJ4nbpyLXJLF",
        "outputId": "d9163621-0a22-4eb2-da94-0297ebbdb622"
      },
      "execution_count": 126,
      "outputs": [
        {
          "output_type": "stream",
          "name": "stdout",
          "text": [
            "María\n"
          ]
        }
      ]
    },
    {
      "cell_type": "markdown",
      "source": [
        "##18"
      ],
      "metadata": {
        "id": "4HpxPH4GXMov"
      }
    },
    {
      "cell_type": "code",
      "source": [
        "def rt(qw, vl):\n",
        "    rs = {}\n",
        "    for k, v in qw.items():\n",
        "        if v > vl:\n",
        "            rs[k] = v\n",
        "    return rs\n",
        "pr = {\"pan\": 3000, \"leche\": 4500, \"queso\": 12000, \"huevos\": 2000}\n",
        "print(rt(pr, 4000))"
      ],
      "metadata": {
        "colab": {
          "base_uri": "https://localhost:8080/"
        },
        "id": "s22yJZ_TXNkN",
        "outputId": "40304614-533f-4ef8-f6aa-bc061dba2f82"
      },
      "execution_count": 129,
      "outputs": [
        {
          "output_type": "stream",
          "name": "stdout",
          "text": [
            "{'leche': 4500, 'queso': 12000}\n"
          ]
        }
      ]
    },
    {
      "cell_type": "code",
      "source": [
        "rt = lambda qw, vl: {k: v for k, v in qw.items() if v > vl}\n",
        "pr = {\"pan\": 3000, \"leche\": 4500, \"queso\": 12000, \"huevos\": 2000}\n",
        "print(rt(pr, 4000))"
      ],
      "metadata": {
        "colab": {
          "base_uri": "https://localhost:8080/"
        },
        "id": "O9ktsqSyX9Tv",
        "outputId": "e5150b99-1fbc-4ae8-be53-06818b8b34f2"
      },
      "execution_count": 130,
      "outputs": [
        {
          "output_type": "stream",
          "name": "stdout",
          "text": [
            "{'leche': 4500, 'queso': 12000}\n"
          ]
        }
      ]
    },
    {
      "cell_type": "markdown",
      "source": [
        "##19"
      ],
      "metadata": {
        "id": "KUybRWntYChF"
      }
    },
    {
      "cell_type": "code",
      "source": [
        "def zx(qw):\n",
        "    rs = {}\n",
        "    for k, v in qw.items():\n",
        "        rs[k] = sum(v)\n",
        "    return rs\n",
        "st = {\n",
        "    \"Ana\": [5, 6, 4],\n",
        "    \"Carlos\": [8, 7, 6],\n",
        "    \"María\": [4, 4, 5, 6]\n",
        "}\n",
        "print(zx(st))"
      ],
      "metadata": {
        "colab": {
          "base_uri": "https://localhost:8080/"
        },
        "id": "98BBIArAYA4H",
        "outputId": "2fc6f4ef-52df-4cfd-b3c2-2cb0928358e7"
      },
      "execution_count": 131,
      "outputs": [
        {
          "output_type": "stream",
          "name": "stdout",
          "text": [
            "{'Ana': 15, 'Carlos': 21, 'María': 19}\n"
          ]
        }
      ]
    },
    {
      "cell_type": "code",
      "source": [
        "zx = lambda qw: {k: sum(v) for k, v in qw.items()}\n",
        "st = {\n",
        "    \"Ana\": [5, 6, 4],\n",
        "    \"Carlos\": [8, 7, 6],\n",
        "    \"María\": [4, 4, 5, 6]\n",
        "}\n",
        "print(zx(st))"
      ],
      "metadata": {
        "colab": {
          "base_uri": "https://localhost:8080/"
        },
        "id": "aA5LoPy8YcEU",
        "outputId": "69832cf5-f4ce-48f4-f02a-8f75dd5b5987"
      },
      "execution_count": 132,
      "outputs": [
        {
          "output_type": "stream",
          "name": "stdout",
          "text": [
            "{'Ana': 15, 'Carlos': 21, 'María': 19}\n"
          ]
        }
      ]
    },
    {
      "cell_type": "markdown",
      "source": [
        "##20"
      ],
      "metadata": {
        "id": "2biP0VDmYe0E"
      }
    },
    {
      "cell_type": "code",
      "source": [
        "def rt(qw):\n",
        "    nt = [v[\"nota\"] for v in qw.values() if v[\"edad\"] >= 18]\n",
        "    return sum(nt) / len(nt) if nt else 0\n",
        "st = {\n",
        "    \"Ana\": {\"nota\": 4.5, \"edad\": 17},\n",
        "    \"Carlos\": {\"nota\": 3.8, \"edad\": 20},\n",
        "    \"María\": {\"nota\": 4.9, \"edad\": 22}\n",
        "}\n",
        "print(rt(st))"
      ],
      "metadata": {
        "colab": {
          "base_uri": "https://localhost:8080/"
        },
        "id": "MmbuVHhNYf9U",
        "outputId": "861dde18-2c6d-4f87-c3e5-52c1a2b63a07"
      },
      "execution_count": 133,
      "outputs": [
        {
          "output_type": "stream",
          "name": "stdout",
          "text": [
            "4.35\n"
          ]
        }
      ]
    },
    {
      "cell_type": "code",
      "source": [
        "rt = lambda qw: (sum(v[\"nota\"] for v in qw.values() if v[\"edad\"] >= 18) /\n",
        "                 len([v for v in qw.values() if v[\"edad\"] >= 18])\n",
        "                 if any(v[\"edad\"] >= 18 for v in qw.values()) else 0)\n",
        "st = {\n",
        "    \"Ana\": {\"nota\": 4.5, \"edad\": 17},\n",
        "    \"Carlos\": {\"nota\": 3.8, \"edad\": 20},\n",
        "    \"María\": {\"nota\": 4.9, \"edad\": 22}\n",
        "}\n",
        "print(rt(st))"
      ],
      "metadata": {
        "id": "_YO6aJFZY1gk"
      },
      "execution_count": null,
      "outputs": []
    }
  ]
}