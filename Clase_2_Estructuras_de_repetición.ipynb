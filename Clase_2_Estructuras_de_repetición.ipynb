{
  "nbformat": 4,
  "nbformat_minor": 0,
  "metadata": {
    "colab": {
      "provenance": [],
      "authorship_tag": "ABX9TyMSaIT9uzswlAIK/c7KcCre",
      "include_colab_link": true
    },
    "kernelspec": {
      "name": "python3",
      "display_name": "Python 3"
    },
    "language_info": {
      "name": "python"
    }
  },
  "cells": [
    {
      "cell_type": "markdown",
      "metadata": {
        "id": "view-in-github",
        "colab_type": "text"
      },
      "source": [
        "<a href=\"https://colab.research.google.com/github/santiagorey16/PROGCOM-A/blob/main/Clase_2_Estructuras_de_repetici%C3%B3n.ipynb\" target=\"_parent\"><img src=\"https://colab.research.google.com/assets/colab-badge.svg\" alt=\"Open In Colab\"/></a>"
      ]
    },
    {
      "cell_type": "markdown",
      "source": [
        "#primer punto\n",
        "Permite repetir una o más acciones de acuerdo con una condición (mientras se cumpla la condición)"
      ],
      "metadata": {
        "id": "YsT_rAEQQquH"
      }
    },
    {
      "cell_type": "markdown",
      "source": [
        "##Estructura para -for\n",
        "\n",
        "1. Cuando se sabe cuantas veces se repite una acción.\n",
        "2. Esta confromado por una condición final (CI) una condición final (CF) y pasos (frecuencia de repetición).\n",
        "3. Esta estructura no se detendrá, hasta alcanzar CF-1\n",
        "\n",
        "Estructura del for\n",
        "```\n",
        "for (variable) in range (CI,CF+1,paso):\n",
        "  Se repite (CF+1-CI)/paso veces una acción\n",
        "```\n",
        "Estructura resumida del for\n",
        "```\n",
        "for (variable) in range (cantidad):\n",
        "  Se repite canidad de veces una acción\n",
        "```\n",
        "Estructura for como iteración\n",
        "1. El para (for) itera tantas veces, como elementos tenga la lista\n",
        "2. La variable toma el valor de cada elemento de la lista por iteración\n",
        "\n",
        "```\n",
        "Lista=[1,2,3,4,5]\n",
        "for (variable) in Lista:\n",
        "  Se repite Len(Lista)\n",
        "```\n",
        "\n",
        "\n"
      ],
      "metadata": {
        "id": "ndjFuBGnRZef"
      }
    },
    {
      "cell_type": "code",
      "execution_count": null,
      "metadata": {
        "colab": {
          "base_uri": "https://localhost:8080/"
        },
        "id": "2O6VJcciHC4p",
        "outputId": "44946185-e196-4f2b-dbea-d5768bb8da55"
      },
      "outputs": [
        {
          "output_type": "stream",
          "name": "stdout",
          "text": [
            "Ingresa un numero: 4\n",
            "Tabla del 4\n",
            "1 x 4 = 4\n",
            "2 x 4 = 8\n",
            "3 x 4 = 12\n",
            "4 x 4 = 16\n",
            "5 x 4 = 20\n",
            "6 x 4 = 24\n",
            "7 x 4 = 28\n",
            "8 x 4 = 32\n",
            "9 x 4 = 36\n",
            "10 x 4 = 40\n"
          ]
        }
      ],
      "source": [
        "#Hacer la tabala de multiplicar de un numero n\n",
        "a=int(input(\"Ingresa un numero: \"))\n",
        "print(f\"Tabla del {a}\")\n",
        "for e in range(1,11,1):\n",
        "  print(f\"{e} x {a} = {a*e}\")\n"
      ]
    },
    {
      "cell_type": "code",
      "source": [
        "print(\"Tablas de 1 al 10\\n\")\n",
        "for tabla in range(1,11,1):\n",
        "  print(f\"tabla del {tabla}\")\n",
        "  for numero in range(1,11,1):\n",
        "    print(f\"{tabla} x {numero} = {tabla*numero}\")\n",
        "  print(\" \")"
      ],
      "metadata": {
        "colab": {
          "base_uri": "https://localhost:8080/"
        },
        "id": "edsCA_R7VErb",
        "outputId": "ac2fba47-bae4-4fa3-ef5f-9ddbe1e6de24"
      },
      "execution_count": null,
      "outputs": [
        {
          "output_type": "stream",
          "name": "stdout",
          "text": [
            "Tablas de 1 al 10\n",
            "\n",
            "tabla del 1\n",
            "1 x 1 = 1\n",
            "1 x 2 = 2\n",
            "1 x 3 = 3\n",
            "1 x 4 = 4\n",
            "1 x 5 = 5\n",
            "1 x 6 = 6\n",
            "1 x 7 = 7\n",
            "1 x 8 = 8\n",
            "1 x 9 = 9\n",
            "1 x 10 = 10\n",
            " \n",
            "tabla del 2\n",
            "2 x 1 = 2\n",
            "2 x 2 = 4\n",
            "2 x 3 = 6\n",
            "2 x 4 = 8\n",
            "2 x 5 = 10\n",
            "2 x 6 = 12\n",
            "2 x 7 = 14\n",
            "2 x 8 = 16\n",
            "2 x 9 = 18\n",
            "2 x 10 = 20\n",
            " \n",
            "tabla del 3\n",
            "3 x 1 = 3\n",
            "3 x 2 = 6\n",
            "3 x 3 = 9\n",
            "3 x 4 = 12\n",
            "3 x 5 = 15\n",
            "3 x 6 = 18\n",
            "3 x 7 = 21\n",
            "3 x 8 = 24\n",
            "3 x 9 = 27\n",
            "3 x 10 = 30\n",
            " \n",
            "tabla del 4\n",
            "4 x 1 = 4\n",
            "4 x 2 = 8\n",
            "4 x 3 = 12\n",
            "4 x 4 = 16\n",
            "4 x 5 = 20\n",
            "4 x 6 = 24\n",
            "4 x 7 = 28\n",
            "4 x 8 = 32\n",
            "4 x 9 = 36\n",
            "4 x 10 = 40\n",
            " \n",
            "tabla del 5\n",
            "5 x 1 = 5\n",
            "5 x 2 = 10\n",
            "5 x 3 = 15\n",
            "5 x 4 = 20\n",
            "5 x 5 = 25\n",
            "5 x 6 = 30\n",
            "5 x 7 = 35\n",
            "5 x 8 = 40\n",
            "5 x 9 = 45\n",
            "5 x 10 = 50\n",
            " \n",
            "tabla del 6\n",
            "6 x 1 = 6\n",
            "6 x 2 = 12\n",
            "6 x 3 = 18\n",
            "6 x 4 = 24\n",
            "6 x 5 = 30\n",
            "6 x 6 = 36\n",
            "6 x 7 = 42\n",
            "6 x 8 = 48\n",
            "6 x 9 = 54\n",
            "6 x 10 = 60\n",
            " \n",
            "tabla del 7\n",
            "7 x 1 = 7\n",
            "7 x 2 = 14\n",
            "7 x 3 = 21\n",
            "7 x 4 = 28\n",
            "7 x 5 = 35\n",
            "7 x 6 = 42\n",
            "7 x 7 = 49\n",
            "7 x 8 = 56\n",
            "7 x 9 = 63\n",
            "7 x 10 = 70\n",
            " \n",
            "tabla del 8\n",
            "8 x 1 = 8\n",
            "8 x 2 = 16\n",
            "8 x 3 = 24\n",
            "8 x 4 = 32\n",
            "8 x 5 = 40\n",
            "8 x 6 = 48\n",
            "8 x 7 = 56\n",
            "8 x 8 = 64\n",
            "8 x 9 = 72\n",
            "8 x 10 = 80\n",
            " \n",
            "tabla del 9\n",
            "9 x 1 = 9\n",
            "9 x 2 = 18\n",
            "9 x 3 = 27\n",
            "9 x 4 = 36\n",
            "9 x 5 = 45\n",
            "9 x 6 = 54\n",
            "9 x 7 = 63\n",
            "9 x 8 = 72\n",
            "9 x 9 = 81\n",
            "9 x 10 = 90\n",
            " \n",
            "tabla del 10\n",
            "10 x 1 = 10\n",
            "10 x 2 = 20\n",
            "10 x 3 = 30\n",
            "10 x 4 = 40\n",
            "10 x 5 = 50\n",
            "10 x 6 = 60\n",
            "10 x 7 = 70\n",
            "10 x 8 = 80\n",
            "10 x 9 = 90\n",
            "10 x 10 = 100\n",
            " \n"
          ]
        }
      ]
    },
    {
      "cell_type": "code",
      "source": [
        "n=int(input(\"Ingresa un numero \"))\n",
        "print(f\"Tabla del {n}\")\n",
        "for holitas in range(n,11*n,n):\n",
        "  print(f\"{n} x {(int(holitas/n))} = {int(holitas)}\")"
      ],
      "metadata": {
        "colab": {
          "base_uri": "https://localhost:8080/"
        },
        "id": "JEFa5FbfZAHw",
        "outputId": "a8f3b630-5549-4730-97e9-94e814ec3e0a"
      },
      "execution_count": null,
      "outputs": [
        {
          "output_type": "stream",
          "name": "stdout",
          "text": [
            "Ingresa un numero 7\n",
            "Tabla del 7\n",
            "7 x 1 = 7\n",
            "7 x 2 = 14\n",
            "7 x 3 = 21\n",
            "7 x 4 = 28\n",
            "7 x 5 = 35\n",
            "7 x 6 = 42\n",
            "7 x 7 = 49\n",
            "7 x 8 = 56\n",
            "7 x 9 = 63\n",
            "7 x 10 = 70\n"
          ]
        }
      ]
    },
    {
      "cell_type": "code",
      "source": [
        "numeros=[1,2,3,4,5,6,7,8,9,10]\n",
        "for num in numeros:\n",
        "  print(f\"{n} x {num} = {n*num}\")"
      ],
      "metadata": {
        "colab": {
          "base_uri": "https://localhost:8080/"
        },
        "id": "xWqYw9bgYAPR",
        "outputId": "dbb85256-b65a-4ded-a634-f0f8d0898947"
      },
      "execution_count": null,
      "outputs": [
        {
          "output_type": "stream",
          "name": "stdout",
          "text": [
            "7 x 1 = 7\n",
            "7 x 2 = 14\n",
            "7 x 3 = 21\n",
            "7 x 4 = 28\n",
            "7 x 5 = 35\n",
            "7 x 6 = 42\n",
            "7 x 7 = 49\n",
            "7 x 8 = 56\n",
            "7 x 9 = 63\n",
            "7 x 10 = 70\n"
          ]
        }
      ]
    },
    {
      "cell_type": "code",
      "source": [
        "numeros2=list(range(1,11))\n",
        "numeros2"
      ],
      "metadata": {
        "colab": {
          "base_uri": "https://localhost:8080/"
        },
        "id": "a31pYWOng0Yi",
        "outputId": "510cd55a-4c37-49bd-c590-735ab9cf3416"
      },
      "execution_count": null,
      "outputs": [
        {
          "output_type": "execute_result",
          "data": {
            "text/plain": [
              "[1, 2, 3, 4, 5, 6, 7, 8, 9, 10]"
            ]
          },
          "metadata": {},
          "execution_count": 11
        }
      ]
    },
    {
      "cell_type": "code",
      "source": [
        "for num in numeros2:\n",
        "  print(f\"{n} x {num} = {n*num}\")"
      ],
      "metadata": {
        "colab": {
          "base_uri": "https://localhost:8080/"
        },
        "id": "aHES4Vnng_gx",
        "outputId": "3b303028-248b-441c-c8eb-7f983904c744"
      },
      "execution_count": null,
      "outputs": [
        {
          "output_type": "stream",
          "name": "stdout",
          "text": [
            "7 x 1 = 7\n",
            "7 x 2 = 14\n",
            "7 x 3 = 21\n",
            "7 x 4 = 28\n",
            "7 x 5 = 35\n",
            "7 x 6 = 42\n",
            "7 x 7 = 49\n",
            "7 x 8 = 56\n",
            "7 x 9 = 63\n",
            "7 x 10 = 70\n"
          ]
        }
      ]
    },
    {
      "cell_type": "markdown",
      "source": [
        "##Listas\n",
        "1. Es un tipor de datos\n",
        "2. Todos los elementos de una lista, **deben** separarse por comas\n",
        "3. Formas canónica para declarar una lista\n",
        "lista\n",
        "```\n",
        "(variable) = []\n",
        "```\n",
        "Ejemplo:\n",
        "flores=[\"amapolas\", \"tulipan\", \"Lengua de suegra\", dahlia,rosa]\n",
        "\n"
      ],
      "metadata": {
        "id": "GAWPsYMNvDs2"
      }
    },
    {
      "cell_type": "code",
      "source": [
        "dahlia=3 #variable de tipo numérico, int\n",
        "rosa=\"cinco\" #variable de tipo alfabetico, str\n",
        "flores=[\"amapolas\", \"tulipan\", \"Lengua de suegra\", dahlia,rosa]"
      ],
      "metadata": {
        "id": "U9n7RLdOucNt"
      },
      "execution_count": 38,
      "outputs": []
    },
    {
      "cell_type": "markdown",
      "source": [
        "4. Manual.\n",
        "\n",
        "```\n",
        "Lista2=[dato1,dato2,dato3...datoN]\n",
        "```\n",
        "5. Simepre son finitas\n",
        "6. Son indexadas\n",
        "```\n",
        "Lista2=[dato1,dato2,dato3...datoN]\n",
        "```\n",
        "dato1 esta en el index 0\n",
        "dato2 esta ubicado en el index 1\n",
        "7. Estrcuturas para **para** la creación de listas\n",
        "\n",
        "```\n",
        "#Ejemplo: Crear una lista de 5 elementos\n",
        "lista=[]#para que el programa sepa que es una lista\n",
        "for loquesea in range(5):\n",
        "  lista=input(\"ingrese el nombre de una flor\")\n",
        "```\n",
        "\n",
        "\n"
      ],
      "metadata": {
        "id": "cGQoGS8vyBQ5"
      }
    },
    {
      "cell_type": "code",
      "source": [
        "lista=[]\n",
        "for loquesea in range(5):\n",
        "  lista=input(\"ingrese el nombre de una flor \")"
      ],
      "metadata": {
        "colab": {
          "base_uri": "https://localhost:8080/",
          "height": 321
        },
        "id": "3mr9R2Vx0Mcv",
        "outputId": "dc4e84b4-714e-47f6-b421-2b532679ca72"
      },
      "execution_count": 67,
      "outputs": [
        {
          "output_type": "error",
          "ename": "KeyboardInterrupt",
          "evalue": "Interrupted by user",
          "traceback": [
            "\u001b[0;31m---------------------------------------------------------------------------\u001b[0m",
            "\u001b[0;31mKeyboardInterrupt\u001b[0m                         Traceback (most recent call last)",
            "\u001b[0;32m/tmp/ipython-input-1129516579.py\u001b[0m in \u001b[0;36m<cell line: 0>\u001b[0;34m()\u001b[0m\n\u001b[1;32m      1\u001b[0m \u001b[0mlista\u001b[0m\u001b[0;34m=\u001b[0m\u001b[0;34m[\u001b[0m\u001b[0;34m]\u001b[0m\u001b[0;34m\u001b[0m\u001b[0;34m\u001b[0m\u001b[0m\n\u001b[1;32m      2\u001b[0m \u001b[0;32mfor\u001b[0m \u001b[0mloquesea\u001b[0m \u001b[0;32min\u001b[0m \u001b[0mrange\u001b[0m\u001b[0;34m(\u001b[0m\u001b[0;36m5\u001b[0m\u001b[0;34m)\u001b[0m\u001b[0;34m:\u001b[0m\u001b[0;34m\u001b[0m\u001b[0;34m\u001b[0m\u001b[0m\n\u001b[0;32m----> 3\u001b[0;31m   \u001b[0mlista\u001b[0m\u001b[0;34m=\u001b[0m\u001b[0minput\u001b[0m\u001b[0;34m(\u001b[0m\u001b[0;34m\"ingrese el nombre de una flor \"\u001b[0m\u001b[0;34m)\u001b[0m\u001b[0;34m\u001b[0m\u001b[0;34m\u001b[0m\u001b[0m\n\u001b[0m",
            "\u001b[0;32m/usr/local/lib/python3.12/dist-packages/ipykernel/kernelbase.py\u001b[0m in \u001b[0;36mraw_input\u001b[0;34m(self, prompt)\u001b[0m\n\u001b[1;32m   1175\u001b[0m                 \u001b[0;34m\"raw_input was called, but this frontend does not support input requests.\"\u001b[0m\u001b[0;34m\u001b[0m\u001b[0;34m\u001b[0m\u001b[0m\n\u001b[1;32m   1176\u001b[0m             )\n\u001b[0;32m-> 1177\u001b[0;31m         return self._input_request(\n\u001b[0m\u001b[1;32m   1178\u001b[0m             \u001b[0mstr\u001b[0m\u001b[0;34m(\u001b[0m\u001b[0mprompt\u001b[0m\u001b[0;34m)\u001b[0m\u001b[0;34m,\u001b[0m\u001b[0;34m\u001b[0m\u001b[0;34m\u001b[0m\u001b[0m\n\u001b[1;32m   1179\u001b[0m             \u001b[0mself\u001b[0m\u001b[0;34m.\u001b[0m\u001b[0m_parent_ident\u001b[0m\u001b[0;34m[\u001b[0m\u001b[0;34m\"shell\"\u001b[0m\u001b[0;34m]\u001b[0m\u001b[0;34m,\u001b[0m\u001b[0;34m\u001b[0m\u001b[0;34m\u001b[0m\u001b[0m\n",
            "\u001b[0;32m/usr/local/lib/python3.12/dist-packages/ipykernel/kernelbase.py\u001b[0m in \u001b[0;36m_input_request\u001b[0;34m(self, prompt, ident, parent, password)\u001b[0m\n\u001b[1;32m   1217\u001b[0m             \u001b[0;32mexcept\u001b[0m \u001b[0mKeyboardInterrupt\u001b[0m\u001b[0;34m:\u001b[0m\u001b[0;34m\u001b[0m\u001b[0;34m\u001b[0m\u001b[0m\n\u001b[1;32m   1218\u001b[0m                 \u001b[0;31m# re-raise KeyboardInterrupt, to truncate traceback\u001b[0m\u001b[0;34m\u001b[0m\u001b[0;34m\u001b[0m\u001b[0m\n\u001b[0;32m-> 1219\u001b[0;31m                 \u001b[0;32mraise\u001b[0m \u001b[0mKeyboardInterrupt\u001b[0m\u001b[0;34m(\u001b[0m\u001b[0;34m\"Interrupted by user\"\u001b[0m\u001b[0;34m)\u001b[0m \u001b[0;32mfrom\u001b[0m \u001b[0;32mNone\u001b[0m\u001b[0;34m\u001b[0m\u001b[0;34m\u001b[0m\u001b[0m\n\u001b[0m\u001b[1;32m   1220\u001b[0m             \u001b[0;32mexcept\u001b[0m \u001b[0mException\u001b[0m\u001b[0;34m:\u001b[0m\u001b[0;34m\u001b[0m\u001b[0;34m\u001b[0m\u001b[0m\n\u001b[1;32m   1221\u001b[0m                 \u001b[0mself\u001b[0m\u001b[0;34m.\u001b[0m\u001b[0mlog\u001b[0m\u001b[0;34m.\u001b[0m\u001b[0mwarning\u001b[0m\u001b[0;34m(\u001b[0m\u001b[0;34m\"Invalid Message:\"\u001b[0m\u001b[0;34m,\u001b[0m \u001b[0mexc_info\u001b[0m\u001b[0;34m=\u001b[0m\u001b[0;32mTrue\u001b[0m\u001b[0;34m)\u001b[0m\u001b[0;34m\u001b[0m\u001b[0;34m\u001b[0m\u001b[0m\n",
            "\u001b[0;31mKeyboardInterrupt\u001b[0m: Interrupted by user"
          ]
        }
      ]
    },
    {
      "cell_type": "code",
      "source": [
        "flores"
      ],
      "metadata": {
        "id": "I5PnYjIP1AoR"
      },
      "execution_count": null,
      "outputs": []
    },
    {
      "cell_type": "code",
      "source": [
        "#Quiero saber quién esta en la primera posición\n",
        "flores[0]"
      ],
      "metadata": {
        "id": "FCkAUjGJ2FUt"
      },
      "execution_count": null,
      "outputs": []
    },
    {
      "cell_type": "markdown",
      "source": [
        "Saber quién esta en la ultima posición"
      ],
      "metadata": {
        "id": "vR0ttwrX2TVl"
      }
    },
    {
      "cell_type": "code",
      "source": [
        "len(flores)"
      ],
      "metadata": {
        "id": "9bWvJOoZ2uYt"
      },
      "execution_count": null,
      "outputs": []
    },
    {
      "cell_type": "code",
      "source": [
        "flores[4]"
      ],
      "metadata": {
        "id": "KveTIYmm2Z2I"
      },
      "execution_count": null,
      "outputs": []
    },
    {
      "cell_type": "code",
      "source": [
        "flores[len(flores)-1]"
      ],
      "metadata": {
        "id": "84-U-RAO2dlu"
      },
      "execution_count": null,
      "outputs": []
    },
    {
      "cell_type": "code",
      "source": [
        "flores.index(\"Lengua de suegra\")"
      ],
      "metadata": {
        "id": "xETL5zDe22JF"
      },
      "execution_count": null,
      "outputs": []
    },
    {
      "cell_type": "code",
      "source": [
        "type(lista)"
      ],
      "metadata": {
        "id": "mu2BLxHH2yLE"
      },
      "execution_count": null,
      "outputs": []
    },
    {
      "cell_type": "code",
      "source": [
        "lista=[]\n",
        "for loquesea in range(5):\n",
        "  lista.append(loquesea)"
      ],
      "metadata": {
        "id": "eGpPzdr75H0q"
      },
      "execution_count": 69,
      "outputs": []
    },
    {
      "cell_type": "code",
      "source": [
        "loquesea"
      ],
      "metadata": {
        "colab": {
          "base_uri": "https://localhost:8080/"
        },
        "id": "_tJG3JNx5kRK",
        "outputId": "8e30f729-5d17-4d6c-bca2-7dc668ef3c45"
      },
      "execution_count": 70,
      "outputs": [
        {
          "output_type": "execute_result",
          "data": {
            "text/plain": [
              "4"
            ]
          },
          "metadata": {},
          "execution_count": 70
        }
      ]
    },
    {
      "cell_type": "code",
      "source": [
        "lista"
      ],
      "metadata": {
        "id": "x5Gr4ZEd6kRx"
      },
      "execution_count": null,
      "outputs": []
    },
    {
      "cell_type": "markdown",
      "source": [
        "#1"
      ],
      "metadata": {
        "id": "LorUmkRL_crX"
      }
    },
    {
      "cell_type": "code",
      "source": [
        "#1\n",
        "for a in range(1,101):\n",
        "  print(a)"
      ],
      "metadata": {
        "colab": {
          "base_uri": "https://localhost:8080/"
        },
        "id": "uHFygcwt7FX5",
        "outputId": "2af8ae9b-64be-4cfb-bdb5-aa5bfffc125e"
      },
      "execution_count": 40,
      "outputs": [
        {
          "output_type": "stream",
          "name": "stdout",
          "text": [
            "1\n",
            "2\n",
            "3\n",
            "4\n",
            "5\n",
            "6\n",
            "7\n",
            "8\n",
            "9\n",
            "10\n",
            "11\n",
            "12\n",
            "13\n",
            "14\n",
            "15\n",
            "16\n",
            "17\n",
            "18\n",
            "19\n",
            "20\n",
            "21\n",
            "22\n",
            "23\n",
            "24\n",
            "25\n",
            "26\n",
            "27\n",
            "28\n",
            "29\n",
            "30\n",
            "31\n",
            "32\n",
            "33\n",
            "34\n",
            "35\n",
            "36\n",
            "37\n",
            "38\n",
            "39\n",
            "40\n",
            "41\n",
            "42\n",
            "43\n",
            "44\n",
            "45\n",
            "46\n",
            "47\n",
            "48\n",
            "49\n",
            "50\n",
            "51\n",
            "52\n",
            "53\n",
            "54\n",
            "55\n",
            "56\n",
            "57\n",
            "58\n",
            "59\n",
            "60\n",
            "61\n",
            "62\n",
            "63\n",
            "64\n",
            "65\n",
            "66\n",
            "67\n",
            "68\n",
            "69\n",
            "70\n",
            "71\n",
            "72\n",
            "73\n",
            "74\n",
            "75\n",
            "76\n",
            "77\n",
            "78\n",
            "79\n",
            "80\n",
            "81\n",
            "82\n",
            "83\n",
            "84\n",
            "85\n",
            "86\n",
            "87\n",
            "88\n",
            "89\n",
            "90\n",
            "91\n",
            "92\n",
            "93\n",
            "94\n",
            "95\n",
            "96\n",
            "97\n",
            "98\n",
            "99\n",
            "100\n"
          ]
        }
      ]
    },
    {
      "cell_type": "code",
      "source": [
        "#1\n",
        "b=list(range(1,101,1))\n",
        "for a in b:\n",
        "  print(a)"
      ],
      "metadata": {
        "colab": {
          "base_uri": "https://localhost:8080/"
        },
        "id": "8zsePyrN8NLa",
        "outputId": "57a1eb41-a3f8-4546-f26b-c229d8a7fffb"
      },
      "execution_count": 46,
      "outputs": [
        {
          "output_type": "stream",
          "name": "stdout",
          "text": [
            "1\n",
            "2\n",
            "3\n",
            "4\n",
            "5\n",
            "6\n",
            "7\n",
            "8\n",
            "9\n",
            "10\n",
            "11\n",
            "12\n",
            "13\n",
            "14\n",
            "15\n",
            "16\n",
            "17\n",
            "18\n",
            "19\n",
            "20\n",
            "21\n",
            "22\n",
            "23\n",
            "24\n",
            "25\n",
            "26\n",
            "27\n",
            "28\n",
            "29\n",
            "30\n",
            "31\n",
            "32\n",
            "33\n",
            "34\n",
            "35\n",
            "36\n",
            "37\n",
            "38\n",
            "39\n",
            "40\n",
            "41\n",
            "42\n",
            "43\n",
            "44\n",
            "45\n",
            "46\n",
            "47\n",
            "48\n",
            "49\n",
            "50\n",
            "51\n",
            "52\n",
            "53\n",
            "54\n",
            "55\n",
            "56\n",
            "57\n",
            "58\n",
            "59\n",
            "60\n",
            "61\n",
            "62\n",
            "63\n",
            "64\n",
            "65\n",
            "66\n",
            "67\n",
            "68\n",
            "69\n",
            "70\n",
            "71\n",
            "72\n",
            "73\n",
            "74\n",
            "75\n",
            "76\n",
            "77\n",
            "78\n",
            "79\n",
            "80\n",
            "81\n",
            "82\n",
            "83\n",
            "84\n",
            "85\n",
            "86\n",
            "87\n",
            "88\n",
            "89\n",
            "90\n",
            "91\n",
            "92\n",
            "93\n",
            "94\n",
            "95\n",
            "96\n",
            "97\n",
            "98\n",
            "99\n",
            "100\n"
          ]
        }
      ]
    },
    {
      "cell_type": "code",
      "source": [
        "b"
      ],
      "metadata": {
        "colab": {
          "base_uri": "https://localhost:8080/"
        },
        "id": "2Gg9gF8q_mcd",
        "outputId": "62e9b813-616d-49aa-f33d-6c1c6d5f2892"
      },
      "execution_count": 42,
      "outputs": [
        {
          "output_type": "execute_result",
          "data": {
            "text/plain": [
              "[1,\n",
              " 2,\n",
              " 3,\n",
              " 4,\n",
              " 5,\n",
              " 6,\n",
              " 7,\n",
              " 8,\n",
              " 9,\n",
              " 10,\n",
              " 11,\n",
              " 12,\n",
              " 13,\n",
              " 14,\n",
              " 15,\n",
              " 16,\n",
              " 17,\n",
              " 18,\n",
              " 19,\n",
              " 20,\n",
              " 21,\n",
              " 22,\n",
              " 23,\n",
              " 24,\n",
              " 25,\n",
              " 26,\n",
              " 27,\n",
              " 28,\n",
              " 29,\n",
              " 30,\n",
              " 31,\n",
              " 32,\n",
              " 33,\n",
              " 34,\n",
              " 35,\n",
              " 36,\n",
              " 37,\n",
              " 38,\n",
              " 39,\n",
              " 40,\n",
              " 41,\n",
              " 42,\n",
              " 43,\n",
              " 44,\n",
              " 45,\n",
              " 46,\n",
              " 47,\n",
              " 48,\n",
              " 49,\n",
              " 50,\n",
              " 51,\n",
              " 52,\n",
              " 53,\n",
              " 54,\n",
              " 55,\n",
              " 56,\n",
              " 57,\n",
              " 58,\n",
              " 59,\n",
              " 60,\n",
              " 61,\n",
              " 62,\n",
              " 63,\n",
              " 64,\n",
              " 65,\n",
              " 66,\n",
              " 67,\n",
              " 68,\n",
              " 69,\n",
              " 70,\n",
              " 71,\n",
              " 72,\n",
              " 73,\n",
              " 74,\n",
              " 75,\n",
              " 76,\n",
              " 77,\n",
              " 78,\n",
              " 79,\n",
              " 80,\n",
              " 81,\n",
              " 82,\n",
              " 83,\n",
              " 84,\n",
              " 85,\n",
              " 86,\n",
              " 87,\n",
              " 88,\n",
              " 89,\n",
              " 90,\n",
              " 91,\n",
              " 92,\n",
              " 93,\n",
              " 94,\n",
              " 95,\n",
              " 96,\n",
              " 97,\n",
              " 98,\n",
              " 99,\n",
              " 100]"
            ]
          },
          "metadata": {},
          "execution_count": 42
        }
      ]
    },
    {
      "cell_type": "markdown",
      "source": [
        "#2"
      ],
      "metadata": {
        "id": "lKSGi83K_fm9"
      }
    },
    {
      "cell_type": "code",
      "source": [
        "res=1\n",
        "for e in range(2,101):\n",
        "  print(f\"{res} + {e} = {res+e}\")\n",
        "  res=res+e"
      ],
      "metadata": {
        "colab": {
          "base_uri": "https://localhost:8080/"
        },
        "collapsed": true,
        "id": "7XkDDAy58f23",
        "outputId": "1d75869a-7cf4-49c8-f07c-85fff2798a2a"
      },
      "execution_count": 65,
      "outputs": [
        {
          "output_type": "stream",
          "name": "stdout",
          "text": [
            "1 + 2 = 3\n",
            "3 + 3 = 6\n",
            "6 + 4 = 10\n",
            "10 + 5 = 15\n",
            "15 + 6 = 21\n",
            "21 + 7 = 28\n",
            "28 + 8 = 36\n",
            "36 + 9 = 45\n",
            "45 + 10 = 55\n",
            "55 + 11 = 66\n",
            "66 + 12 = 78\n",
            "78 + 13 = 91\n",
            "91 + 14 = 105\n",
            "105 + 15 = 120\n",
            "120 + 16 = 136\n",
            "136 + 17 = 153\n",
            "153 + 18 = 171\n",
            "171 + 19 = 190\n",
            "190 + 20 = 210\n",
            "210 + 21 = 231\n",
            "231 + 22 = 253\n",
            "253 + 23 = 276\n",
            "276 + 24 = 300\n",
            "300 + 25 = 325\n",
            "325 + 26 = 351\n",
            "351 + 27 = 378\n",
            "378 + 28 = 406\n",
            "406 + 29 = 435\n",
            "435 + 30 = 465\n",
            "465 + 31 = 496\n",
            "496 + 32 = 528\n",
            "528 + 33 = 561\n",
            "561 + 34 = 595\n",
            "595 + 35 = 630\n",
            "630 + 36 = 666\n",
            "666 + 37 = 703\n",
            "703 + 38 = 741\n",
            "741 + 39 = 780\n",
            "780 + 40 = 820\n",
            "820 + 41 = 861\n",
            "861 + 42 = 903\n",
            "903 + 43 = 946\n",
            "946 + 44 = 990\n",
            "990 + 45 = 1035\n",
            "1035 + 46 = 1081\n",
            "1081 + 47 = 1128\n",
            "1128 + 48 = 1176\n",
            "1176 + 49 = 1225\n",
            "1225 + 50 = 1275\n",
            "1275 + 51 = 1326\n",
            "1326 + 52 = 1378\n",
            "1378 + 53 = 1431\n",
            "1431 + 54 = 1485\n",
            "1485 + 55 = 1540\n",
            "1540 + 56 = 1596\n",
            "1596 + 57 = 1653\n",
            "1653 + 58 = 1711\n",
            "1711 + 59 = 1770\n",
            "1770 + 60 = 1830\n",
            "1830 + 61 = 1891\n",
            "1891 + 62 = 1953\n",
            "1953 + 63 = 2016\n",
            "2016 + 64 = 2080\n",
            "2080 + 65 = 2145\n",
            "2145 + 66 = 2211\n",
            "2211 + 67 = 2278\n",
            "2278 + 68 = 2346\n",
            "2346 + 69 = 2415\n",
            "2415 + 70 = 2485\n",
            "2485 + 71 = 2556\n",
            "2556 + 72 = 2628\n",
            "2628 + 73 = 2701\n",
            "2701 + 74 = 2775\n",
            "2775 + 75 = 2850\n",
            "2850 + 76 = 2926\n",
            "2926 + 77 = 3003\n",
            "3003 + 78 = 3081\n",
            "3081 + 79 = 3160\n",
            "3160 + 80 = 3240\n",
            "3240 + 81 = 3321\n",
            "3321 + 82 = 3403\n",
            "3403 + 83 = 3486\n",
            "3486 + 84 = 3570\n",
            "3570 + 85 = 3655\n",
            "3655 + 86 = 3741\n",
            "3741 + 87 = 3828\n",
            "3828 + 88 = 3916\n",
            "3916 + 89 = 4005\n",
            "4005 + 90 = 4095\n",
            "4095 + 91 = 4186\n",
            "4186 + 92 = 4278\n",
            "4278 + 93 = 4371\n",
            "4371 + 94 = 4465\n",
            "4465 + 95 = 4560\n",
            "4560 + 96 = 4656\n",
            "4656 + 97 = 4753\n",
            "4753 + 98 = 4851\n",
            "4851 + 99 = 4950\n",
            "4950 + 100 = 5050\n"
          ]
        }
      ]
    },
    {
      "cell_type": "code",
      "source": [
        "res=1\n",
        "a=range(2,101)\n",
        "for e in a:\n",
        "  print(f\"{res} + {e} = {res+e}\")\n",
        "  res=res+e"
      ],
      "metadata": {
        "colab": {
          "base_uri": "https://localhost:8080/"
        },
        "collapsed": true,
        "id": "WKEtb88fBOPc",
        "outputId": "82042235-ea6e-453e-a80f-ebd10e5f3e3a"
      },
      "execution_count": 66,
      "outputs": [
        {
          "output_type": "stream",
          "name": "stdout",
          "text": [
            "1 + 2 = 3\n",
            "3 + 3 = 6\n",
            "6 + 4 = 10\n",
            "10 + 5 = 15\n",
            "15 + 6 = 21\n",
            "21 + 7 = 28\n",
            "28 + 8 = 36\n",
            "36 + 9 = 45\n",
            "45 + 10 = 55\n",
            "55 + 11 = 66\n",
            "66 + 12 = 78\n",
            "78 + 13 = 91\n",
            "91 + 14 = 105\n",
            "105 + 15 = 120\n",
            "120 + 16 = 136\n",
            "136 + 17 = 153\n",
            "153 + 18 = 171\n",
            "171 + 19 = 190\n",
            "190 + 20 = 210\n",
            "210 + 21 = 231\n",
            "231 + 22 = 253\n",
            "253 + 23 = 276\n",
            "276 + 24 = 300\n",
            "300 + 25 = 325\n",
            "325 + 26 = 351\n",
            "351 + 27 = 378\n",
            "378 + 28 = 406\n",
            "406 + 29 = 435\n",
            "435 + 30 = 465\n",
            "465 + 31 = 496\n",
            "496 + 32 = 528\n",
            "528 + 33 = 561\n",
            "561 + 34 = 595\n",
            "595 + 35 = 630\n",
            "630 + 36 = 666\n",
            "666 + 37 = 703\n",
            "703 + 38 = 741\n",
            "741 + 39 = 780\n",
            "780 + 40 = 820\n",
            "820 + 41 = 861\n",
            "861 + 42 = 903\n",
            "903 + 43 = 946\n",
            "946 + 44 = 990\n",
            "990 + 45 = 1035\n",
            "1035 + 46 = 1081\n",
            "1081 + 47 = 1128\n",
            "1128 + 48 = 1176\n",
            "1176 + 49 = 1225\n",
            "1225 + 50 = 1275\n",
            "1275 + 51 = 1326\n",
            "1326 + 52 = 1378\n",
            "1378 + 53 = 1431\n",
            "1431 + 54 = 1485\n",
            "1485 + 55 = 1540\n",
            "1540 + 56 = 1596\n",
            "1596 + 57 = 1653\n",
            "1653 + 58 = 1711\n",
            "1711 + 59 = 1770\n",
            "1770 + 60 = 1830\n",
            "1830 + 61 = 1891\n",
            "1891 + 62 = 1953\n",
            "1953 + 63 = 2016\n",
            "2016 + 64 = 2080\n",
            "2080 + 65 = 2145\n",
            "2145 + 66 = 2211\n",
            "2211 + 67 = 2278\n",
            "2278 + 68 = 2346\n",
            "2346 + 69 = 2415\n",
            "2415 + 70 = 2485\n",
            "2485 + 71 = 2556\n",
            "2556 + 72 = 2628\n",
            "2628 + 73 = 2701\n",
            "2701 + 74 = 2775\n",
            "2775 + 75 = 2850\n",
            "2850 + 76 = 2926\n",
            "2926 + 77 = 3003\n",
            "3003 + 78 = 3081\n",
            "3081 + 79 = 3160\n",
            "3160 + 80 = 3240\n",
            "3240 + 81 = 3321\n",
            "3321 + 82 = 3403\n",
            "3403 + 83 = 3486\n",
            "3486 + 84 = 3570\n",
            "3570 + 85 = 3655\n",
            "3655 + 86 = 3741\n",
            "3741 + 87 = 3828\n",
            "3828 + 88 = 3916\n",
            "3916 + 89 = 4005\n",
            "4005 + 90 = 4095\n",
            "4095 + 91 = 4186\n",
            "4186 + 92 = 4278\n",
            "4278 + 93 = 4371\n",
            "4371 + 94 = 4465\n",
            "4465 + 95 = 4560\n",
            "4560 + 96 = 4656\n",
            "4656 + 97 = 4753\n",
            "4753 + 98 = 4851\n",
            "4851 + 99 = 4950\n",
            "4950 + 100 = 5050\n"
          ]
        }
      ]
    },
    {
      "cell_type": "markdown",
      "source": [
        "#3"
      ],
      "metadata": {
        "id": "hHQW8BwU_gst"
      }
    },
    {
      "cell_type": "code",
      "source": [
        "#3\n",
        "for e in range(3,33,3):\n",
        "  print(e)"
      ],
      "metadata": {
        "id": "oTJ3uWf7-T2W"
      },
      "execution_count": null,
      "outputs": []
    },
    {
      "cell_type": "code",
      "source": [
        "#3\n",
        "a=list(range(3,33,3))\n",
        "for e in a:\n",
        "  print(e)"
      ],
      "metadata": {
        "colab": {
          "base_uri": "https://localhost:8080/"
        },
        "id": "UZz_Gvtw-hGW",
        "outputId": "2b027f56-231f-4d94-bed0-efe40a57790c"
      },
      "execution_count": 44,
      "outputs": [
        {
          "output_type": "stream",
          "name": "stdout",
          "text": [
            "3\n",
            "6\n",
            "9\n",
            "12\n",
            "15\n",
            "18\n",
            "21\n",
            "24\n",
            "27\n",
            "30\n"
          ]
        }
      ]
    },
    {
      "cell_type": "code",
      "source": [
        "a"
      ],
      "metadata": {
        "colab": {
          "base_uri": "https://localhost:8080/"
        },
        "id": "IY-rHYSt-s0H",
        "outputId": "9d9f0a3f-4b36-42a2-957f-54e1eb5921c0"
      },
      "execution_count": 45,
      "outputs": [
        {
          "output_type": "execute_result",
          "data": {
            "text/plain": [
              "[3, 6, 9, 12, 15, 18, 21, 24, 27, 30]"
            ]
          },
          "metadata": {},
          "execution_count": 45
        }
      ]
    },
    {
      "cell_type": "markdown",
      "source": [
        "#4"
      ],
      "metadata": {
        "id": "0ubBytqhBlZb"
      }
    },
    {
      "cell_type": "code",
      "source": [
        "a=int(input(\"Ingresa un numero: \"))\n",
        "print(f\"Tabla del {a}\")\n",
        "for e in range(1,11,1):\n",
        "  print(f\"{a} x {e} = {a*e}\")"
      ],
      "metadata": {
        "colab": {
          "base_uri": "https://localhost:8080/"
        },
        "collapsed": true,
        "id": "gFxsbrRbBm8k",
        "outputId": "9016bb04-5547-49c4-b7e1-760634fbdfc6"
      },
      "execution_count": 54,
      "outputs": [
        {
          "output_type": "stream",
          "name": "stdout",
          "text": [
            "Ingresa un numero: 4\n",
            "Tabla del 4\n",
            "4 x 1 = 4\n",
            "4 x 2 = 8\n",
            "4 x 3 = 12\n",
            "4 x 4 = 16\n",
            "4 x 5 = 20\n",
            "4 x 6 = 24\n",
            "4 x 7 = 28\n",
            "4 x 8 = 32\n",
            "4 x 9 = 36\n",
            "4 x 10 = 40\n"
          ]
        }
      ]
    },
    {
      "cell_type": "code",
      "source": [
        "woli=list(range(1,11,1))\n",
        "a=int(input(\"Ingresa un numero: \"))\n",
        "print(f\"Tabla del {a}\")\n",
        "for e in woli:\n",
        "  print(f\"{a} x {e} = {a*e}\")"
      ],
      "metadata": {
        "colab": {
          "base_uri": "https://localhost:8080/"
        },
        "collapsed": true,
        "id": "79IxbBxICKiL",
        "outputId": "f9ec7cf1-f5d8-45a3-ac6b-82e08991b461"
      },
      "execution_count": 56,
      "outputs": [
        {
          "output_type": "stream",
          "name": "stdout",
          "text": [
            "Ingresa un numero: 5\n",
            "Tabla del 5\n",
            "5 x 1 = 5\n",
            "5 x 2 = 10\n",
            "5 x 3 = 15\n",
            "5 x 4 = 20\n",
            "5 x 5 = 25\n",
            "5 x 6 = 30\n",
            "5 x 7 = 35\n",
            "5 x 8 = 40\n",
            "5 x 9 = 45\n",
            "5 x 10 = 50\n"
          ]
        }
      ]
    },
    {
      "cell_type": "code",
      "source": [
        "a="
      ],
      "metadata": {
        "id": "_j_e3rBCFTS4"
      },
      "execution_count": null,
      "outputs": []
    }
  ]
}