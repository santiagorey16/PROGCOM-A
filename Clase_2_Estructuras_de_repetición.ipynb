{
  "nbformat": 4,
  "nbformat_minor": 0,
  "metadata": {
    "colab": {
      "provenance": [],
      "authorship_tag": "ABX9TyMaiM1gw4Ah3YZrVjNCID5X",
      "include_colab_link": true
    },
    "kernelspec": {
      "name": "python3",
      "display_name": "Python 3"
    },
    "language_info": {
      "name": "python"
    }
  },
  "cells": [
    {
      "cell_type": "markdown",
      "metadata": {
        "id": "view-in-github",
        "colab_type": "text"
      },
      "source": [
        "<a href=\"https://colab.research.google.com/github/santiagorey16/PROGCOM-A/blob/main/Clase_2_Estructuras_de_repetici%C3%B3n.ipynb\" target=\"_parent\"><img src=\"https://colab.research.google.com/assets/colab-badge.svg\" alt=\"Open In Colab\"/></a>"
      ]
    },
    {
      "cell_type": "markdown",
      "source": [
        "#primer punto\n",
        "Permite repetir una o más acciones de acuerdo con una condición (mientras se cumpla la condición)"
      ],
      "metadata": {
        "id": "YsT_rAEQQquH"
      }
    },
    {
      "cell_type": "markdown",
      "source": [
        "##Estructura para -for\n",
        "\n",
        "1. Cuando se sabe cuantas veces se repite una acción.\n",
        "2. Esta confromado por una condición final (CI) una condición final (CF) y pasos (frecuencia de repetición).\n",
        "3. Esta estructura no se detendrá, hasta alcanzar CF-1\n",
        "\n",
        "Estructura del for\n",
        "```\n",
        "for (variable) in range (CI,CF+1,paso):\n",
        "  Se repite (CF+1-CI)/paso veces una acción\n",
        "```\n",
        "Estructura resumida del for\n",
        "```\n",
        "for (variable) in range (cantidad):\n",
        "  Se repite canidad de veces una acción\n",
        "```\n",
        "Estructura for como iteración\n",
        "1. El para (for) itera tantas veces, como elementos tenga la lista\n",
        "2. La variable toma el valor de cada elemento de la lista por iteración\n",
        "\n",
        "```\n",
        "Lista=[1,2,3,4,5]\n",
        "for (variable) in Lista:\n",
        "  Se repite Len(Lista)\n",
        "```\n",
        "\n",
        "\n"
      ],
      "metadata": {
        "id": "ndjFuBGnRZef"
      }
    },
    {
      "cell_type": "code",
      "execution_count": null,
      "metadata": {
        "colab": {
          "base_uri": "https://localhost:8080/"
        },
        "id": "2O6VJcciHC4p",
        "outputId": "44946185-e196-4f2b-dbea-d5768bb8da55"
      },
      "outputs": [
        {
          "output_type": "stream",
          "name": "stdout",
          "text": [
            "Ingresa un numero: 4\n",
            "Tabla del 4\n",
            "1 x 4 = 4\n",
            "2 x 4 = 8\n",
            "3 x 4 = 12\n",
            "4 x 4 = 16\n",
            "5 x 4 = 20\n",
            "6 x 4 = 24\n",
            "7 x 4 = 28\n",
            "8 x 4 = 32\n",
            "9 x 4 = 36\n",
            "10 x 4 = 40\n"
          ]
        }
      ],
      "source": [
        "#Hacer la tabala de multiplicar de un numero n\n",
        "a=int(input(\"Ingresa un numero: \"))\n",
        "print(f\"Tabla del {a}\")\n",
        "for e in range(1,11,1):\n",
        "  print(f\"{e} x {a} = {a*e}\")\n"
      ]
    },
    {
      "cell_type": "code",
      "source": [
        "print(\"Tablas de 1 al 10\\n\")\n",
        "for tabla in range(1,11,1):\n",
        "  print(f\"tabla del {tabla}\")\n",
        "  for numero in range(1,11,1):\n",
        "    print(f\"{tabla} x {numero} = {tabla*numero}\")\n",
        "  print(\" \")"
      ],
      "metadata": {
        "colab": {
          "base_uri": "https://localhost:8080/"
        },
        "id": "edsCA_R7VErb",
        "outputId": "ac2fba47-bae4-4fa3-ef5f-9ddbe1e6de24"
      },
      "execution_count": null,
      "outputs": [
        {
          "output_type": "stream",
          "name": "stdout",
          "text": [
            "Tablas de 1 al 10\n",
            "\n",
            "tabla del 1\n",
            "1 x 1 = 1\n",
            "1 x 2 = 2\n",
            "1 x 3 = 3\n",
            "1 x 4 = 4\n",
            "1 x 5 = 5\n",
            "1 x 6 = 6\n",
            "1 x 7 = 7\n",
            "1 x 8 = 8\n",
            "1 x 9 = 9\n",
            "1 x 10 = 10\n",
            " \n",
            "tabla del 2\n",
            "2 x 1 = 2\n",
            "2 x 2 = 4\n",
            "2 x 3 = 6\n",
            "2 x 4 = 8\n",
            "2 x 5 = 10\n",
            "2 x 6 = 12\n",
            "2 x 7 = 14\n",
            "2 x 8 = 16\n",
            "2 x 9 = 18\n",
            "2 x 10 = 20\n",
            " \n",
            "tabla del 3\n",
            "3 x 1 = 3\n",
            "3 x 2 = 6\n",
            "3 x 3 = 9\n",
            "3 x 4 = 12\n",
            "3 x 5 = 15\n",
            "3 x 6 = 18\n",
            "3 x 7 = 21\n",
            "3 x 8 = 24\n",
            "3 x 9 = 27\n",
            "3 x 10 = 30\n",
            " \n",
            "tabla del 4\n",
            "4 x 1 = 4\n",
            "4 x 2 = 8\n",
            "4 x 3 = 12\n",
            "4 x 4 = 16\n",
            "4 x 5 = 20\n",
            "4 x 6 = 24\n",
            "4 x 7 = 28\n",
            "4 x 8 = 32\n",
            "4 x 9 = 36\n",
            "4 x 10 = 40\n",
            " \n",
            "tabla del 5\n",
            "5 x 1 = 5\n",
            "5 x 2 = 10\n",
            "5 x 3 = 15\n",
            "5 x 4 = 20\n",
            "5 x 5 = 25\n",
            "5 x 6 = 30\n",
            "5 x 7 = 35\n",
            "5 x 8 = 40\n",
            "5 x 9 = 45\n",
            "5 x 10 = 50\n",
            " \n",
            "tabla del 6\n",
            "6 x 1 = 6\n",
            "6 x 2 = 12\n",
            "6 x 3 = 18\n",
            "6 x 4 = 24\n",
            "6 x 5 = 30\n",
            "6 x 6 = 36\n",
            "6 x 7 = 42\n",
            "6 x 8 = 48\n",
            "6 x 9 = 54\n",
            "6 x 10 = 60\n",
            " \n",
            "tabla del 7\n",
            "7 x 1 = 7\n",
            "7 x 2 = 14\n",
            "7 x 3 = 21\n",
            "7 x 4 = 28\n",
            "7 x 5 = 35\n",
            "7 x 6 = 42\n",
            "7 x 7 = 49\n",
            "7 x 8 = 56\n",
            "7 x 9 = 63\n",
            "7 x 10 = 70\n",
            " \n",
            "tabla del 8\n",
            "8 x 1 = 8\n",
            "8 x 2 = 16\n",
            "8 x 3 = 24\n",
            "8 x 4 = 32\n",
            "8 x 5 = 40\n",
            "8 x 6 = 48\n",
            "8 x 7 = 56\n",
            "8 x 8 = 64\n",
            "8 x 9 = 72\n",
            "8 x 10 = 80\n",
            " \n",
            "tabla del 9\n",
            "9 x 1 = 9\n",
            "9 x 2 = 18\n",
            "9 x 3 = 27\n",
            "9 x 4 = 36\n",
            "9 x 5 = 45\n",
            "9 x 6 = 54\n",
            "9 x 7 = 63\n",
            "9 x 8 = 72\n",
            "9 x 9 = 81\n",
            "9 x 10 = 90\n",
            " \n",
            "tabla del 10\n",
            "10 x 1 = 10\n",
            "10 x 2 = 20\n",
            "10 x 3 = 30\n",
            "10 x 4 = 40\n",
            "10 x 5 = 50\n",
            "10 x 6 = 60\n",
            "10 x 7 = 70\n",
            "10 x 8 = 80\n",
            "10 x 9 = 90\n",
            "10 x 10 = 100\n",
            " \n"
          ]
        }
      ]
    },
    {
      "cell_type": "code",
      "source": [
        "n=int(input(\"Ingresa un numero \"))\n",
        "print(f\"Tabla del {n}\")\n",
        "for holitas in range(n,11*n,n):\n",
        "  print(f\"{n} x {(int(holitas/n))} = {int(holitas)}\")"
      ],
      "metadata": {
        "colab": {
          "base_uri": "https://localhost:8080/"
        },
        "id": "JEFa5FbfZAHw",
        "outputId": "a8f3b630-5549-4730-97e9-94e814ec3e0a"
      },
      "execution_count": null,
      "outputs": [
        {
          "output_type": "stream",
          "name": "stdout",
          "text": [
            "Ingresa un numero 7\n",
            "Tabla del 7\n",
            "7 x 1 = 7\n",
            "7 x 2 = 14\n",
            "7 x 3 = 21\n",
            "7 x 4 = 28\n",
            "7 x 5 = 35\n",
            "7 x 6 = 42\n",
            "7 x 7 = 49\n",
            "7 x 8 = 56\n",
            "7 x 9 = 63\n",
            "7 x 10 = 70\n"
          ]
        }
      ]
    },
    {
      "cell_type": "code",
      "source": [
        "numeros=[1,2,3,4,5,6,7,8,9,10]\n",
        "for num in numeros:\n",
        "  print(f\"{n} x {num} = {n*num}\")"
      ],
      "metadata": {
        "colab": {
          "base_uri": "https://localhost:8080/"
        },
        "id": "xWqYw9bgYAPR",
        "outputId": "dbb85256-b65a-4ded-a634-f0f8d0898947"
      },
      "execution_count": null,
      "outputs": [
        {
          "output_type": "stream",
          "name": "stdout",
          "text": [
            "7 x 1 = 7\n",
            "7 x 2 = 14\n",
            "7 x 3 = 21\n",
            "7 x 4 = 28\n",
            "7 x 5 = 35\n",
            "7 x 6 = 42\n",
            "7 x 7 = 49\n",
            "7 x 8 = 56\n",
            "7 x 9 = 63\n",
            "7 x 10 = 70\n"
          ]
        }
      ]
    },
    {
      "cell_type": "code",
      "source": [
        "numeros2=list(range(1,11))\n",
        "numeros2"
      ],
      "metadata": {
        "colab": {
          "base_uri": "https://localhost:8080/"
        },
        "id": "a31pYWOng0Yi",
        "outputId": "510cd55a-4c37-49bd-c590-735ab9cf3416"
      },
      "execution_count": null,
      "outputs": [
        {
          "output_type": "execute_result",
          "data": {
            "text/plain": [
              "[1, 2, 3, 4, 5, 6, 7, 8, 9, 10]"
            ]
          },
          "metadata": {},
          "execution_count": 11
        }
      ]
    },
    {
      "cell_type": "code",
      "source": [
        "for num in numeros2:\n",
        "  print(f\"{n} x {num} = {n*num}\")"
      ],
      "metadata": {
        "colab": {
          "base_uri": "https://localhost:8080/"
        },
        "id": "aHES4Vnng_gx",
        "outputId": "3b303028-248b-441c-c8eb-7f983904c744"
      },
      "execution_count": null,
      "outputs": [
        {
          "output_type": "stream",
          "name": "stdout",
          "text": [
            "7 x 1 = 7\n",
            "7 x 2 = 14\n",
            "7 x 3 = 21\n",
            "7 x 4 = 28\n",
            "7 x 5 = 35\n",
            "7 x 6 = 42\n",
            "7 x 7 = 49\n",
            "7 x 8 = 56\n",
            "7 x 9 = 63\n",
            "7 x 10 = 70\n"
          ]
        }
      ]
    },
    {
      "cell_type": "markdown",
      "source": [
        "##Listas\n",
        "1. Es un tipor de datos\n",
        "2. Todos los elementos de una lista, **deben** separarse por comas\n",
        "3. Formas canónica para declarar una lista\n",
        "lista\n",
        "```\n",
        "(variable) = []\n",
        "```\n",
        "Ejemplo:\n",
        "flores=[\"amapolas\", \"tulipan\", \"Lengua de suegra\", dahlia,rosa]\n",
        "\n"
      ],
      "metadata": {
        "id": "GAWPsYMNvDs2"
      }
    },
    {
      "cell_type": "code",
      "source": [
        "dahlia=3 #variable de tipo numérico, int\n",
        "rosa=\"cinco\" #variable de tipo alfabetico, str\n",
        "flores=[\"amapolas\", \"tulipan\", \"Lengua de suegra\", dahlia,rosa]"
      ],
      "metadata": {
        "id": "U9n7RLdOucNt"
      },
      "execution_count": 2,
      "outputs": []
    },
    {
      "cell_type": "markdown",
      "source": [
        "4. Manual.\n",
        "\n",
        "```\n",
        "Lista2=[dato1,dato2,dato3...datoN]\n",
        "```\n",
        "5. Simepre son finitas\n",
        "6. Son indexadas\n",
        "```\n",
        "Lista2=[dato1,dato2,dato3...datoN]\n",
        "```\n",
        "dato1 esta en el index 0\n",
        "dato2 esta ubicado en el index 1\n",
        "7. Estrcuturas para **para** la creación de listas\n",
        "\n",
        "```\n",
        "#Ejemplo: Crear una lista de 5 elementos\n",
        "lista=[]#para que el programa sepa que es una lista\n",
        "for loquesea in range(5):\n",
        "  lista=input(\"ingrese el nombre de una flor\")\n",
        "```\n",
        "\n",
        "\n"
      ],
      "metadata": {
        "id": "cGQoGS8vyBQ5"
      }
    },
    {
      "cell_type": "code",
      "source": [
        "lista=[]\n",
        "for loquesea in range(5):\n",
        "  lista=input(\"ingrese el nombre de una flor \")"
      ],
      "metadata": {
        "colab": {
          "base_uri": "https://localhost:8080/"
        },
        "id": "3mr9R2Vx0Mcv",
        "outputId": "22267a71-2c65-4d5b-c13b-a8d39d8b1de8"
      },
      "execution_count": 48,
      "outputs": [
        {
          "name": "stdout",
          "output_type": "stream",
          "text": [
            "ingrese el nombre de una flor hola\n",
            "ingrese el nombre de una flor hola\n",
            "ingrese el nombre de una flor hola\n",
            "ingrese el nombre de una flor hola\n",
            "ingrese el nombre de una flor hola\n"
          ]
        }
      ]
    },
    {
      "cell_type": "code",
      "source": [
        "flores"
      ],
      "metadata": {
        "id": "I5PnYjIP1AoR",
        "colab": {
          "base_uri": "https://localhost:8080/"
        },
        "outputId": "fdeabce1-f57e-419c-c9b4-9f2699be81a6"
      },
      "execution_count": 7,
      "outputs": [
        {
          "output_type": "execute_result",
          "data": {
            "text/plain": [
              "['amapolas', 'tulipan', 'Lengua de suegra', 3, 'cinco']"
            ]
          },
          "metadata": {},
          "execution_count": 7
        }
      ]
    },
    {
      "cell_type": "code",
      "source": [
        "#Quiero saber quién esta en la primera posición\n",
        "flores[0]"
      ],
      "metadata": {
        "id": "FCkAUjGJ2FUt",
        "colab": {
          "base_uri": "https://localhost:8080/",
          "height": 36
        },
        "outputId": "8b5c42bf-310e-45f3-a630-e8ebbb0619ab"
      },
      "execution_count": 8,
      "outputs": [
        {
          "output_type": "execute_result",
          "data": {
            "text/plain": [
              "'amapolas'"
            ],
            "application/vnd.google.colaboratory.intrinsic+json": {
              "type": "string"
            }
          },
          "metadata": {},
          "execution_count": 8
        }
      ]
    },
    {
      "cell_type": "markdown",
      "source": [
        "Saber quién esta en la ultima posición"
      ],
      "metadata": {
        "id": "vR0ttwrX2TVl"
      }
    },
    {
      "cell_type": "code",
      "source": [
        "len(flores)"
      ],
      "metadata": {
        "id": "9bWvJOoZ2uYt",
        "colab": {
          "base_uri": "https://localhost:8080/"
        },
        "outputId": "7454c225-6535-4116-9873-1460fc6f0478"
      },
      "execution_count": 53,
      "outputs": [
        {
          "output_type": "execute_result",
          "data": {
            "text/plain": [
              "5"
            ]
          },
          "metadata": {},
          "execution_count": 53
        }
      ]
    },
    {
      "cell_type": "code",
      "source": [
        "flores[4]"
      ],
      "metadata": {
        "id": "KveTIYmm2Z2I",
        "colab": {
          "base_uri": "https://localhost:8080/",
          "height": 36
        },
        "outputId": "ec45b056-4ece-4b85-e61d-318278d9a489"
      },
      "execution_count": 54,
      "outputs": [
        {
          "output_type": "execute_result",
          "data": {
            "text/plain": [
              "'cinco'"
            ],
            "application/vnd.google.colaboratory.intrinsic+json": {
              "type": "string"
            }
          },
          "metadata": {},
          "execution_count": 54
        }
      ]
    },
    {
      "cell_type": "code",
      "source": [
        "flores[len(flores)-1]"
      ],
      "metadata": {
        "id": "84-U-RAO2dlu"
      },
      "execution_count": null,
      "outputs": []
    },
    {
      "cell_type": "code",
      "source": [
        "flores.index(\"Lengua de suegra\")"
      ],
      "metadata": {
        "id": "xETL5zDe22JF",
        "colab": {
          "base_uri": "https://localhost:8080/"
        },
        "outputId": "de32d110-ed2d-45d2-ac7d-22a8454dea7d"
      },
      "execution_count": 9,
      "outputs": [
        {
          "output_type": "execute_result",
          "data": {
            "text/plain": [
              "2"
            ]
          },
          "metadata": {},
          "execution_count": 9
        }
      ]
    },
    {
      "cell_type": "code",
      "source": [
        "type(lista)"
      ],
      "metadata": {
        "id": "mu2BLxHH2yLE",
        "colab": {
          "base_uri": "https://localhost:8080/"
        },
        "outputId": "bfea25c7-3794-4c41-e028-6872ea870a18"
      },
      "execution_count": 50,
      "outputs": [
        {
          "output_type": "execute_result",
          "data": {
            "text/plain": [
              "str"
            ]
          },
          "metadata": {},
          "execution_count": 50
        }
      ]
    },
    {
      "cell_type": "code",
      "source": [
        "lista=[]\n",
        "for loquesea in range(5):\n",
        "  lista.append(loquesea)"
      ],
      "metadata": {
        "id": "eGpPzdr75H0q"
      },
      "execution_count": 51,
      "outputs": []
    },
    {
      "cell_type": "code",
      "source": [
        "loquesea"
      ],
      "metadata": {
        "colab": {
          "base_uri": "https://localhost:8080/"
        },
        "id": "_tJG3JNx5kRK",
        "outputId": "61f8b0e3-fecf-4421-b1c7-5c232c6920d3"
      },
      "execution_count": 45,
      "outputs": [
        {
          "output_type": "execute_result",
          "data": {
            "text/plain": [
              "4"
            ]
          },
          "metadata": {},
          "execution_count": 45
        }
      ]
    },
    {
      "cell_type": "code",
      "source": [
        "lista"
      ],
      "metadata": {
        "id": "x5Gr4ZEd6kRx",
        "colab": {
          "base_uri": "https://localhost:8080/"
        },
        "outputId": "7864d220-7a63-448e-eeb7-3c1ca5355224"
      },
      "execution_count": 46,
      "outputs": [
        {
          "output_type": "execute_result",
          "data": {
            "text/plain": [
              "[0, 1, 2, 3, 4]"
            ]
          },
          "metadata": {},
          "execution_count": 46
        }
      ]
    },
    {
      "cell_type": "markdown",
      "source": [
        "#1"
      ],
      "metadata": {
        "id": "LorUmkRL_crX"
      }
    },
    {
      "cell_type": "code",
      "source": [
        "#1\n",
        "for a in range(1,101):\n",
        "  print(a)"
      ],
      "metadata": {
        "colab": {
          "base_uri": "https://localhost:8080/"
        },
        "id": "uHFygcwt7FX5",
        "outputId": "2af8ae9b-64be-4cfb-bdb5-aa5bfffc125e"
      },
      "execution_count": null,
      "outputs": [
        {
          "output_type": "stream",
          "name": "stdout",
          "text": [
            "1\n",
            "2\n",
            "3\n",
            "4\n",
            "5\n",
            "6\n",
            "7\n",
            "8\n",
            "9\n",
            "10\n",
            "11\n",
            "12\n",
            "13\n",
            "14\n",
            "15\n",
            "16\n",
            "17\n",
            "18\n",
            "19\n",
            "20\n",
            "21\n",
            "22\n",
            "23\n",
            "24\n",
            "25\n",
            "26\n",
            "27\n",
            "28\n",
            "29\n",
            "30\n",
            "31\n",
            "32\n",
            "33\n",
            "34\n",
            "35\n",
            "36\n",
            "37\n",
            "38\n",
            "39\n",
            "40\n",
            "41\n",
            "42\n",
            "43\n",
            "44\n",
            "45\n",
            "46\n",
            "47\n",
            "48\n",
            "49\n",
            "50\n",
            "51\n",
            "52\n",
            "53\n",
            "54\n",
            "55\n",
            "56\n",
            "57\n",
            "58\n",
            "59\n",
            "60\n",
            "61\n",
            "62\n",
            "63\n",
            "64\n",
            "65\n",
            "66\n",
            "67\n",
            "68\n",
            "69\n",
            "70\n",
            "71\n",
            "72\n",
            "73\n",
            "74\n",
            "75\n",
            "76\n",
            "77\n",
            "78\n",
            "79\n",
            "80\n",
            "81\n",
            "82\n",
            "83\n",
            "84\n",
            "85\n",
            "86\n",
            "87\n",
            "88\n",
            "89\n",
            "90\n",
            "91\n",
            "92\n",
            "93\n",
            "94\n",
            "95\n",
            "96\n",
            "97\n",
            "98\n",
            "99\n",
            "100\n"
          ]
        }
      ]
    },
    {
      "cell_type": "code",
      "source": [
        "#1\n",
        "b=list(range(1,101,1))\n",
        "for a in b:\n",
        "  print(a)"
      ],
      "metadata": {
        "colab": {
          "base_uri": "https://localhost:8080/"
        },
        "id": "8zsePyrN8NLa",
        "outputId": "57a1eb41-a3f8-4546-f26b-c229d8a7fffb"
      },
      "execution_count": null,
      "outputs": [
        {
          "output_type": "stream",
          "name": "stdout",
          "text": [
            "1\n",
            "2\n",
            "3\n",
            "4\n",
            "5\n",
            "6\n",
            "7\n",
            "8\n",
            "9\n",
            "10\n",
            "11\n",
            "12\n",
            "13\n",
            "14\n",
            "15\n",
            "16\n",
            "17\n",
            "18\n",
            "19\n",
            "20\n",
            "21\n",
            "22\n",
            "23\n",
            "24\n",
            "25\n",
            "26\n",
            "27\n",
            "28\n",
            "29\n",
            "30\n",
            "31\n",
            "32\n",
            "33\n",
            "34\n",
            "35\n",
            "36\n",
            "37\n",
            "38\n",
            "39\n",
            "40\n",
            "41\n",
            "42\n",
            "43\n",
            "44\n",
            "45\n",
            "46\n",
            "47\n",
            "48\n",
            "49\n",
            "50\n",
            "51\n",
            "52\n",
            "53\n",
            "54\n",
            "55\n",
            "56\n",
            "57\n",
            "58\n",
            "59\n",
            "60\n",
            "61\n",
            "62\n",
            "63\n",
            "64\n",
            "65\n",
            "66\n",
            "67\n",
            "68\n",
            "69\n",
            "70\n",
            "71\n",
            "72\n",
            "73\n",
            "74\n",
            "75\n",
            "76\n",
            "77\n",
            "78\n",
            "79\n",
            "80\n",
            "81\n",
            "82\n",
            "83\n",
            "84\n",
            "85\n",
            "86\n",
            "87\n",
            "88\n",
            "89\n",
            "90\n",
            "91\n",
            "92\n",
            "93\n",
            "94\n",
            "95\n",
            "96\n",
            "97\n",
            "98\n",
            "99\n",
            "100\n"
          ]
        }
      ]
    },
    {
      "cell_type": "code",
      "source": [
        "b"
      ],
      "metadata": {
        "colab": {
          "base_uri": "https://localhost:8080/"
        },
        "id": "2Gg9gF8q_mcd",
        "outputId": "62e9b813-616d-49aa-f33d-6c1c6d5f2892",
        "collapsed": true
      },
      "execution_count": null,
      "outputs": [
        {
          "output_type": "execute_result",
          "data": {
            "text/plain": [
              "[1,\n",
              " 2,\n",
              " 3,\n",
              " 4,\n",
              " 5,\n",
              " 6,\n",
              " 7,\n",
              " 8,\n",
              " 9,\n",
              " 10,\n",
              " 11,\n",
              " 12,\n",
              " 13,\n",
              " 14,\n",
              " 15,\n",
              " 16,\n",
              " 17,\n",
              " 18,\n",
              " 19,\n",
              " 20,\n",
              " 21,\n",
              " 22,\n",
              " 23,\n",
              " 24,\n",
              " 25,\n",
              " 26,\n",
              " 27,\n",
              " 28,\n",
              " 29,\n",
              " 30,\n",
              " 31,\n",
              " 32,\n",
              " 33,\n",
              " 34,\n",
              " 35,\n",
              " 36,\n",
              " 37,\n",
              " 38,\n",
              " 39,\n",
              " 40,\n",
              " 41,\n",
              " 42,\n",
              " 43,\n",
              " 44,\n",
              " 45,\n",
              " 46,\n",
              " 47,\n",
              " 48,\n",
              " 49,\n",
              " 50,\n",
              " 51,\n",
              " 52,\n",
              " 53,\n",
              " 54,\n",
              " 55,\n",
              " 56,\n",
              " 57,\n",
              " 58,\n",
              " 59,\n",
              " 60,\n",
              " 61,\n",
              " 62,\n",
              " 63,\n",
              " 64,\n",
              " 65,\n",
              " 66,\n",
              " 67,\n",
              " 68,\n",
              " 69,\n",
              " 70,\n",
              " 71,\n",
              " 72,\n",
              " 73,\n",
              " 74,\n",
              " 75,\n",
              " 76,\n",
              " 77,\n",
              " 78,\n",
              " 79,\n",
              " 80,\n",
              " 81,\n",
              " 82,\n",
              " 83,\n",
              " 84,\n",
              " 85,\n",
              " 86,\n",
              " 87,\n",
              " 88,\n",
              " 89,\n",
              " 90,\n",
              " 91,\n",
              " 92,\n",
              " 93,\n",
              " 94,\n",
              " 95,\n",
              " 96,\n",
              " 97,\n",
              " 98,\n",
              " 99,\n",
              " 100]"
            ]
          },
          "metadata": {},
          "execution_count": 42
        }
      ]
    },
    {
      "cell_type": "markdown",
      "source": [
        "#2"
      ],
      "metadata": {
        "id": "lKSGi83K_fm9"
      }
    },
    {
      "cell_type": "code",
      "source": [
        "res=1\n",
        "for e in range(2,101):\n",
        "  print(f\"{res} + {e} = {res+e}\")\n",
        "  res=res+e"
      ],
      "metadata": {
        "colab": {
          "base_uri": "https://localhost:8080/"
        },
        "collapsed": true,
        "id": "7XkDDAy58f23",
        "outputId": "1d75869a-7cf4-49c8-f07c-85fff2798a2a"
      },
      "execution_count": null,
      "outputs": [
        {
          "output_type": "stream",
          "name": "stdout",
          "text": [
            "1 + 2 = 3\n",
            "3 + 3 = 6\n",
            "6 + 4 = 10\n",
            "10 + 5 = 15\n",
            "15 + 6 = 21\n",
            "21 + 7 = 28\n",
            "28 + 8 = 36\n",
            "36 + 9 = 45\n",
            "45 + 10 = 55\n",
            "55 + 11 = 66\n",
            "66 + 12 = 78\n",
            "78 + 13 = 91\n",
            "91 + 14 = 105\n",
            "105 + 15 = 120\n",
            "120 + 16 = 136\n",
            "136 + 17 = 153\n",
            "153 + 18 = 171\n",
            "171 + 19 = 190\n",
            "190 + 20 = 210\n",
            "210 + 21 = 231\n",
            "231 + 22 = 253\n",
            "253 + 23 = 276\n",
            "276 + 24 = 300\n",
            "300 + 25 = 325\n",
            "325 + 26 = 351\n",
            "351 + 27 = 378\n",
            "378 + 28 = 406\n",
            "406 + 29 = 435\n",
            "435 + 30 = 465\n",
            "465 + 31 = 496\n",
            "496 + 32 = 528\n",
            "528 + 33 = 561\n",
            "561 + 34 = 595\n",
            "595 + 35 = 630\n",
            "630 + 36 = 666\n",
            "666 + 37 = 703\n",
            "703 + 38 = 741\n",
            "741 + 39 = 780\n",
            "780 + 40 = 820\n",
            "820 + 41 = 861\n",
            "861 + 42 = 903\n",
            "903 + 43 = 946\n",
            "946 + 44 = 990\n",
            "990 + 45 = 1035\n",
            "1035 + 46 = 1081\n",
            "1081 + 47 = 1128\n",
            "1128 + 48 = 1176\n",
            "1176 + 49 = 1225\n",
            "1225 + 50 = 1275\n",
            "1275 + 51 = 1326\n",
            "1326 + 52 = 1378\n",
            "1378 + 53 = 1431\n",
            "1431 + 54 = 1485\n",
            "1485 + 55 = 1540\n",
            "1540 + 56 = 1596\n",
            "1596 + 57 = 1653\n",
            "1653 + 58 = 1711\n",
            "1711 + 59 = 1770\n",
            "1770 + 60 = 1830\n",
            "1830 + 61 = 1891\n",
            "1891 + 62 = 1953\n",
            "1953 + 63 = 2016\n",
            "2016 + 64 = 2080\n",
            "2080 + 65 = 2145\n",
            "2145 + 66 = 2211\n",
            "2211 + 67 = 2278\n",
            "2278 + 68 = 2346\n",
            "2346 + 69 = 2415\n",
            "2415 + 70 = 2485\n",
            "2485 + 71 = 2556\n",
            "2556 + 72 = 2628\n",
            "2628 + 73 = 2701\n",
            "2701 + 74 = 2775\n",
            "2775 + 75 = 2850\n",
            "2850 + 76 = 2926\n",
            "2926 + 77 = 3003\n",
            "3003 + 78 = 3081\n",
            "3081 + 79 = 3160\n",
            "3160 + 80 = 3240\n",
            "3240 + 81 = 3321\n",
            "3321 + 82 = 3403\n",
            "3403 + 83 = 3486\n",
            "3486 + 84 = 3570\n",
            "3570 + 85 = 3655\n",
            "3655 + 86 = 3741\n",
            "3741 + 87 = 3828\n",
            "3828 + 88 = 3916\n",
            "3916 + 89 = 4005\n",
            "4005 + 90 = 4095\n",
            "4095 + 91 = 4186\n",
            "4186 + 92 = 4278\n",
            "4278 + 93 = 4371\n",
            "4371 + 94 = 4465\n",
            "4465 + 95 = 4560\n",
            "4560 + 96 = 4656\n",
            "4656 + 97 = 4753\n",
            "4753 + 98 = 4851\n",
            "4851 + 99 = 4950\n",
            "4950 + 100 = 5050\n"
          ]
        }
      ]
    },
    {
      "cell_type": "code",
      "source": [
        "res=1\n",
        "a=range(2,101)\n",
        "for e in a:\n",
        "  print(f\"{res} + {e} = {res+e}\")\n",
        "  res=res+e"
      ],
      "metadata": {
        "colab": {
          "base_uri": "https://localhost:8080/"
        },
        "collapsed": true,
        "id": "WKEtb88fBOPc",
        "outputId": "82042235-ea6e-453e-a80f-ebd10e5f3e3a"
      },
      "execution_count": null,
      "outputs": [
        {
          "output_type": "stream",
          "name": "stdout",
          "text": [
            "1 + 2 = 3\n",
            "3 + 3 = 6\n",
            "6 + 4 = 10\n",
            "10 + 5 = 15\n",
            "15 + 6 = 21\n",
            "21 + 7 = 28\n",
            "28 + 8 = 36\n",
            "36 + 9 = 45\n",
            "45 + 10 = 55\n",
            "55 + 11 = 66\n",
            "66 + 12 = 78\n",
            "78 + 13 = 91\n",
            "91 + 14 = 105\n",
            "105 + 15 = 120\n",
            "120 + 16 = 136\n",
            "136 + 17 = 153\n",
            "153 + 18 = 171\n",
            "171 + 19 = 190\n",
            "190 + 20 = 210\n",
            "210 + 21 = 231\n",
            "231 + 22 = 253\n",
            "253 + 23 = 276\n",
            "276 + 24 = 300\n",
            "300 + 25 = 325\n",
            "325 + 26 = 351\n",
            "351 + 27 = 378\n",
            "378 + 28 = 406\n",
            "406 + 29 = 435\n",
            "435 + 30 = 465\n",
            "465 + 31 = 496\n",
            "496 + 32 = 528\n",
            "528 + 33 = 561\n",
            "561 + 34 = 595\n",
            "595 + 35 = 630\n",
            "630 + 36 = 666\n",
            "666 + 37 = 703\n",
            "703 + 38 = 741\n",
            "741 + 39 = 780\n",
            "780 + 40 = 820\n",
            "820 + 41 = 861\n",
            "861 + 42 = 903\n",
            "903 + 43 = 946\n",
            "946 + 44 = 990\n",
            "990 + 45 = 1035\n",
            "1035 + 46 = 1081\n",
            "1081 + 47 = 1128\n",
            "1128 + 48 = 1176\n",
            "1176 + 49 = 1225\n",
            "1225 + 50 = 1275\n",
            "1275 + 51 = 1326\n",
            "1326 + 52 = 1378\n",
            "1378 + 53 = 1431\n",
            "1431 + 54 = 1485\n",
            "1485 + 55 = 1540\n",
            "1540 + 56 = 1596\n",
            "1596 + 57 = 1653\n",
            "1653 + 58 = 1711\n",
            "1711 + 59 = 1770\n",
            "1770 + 60 = 1830\n",
            "1830 + 61 = 1891\n",
            "1891 + 62 = 1953\n",
            "1953 + 63 = 2016\n",
            "2016 + 64 = 2080\n",
            "2080 + 65 = 2145\n",
            "2145 + 66 = 2211\n",
            "2211 + 67 = 2278\n",
            "2278 + 68 = 2346\n",
            "2346 + 69 = 2415\n",
            "2415 + 70 = 2485\n",
            "2485 + 71 = 2556\n",
            "2556 + 72 = 2628\n",
            "2628 + 73 = 2701\n",
            "2701 + 74 = 2775\n",
            "2775 + 75 = 2850\n",
            "2850 + 76 = 2926\n",
            "2926 + 77 = 3003\n",
            "3003 + 78 = 3081\n",
            "3081 + 79 = 3160\n",
            "3160 + 80 = 3240\n",
            "3240 + 81 = 3321\n",
            "3321 + 82 = 3403\n",
            "3403 + 83 = 3486\n",
            "3486 + 84 = 3570\n",
            "3570 + 85 = 3655\n",
            "3655 + 86 = 3741\n",
            "3741 + 87 = 3828\n",
            "3828 + 88 = 3916\n",
            "3916 + 89 = 4005\n",
            "4005 + 90 = 4095\n",
            "4095 + 91 = 4186\n",
            "4186 + 92 = 4278\n",
            "4278 + 93 = 4371\n",
            "4371 + 94 = 4465\n",
            "4465 + 95 = 4560\n",
            "4560 + 96 = 4656\n",
            "4656 + 97 = 4753\n",
            "4753 + 98 = 4851\n",
            "4851 + 99 = 4950\n",
            "4950 + 100 = 5050\n"
          ]
        }
      ]
    },
    {
      "cell_type": "markdown",
      "source": [
        "#3"
      ],
      "metadata": {
        "id": "hHQW8BwU_gst"
      }
    },
    {
      "cell_type": "code",
      "source": [
        "#3\n",
        "for e in range(3,33,3):\n",
        "  print(e)"
      ],
      "metadata": {
        "id": "oTJ3uWf7-T2W"
      },
      "execution_count": null,
      "outputs": []
    },
    {
      "cell_type": "code",
      "source": [
        "#3\n",
        "a=list(range(3,33,3))\n",
        "for e in a:\n",
        "  print(e)"
      ],
      "metadata": {
        "colab": {
          "base_uri": "https://localhost:8080/"
        },
        "id": "UZz_Gvtw-hGW",
        "outputId": "2b027f56-231f-4d94-bed0-efe40a57790c"
      },
      "execution_count": null,
      "outputs": [
        {
          "output_type": "stream",
          "name": "stdout",
          "text": [
            "3\n",
            "6\n",
            "9\n",
            "12\n",
            "15\n",
            "18\n",
            "21\n",
            "24\n",
            "27\n",
            "30\n"
          ]
        }
      ]
    },
    {
      "cell_type": "code",
      "source": [
        "a"
      ],
      "metadata": {
        "colab": {
          "base_uri": "https://localhost:8080/"
        },
        "id": "IY-rHYSt-s0H",
        "outputId": "9d9f0a3f-4b36-42a2-957f-54e1eb5921c0"
      },
      "execution_count": null,
      "outputs": [
        {
          "output_type": "execute_result",
          "data": {
            "text/plain": [
              "[3, 6, 9, 12, 15, 18, 21, 24, 27, 30]"
            ]
          },
          "metadata": {},
          "execution_count": 45
        }
      ]
    },
    {
      "cell_type": "markdown",
      "source": [
        "#4"
      ],
      "metadata": {
        "id": "0ubBytqhBlZb"
      }
    },
    {
      "cell_type": "code",
      "source": [
        "a=int(input(\"Ingresa un numero: \"))\n",
        "print(f\"Tabla del {a}\")\n",
        "for e in range(1,11,1):\n",
        "  print(f\"{a} x {e} = {a*e}\")"
      ],
      "metadata": {
        "colab": {
          "base_uri": "https://localhost:8080/"
        },
        "collapsed": true,
        "id": "gFxsbrRbBm8k",
        "outputId": "9016bb04-5547-49c4-b7e1-760634fbdfc6"
      },
      "execution_count": null,
      "outputs": [
        {
          "output_type": "stream",
          "name": "stdout",
          "text": [
            "Ingresa un numero: 4\n",
            "Tabla del 4\n",
            "4 x 1 = 4\n",
            "4 x 2 = 8\n",
            "4 x 3 = 12\n",
            "4 x 4 = 16\n",
            "4 x 5 = 20\n",
            "4 x 6 = 24\n",
            "4 x 7 = 28\n",
            "4 x 8 = 32\n",
            "4 x 9 = 36\n",
            "4 x 10 = 40\n"
          ]
        }
      ]
    },
    {
      "cell_type": "code",
      "source": [
        "woli=list(range(1,11,1))\n",
        "a=int(input(\"Ingresa un numero: \"))\n",
        "print(f\"Tabla del {a}\")\n",
        "for e in woli:\n",
        "  print(f\"{a} x {e} = {a*e}\")"
      ],
      "metadata": {
        "colab": {
          "base_uri": "https://localhost:8080/"
        },
        "collapsed": true,
        "id": "79IxbBxICKiL",
        "outputId": "f9ec7cf1-f5d8-45a3-ac6b-82e08991b461"
      },
      "execution_count": null,
      "outputs": [
        {
          "output_type": "stream",
          "name": "stdout",
          "text": [
            "Ingresa un numero: 5\n",
            "Tabla del 5\n",
            "5 x 1 = 5\n",
            "5 x 2 = 10\n",
            "5 x 3 = 15\n",
            "5 x 4 = 20\n",
            "5 x 5 = 25\n",
            "5 x 6 = 30\n",
            "5 x 7 = 35\n",
            "5 x 8 = 40\n",
            "5 x 9 = 45\n",
            "5 x 10 = 50\n"
          ]
        }
      ]
    },
    {
      "cell_type": "markdown",
      "source": [
        "#5"
      ],
      "metadata": {
        "id": "ulX9oUAK_eB_"
      }
    },
    {
      "cell_type": "code",
      "source": [
        "a = 0\n",
        "for e in range(5):\n",
        "  e=int(input(f\"ingresa un valor el valor {e+1}: \"))\n",
        "  a = a + e\n",
        "print(f\"El promedio de los cinco numeros es: \", a/5)"
      ],
      "metadata": {
        "id": "_j_e3rBCFTS4",
        "colab": {
          "base_uri": "https://localhost:8080/"
        },
        "outputId": "ea7aacce-3490-4724-f53b-18177d51c8a4"
      },
      "execution_count": 87,
      "outputs": [
        {
          "output_type": "stream",
          "name": "stdout",
          "text": [
            "ingresa un valor el valor 1: 1\n",
            "ingresa un valor el valor 2: 1\n",
            "ingresa un valor el valor 3: 1\n",
            "ingresa un valor el valor 4: 1\n",
            "ingresa un valor el valor 5: 2\n",
            "El promedio de los cinco numeros es:  1.2\n"
          ]
        }
      ]
    },
    {
      "cell_type": "code",
      "source": [
        "a = 0\n",
        "gab=[]\n",
        "for e in range(5):\n",
        "  e=int(input(f\"ingresa un valor el valor {e+1}: \"))\n",
        "  gab.append(e)\n",
        "  a = a + e\n",
        "print(f\"El promedio de los cinco numeros es: \", a/5)"
      ],
      "metadata": {
        "colab": {
          "base_uri": "https://localhost:8080/"
        },
        "id": "q9JgAp2o9DxR",
        "outputId": "a5199b4c-4893-4720-9e03-bb7c6be39463"
      },
      "execution_count": 96,
      "outputs": [
        {
          "output_type": "stream",
          "name": "stdout",
          "text": [
            "ingresa un valor el valor 1: 2334\n",
            "ingresa un valor el valor 2: 53453\n",
            "ingresa un valor el valor 3: 235446\n",
            "ingresa un valor el valor 4: 2352\n",
            "ingresa un valor el valor 5: 3452\n",
            "El promedio de los cinco numeros es:  59407.4\n"
          ]
        }
      ]
    },
    {
      "cell_type": "code",
      "source": [
        "gab"
      ],
      "metadata": {
        "colab": {
          "base_uri": "https://localhost:8080/"
        },
        "id": "J_Lnn4Q3DI73",
        "outputId": "6fa20aa6-1959-4133-8905-f528a4049ada"
      },
      "execution_count": 97,
      "outputs": [
        {
          "output_type": "execute_result",
          "data": {
            "text/plain": [
              "[2334, 53453, 235446, 2352, 3452]"
            ]
          },
          "metadata": {},
          "execution_count": 97
        }
      ]
    },
    {
      "cell_type": "markdown",
      "source": [
        "#6"
      ],
      "metadata": {
        "id": "i3lHYMKVDWav"
      }
    },
    {
      "cell_type": "code",
      "source": [
        "p=int(input(\"Ingresa el numero que desees: \"))\n",
        "mn = 0\n",
        "for mila in range(1,p+1,1):\n",
        "  if mila % 2 == 0:\n",
        "    mn = mn + 1\n",
        "print(f\"Los pares que hay entre 1 y {p} son: {mn}\")\n",
        "\n",
        ""
      ],
      "metadata": {
        "colab": {
          "base_uri": "https://localhost:8080/"
        },
        "id": "wuZCKj5zDXXa",
        "outputId": "a6c9f8b6-0204-49a8-b5ed-3efcba0ad339"
      },
      "execution_count": 127,
      "outputs": [
        {
          "output_type": "stream",
          "name": "stdout",
          "text": [
            "Ingresa el numero que desees: 2\n",
            "Los pares que hay entre 1 y 2 son: 1\n"
          ]
        }
      ]
    },
    {
      "cell_type": "code",
      "source": [
        "p=int(input(\"Ingresa el numero que desees: \"))\n",
        "pul=[]\n",
        "mn = 0\n",
        "for mila in range(1,p+1,1):\n",
        "  pul.append(mila)\n",
        "  if mila % 2 == 0:\n",
        "    mn = mn + 1\n",
        "print(f\"Los pares que hay entre 1 y {p} son: {mn}\")"
      ],
      "metadata": {
        "colab": {
          "base_uri": "https://localhost:8080/"
        },
        "id": "YxOqjjX0EWNg",
        "outputId": "2d2ffc27-5a1d-4238-fb71-b89a7022da43"
      },
      "execution_count": 129,
      "outputs": [
        {
          "output_type": "stream",
          "name": "stdout",
          "text": [
            "Ingresa el numero que desees: 8\n",
            "Los pares que hay entre 1 y 8 son: 4\n"
          ]
        }
      ]
    },
    {
      "cell_type": "code",
      "source": [
        "pul"
      ],
      "metadata": {
        "colab": {
          "base_uri": "https://localhost:8080/"
        },
        "id": "B3e6ByDgHv0Z",
        "outputId": "0e7ee58c-a850-4f59-93a0-862e4828cfb5"
      },
      "execution_count": 130,
      "outputs": [
        {
          "output_type": "execute_result",
          "data": {
            "text/plain": [
              "[1, 2, 3, 4, 5, 6, 7, 8]"
            ]
          },
          "metadata": {},
          "execution_count": 130
        }
      ]
    },
    {
      "cell_type": "markdown",
      "source": [
        "#7"
      ],
      "metadata": {
        "id": "fpTT7D8xH0NA"
      }
    },
    {
      "cell_type": "code",
      "source": [
        "gm=input(\"Ingresa tu apellido \")\n",
        "b=f\"{gm}{len(gm)}\"\n",
        "for ch in range(3):\n",
        "  g=input(\"Ingresa la contraseña: \")\n",
        "  if g==b:\n",
        "    print(\"contrseña valida :)\")\n",
        "    break\n",
        "  else:\n",
        "    print(\"Contraseña incorrecta\")\n",
        "else:\n",
        "  print(\"se acabaron los intentos\")\n",
        "\n"
      ],
      "metadata": {
        "colab": {
          "base_uri": "https://localhost:8080/"
        },
        "id": "myRjsK0nHz-0",
        "outputId": "c7018623-73eb-4f12-c196-8bca758bda68"
      },
      "execution_count": 37,
      "outputs": [
        {
          "output_type": "stream",
          "name": "stdout",
          "text": [
            "Ingresa tu apellido rey\n",
            "Ingresa la contraseña: rey3\n",
            "contrseña valida :)\n"
          ]
        }
      ]
    },
    {
      "cell_type": "code",
      "source": [
        "gm=input(\"Ingresa tu apellido \")\n",
        "k=[]\n",
        "b=f\"{gm}{len(gm)}\"\n",
        "for ch in range(3):\n",
        "  g=input(\"Ingresa la contraseña: \")\n",
        "  k.append(g)\n",
        "  if g==b:\n",
        "    print(\"contrseña valida :)\")\n",
        "    break\n",
        "  else:\n",
        "    print(\"Contraseña incorrecta\")"
      ],
      "metadata": {
        "colab": {
          "base_uri": "https://localhost:8080/"
        },
        "id": "q6fL_bq9IMxQ",
        "outputId": "d799547c-7fe6-4220-9af0-a1d22fba740e"
      },
      "execution_count": 45,
      "outputs": [
        {
          "output_type": "stream",
          "name": "stdout",
          "text": [
            "Ingresa tu apellido rey\n",
            "Ingresa la contraseña: re4\n",
            "Contraseña incorrecta\n",
            "Ingresa la contraseña: rey3\n",
            "contrseña valida :)\n"
          ]
        }
      ]
    },
    {
      "cell_type": "code",
      "source": [
        "k"
      ],
      "metadata": {
        "colab": {
          "base_uri": "https://localhost:8080/"
        },
        "id": "2rVzkGWTQ5YL",
        "outputId": "470183e9-3c29-41db-e3df-747fb0ee2d3a"
      },
      "execution_count": 46,
      "outputs": [
        {
          "output_type": "execute_result",
          "data": {
            "text/plain": [
              "['re4', 'rey3']"
            ]
          },
          "metadata": {},
          "execution_count": 46
        }
      ]
    },
    {
      "cell_type": "markdown",
      "source": [
        "#8"
      ],
      "metadata": {
        "id": "_YMbN1tlRseS"
      }
    },
    {
      "cell_type": "code",
      "source": [
        "n = int(input(\"¿Cuántos números de la serie Fibonacci deseas ver? \"))\n",
        "a, b = 0, 1\n",
        "\n",
        "print(f\"Los numeros de la serie Fibonacci hasta {n} son: \")\n",
        "for mila in range(n+1):\n",
        "    print(a)\n",
        "    a, b = b, a + b\n"
      ],
      "metadata": {
        "colab": {
          "base_uri": "https://localhost:8080/"
        },
        "collapsed": true,
        "id": "hH5Yh1QWRsQ5",
        "outputId": "5ac07790-d9d0-4248-ecd1-bf4271ea4714"
      },
      "execution_count": 131,
      "outputs": [
        {
          "output_type": "stream",
          "name": "stdout",
          "text": [
            "¿Cuántos números de la serie Fibonacci deseas ver? 8\n",
            "Los numeros de la serie Fibonacci hasta 8 son: \n",
            "0\n",
            "1\n",
            "1\n",
            "2\n",
            "3\n",
            "5\n",
            "8\n",
            "13\n",
            "21\n"
          ]
        }
      ]
    },
    {
      "cell_type": "code",
      "source": [
        "n=int(input(\"cuantos numeros de la sucesión de Fibonacci deseas que aparezcan? \"))\n",
        "a, b=0,1\n",
        "h=[]\n",
        "print(f\"Los numeros de la serie Fibonacci hasta {n} son: \")\n",
        "for mila in range(n+1):\n",
        "  print(a)\n",
        "  h.append(a)\n",
        "  a, b = b, a + b"
      ],
      "metadata": {
        "colab": {
          "base_uri": "https://localhost:8080/"
        },
        "id": "HuRBlQT-cKPt",
        "outputId": "293b9012-15fe-42fc-92ef-00c54df78d7c"
      },
      "execution_count": 133,
      "outputs": [
        {
          "output_type": "stream",
          "name": "stdout",
          "text": [
            "cuantos numeros de la sucesión de Fibonacci deseas que aparezcan? 8\n",
            "Los numeros de la serie Fibonacci hasta 8 son: \n",
            "0\n",
            "1\n",
            "1\n",
            "2\n",
            "3\n",
            "5\n",
            "8\n",
            "13\n",
            "21\n"
          ]
        }
      ]
    },
    {
      "cell_type": "code",
      "source": [
        "h"
      ],
      "metadata": {
        "colab": {
          "base_uri": "https://localhost:8080/"
        },
        "id": "lFu75MA7d9uz",
        "outputId": "965fa934-32ac-480f-fb00-b79581e2fa3c"
      },
      "execution_count": 93,
      "outputs": [
        {
          "output_type": "execute_result",
          "data": {
            "text/plain": [
              "[0, 1, 1, 2, 3, 5, 8, 13]"
            ]
          },
          "metadata": {},
          "execution_count": 93
        }
      ]
    },
    {
      "cell_type": "markdown",
      "source": [
        "#9"
      ],
      "metadata": {
        "id": "fAftjHRneLFq"
      }
    },
    {
      "cell_type": "code",
      "source": [
        "u=int(input(\"ingresa un numero \") )\n",
        "for h in range(2,u):\n",
        "  if u % h == 0:\n",
        "    print(f\"El numero {u} no es primo\")\n",
        "    break\n",
        "else:\n",
        "  print(f\"El numero {u} es primo\")"
      ],
      "metadata": {
        "colab": {
          "base_uri": "https://localhost:8080/"
        },
        "id": "9kdgntd8eVSM",
        "outputId": "8d453353-546b-436a-b203-51f69bd592ff"
      },
      "execution_count": 103,
      "outputs": [
        {
          "output_type": "stream",
          "name": "stdout",
          "text": [
            "ingresa un numero 1534345\n",
            "El numero 1534345 no es primo\n"
          ]
        }
      ]
    },
    {
      "cell_type": "code",
      "source": [
        "u=int(input(\"ingresa un numero \") )\n",
        "k=[]\n",
        "for h in range(2,u):\n",
        "  k.append(u)\n",
        "  if u % h == 0:\n",
        "    print(f\"El numero {u} no es primo\")\n",
        "    break\n",
        "else:\n",
        "  print(f\"El numero {u} es primo\")"
      ],
      "metadata": {
        "colab": {
          "base_uri": "https://localhost:8080/"
        },
        "id": "OW4MQZPvfpGs",
        "outputId": "92dca741-2930-4028-82da-be674374a618"
      },
      "execution_count": 104,
      "outputs": [
        {
          "output_type": "stream",
          "name": "stdout",
          "text": [
            "ingresa un numero 6\n",
            "El numero 6 no es primo\n"
          ]
        }
      ]
    },
    {
      "cell_type": "code",
      "source": [
        "k"
      ],
      "metadata": {
        "colab": {
          "base_uri": "https://localhost:8080/"
        },
        "id": "JQ69qFKYf6Hy",
        "outputId": "c30a2cd1-8706-4f34-9f80-2306c11b6044"
      },
      "execution_count": 105,
      "outputs": [
        {
          "output_type": "execute_result",
          "data": {
            "text/plain": [
              "[6]"
            ]
          },
          "metadata": {},
          "execution_count": 105
        }
      ]
    },
    {
      "cell_type": "markdown",
      "source": [
        "#10"
      ],
      "metadata": {
        "id": "3uCzhWVbhVjk"
      }
    },
    {
      "cell_type": "code",
      "source": [
        "fr=int(input(\"cuantos numeros quieres ingresar: \"))\n",
        "t=0\n",
        "h=0\n",
        "p=0\n",
        "for ml in range(1,fr+1):\n",
        "  o=int(input(f\"Ingresa el valor {ml} \"))\n",
        "  if o>0:\n",
        "    t=t+1\n",
        "  elif o<0:\n",
        "    h=h+1\n",
        "  else:\n",
        "    p=p+1\n",
        "print(f\"hay {t} positivos, {h} negativos y {p} que son 0\")"
      ],
      "metadata": {
        "colab": {
          "base_uri": "https://localhost:8080/"
        },
        "collapsed": true,
        "id": "SCia6Zp-hXJy",
        "outputId": "58cd1aa8-96a2-476d-d7d2-2546e4cd3adf"
      },
      "execution_count": 140,
      "outputs": [
        {
          "output_type": "stream",
          "name": "stdout",
          "text": [
            "cuantos numeros quieres ingresar: 5\n",
            "Ingresa el valor 1 10\n",
            "Ingresa el valor 2 -9\n",
            "Ingresa el valor 3 0\n",
            "Ingresa el valor 4 5\n",
            "Ingresa el valor 5 -6\n",
            "hay 2 positivos, 2 negativos y 1 que son 0\n"
          ]
        }
      ]
    },
    {
      "cell_type": "code",
      "source": [
        "fr=int(input(\"cuantos numeros quieres ingresar: \"))\n",
        "t=0\n",
        "h=0\n",
        "p=0\n",
        "pj=[]\n",
        "for ml in range(1,fr+1):\n",
        "  o=int(input(f\"Ingresa el valor {ml} \"))\n",
        "  pj.append(o)\n",
        "  if o>0:\n",
        "    t=t+1\n",
        "  elif o<0:\n",
        "    h=h+1\n",
        "  else:\n",
        "    p=p+1\n",
        "print(f\"hay {t} positivos, {h} negativos y {p} que son 0\")"
      ],
      "metadata": {
        "colab": {
          "base_uri": "https://localhost:8080/"
        },
        "id": "Tb9Ic9vUjw92",
        "outputId": "262683fc-42e4-451d-9281-b60cc3fb3c6a"
      },
      "execution_count": 141,
      "outputs": [
        {
          "output_type": "stream",
          "name": "stdout",
          "text": [
            "cuantos numeros quieres ingresar: 2\n",
            "Ingresa el valor 1 2\n",
            "Ingresa el valor 2 0\n",
            "hay 1 positivos, 0 negativos y 1 que son 0\n"
          ]
        }
      ]
    },
    {
      "cell_type": "code",
      "source": [
        "pj"
      ],
      "metadata": {
        "colab": {
          "base_uri": "https://localhost:8080/"
        },
        "id": "8uDK3Lmoj5cs",
        "outputId": "b4ec83a3-afac-4bc2-9933-aeaa84e3136b"
      },
      "execution_count": 142,
      "outputs": [
        {
          "output_type": "execute_result",
          "data": {
            "text/plain": [
              "[2, 0]"
            ]
          },
          "metadata": {},
          "execution_count": 142
        }
      ]
    }
  ]
}