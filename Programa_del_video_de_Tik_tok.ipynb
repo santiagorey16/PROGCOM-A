{
  "nbformat": 4,
  "nbformat_minor": 0,
  "metadata": {
    "colab": {
      "provenance": [],
      "authorship_tag": "ABX9TyNGqDdF/YaNCgSxpMI9Www6",
      "include_colab_link": true
    },
    "kernelspec": {
      "name": "python3",
      "display_name": "Python 3"
    },
    "language_info": {
      "name": "python"
    }
  },
  "cells": [
    {
      "cell_type": "markdown",
      "metadata": {
        "id": "view-in-github",
        "colab_type": "text"
      },
      "source": [
        "<a href=\"https://colab.research.google.com/github/santiagorey16/PROGCOM-A/blob/main/Programa_del_video_de_Tik_tok.ipynb\" target=\"_parent\"><img src=\"https://colab.research.google.com/assets/colab-badge.svg\" alt=\"Open In Colab\"/></a>"
      ]
    },
    {
      "cell_type": "code",
      "execution_count": null,
      "metadata": {
        "id": "_cB54N5PLa1Y"
      },
      "outputs": [],
      "source": [
        "def mover_cadera(a,b):\n",
        "  for j in range(b):\n",
        "      for i in range(a):\n",
        "        print(\"Mover cadera a la derecha\")\n",
        "      for i in range(a):\n",
        "        print(\"Mover cadera a la izquierda\")\n"
      ]
    },
    {
      "cell_type": "code",
      "source": [
        "mover_cadera(2,3)"
      ],
      "metadata": {
        "colab": {
          "base_uri": "https://localhost:8080/"
        },
        "id": "F7TzbufGMW4S",
        "outputId": "f0bda090-d8c1-4325-8509-227da638e291"
      },
      "execution_count": null,
      "outputs": [
        {
          "output_type": "stream",
          "name": "stdout",
          "text": [
            "Mover cadera a la derecha\n",
            "Mover cadera a la derecha\n",
            "Mover cadera a la izquierda\n",
            "Mover cadera a la izquierda\n",
            "Mover cadera a la derecha\n",
            "Mover cadera a la derecha\n",
            "Mover cadera a la izquierda\n",
            "Mover cadera a la izquierda\n",
            "Mover cadera a la derecha\n",
            "Mover cadera a la derecha\n",
            "Mover cadera a la izquierda\n",
            "Mover cadera a la izquierda\n"
          ]
        }
      ]
    },
    {
      "cell_type": "markdown",
      "source": [
        "#Programa del video de Tik tok"
      ],
      "metadata": {
        "id": "R9PJmeYKqJi8"
      }
    },
    {
      "cell_type": "code",
      "source": [
        "def paso1():\n",
        "  print(\"Estar parado quieto\")\n",
        "  print()\n",
        "def paso2():\n",
        "  print(\"alzar los brazos a 90 grados hacia delante y poner las manos hacia bajo\")\n",
        "  print(\"subir las manos de arriba\")\n",
        "def paso3(a):\n",
        "  for b in range(1,a+1):\n",
        "    if b == 1:\n",
        "      print(f\"subir las manos por el cuello {b} vez\")\n",
        "    else:\n",
        "      print(f\"subir las manos por el cuello {b} veces\")\n",
        "def paso4():\n",
        "  print(\"\")\n"
      ],
      "metadata": {
        "id": "AvS8OSPhqPls"
      },
      "execution_count": null,
      "outputs": []
    },
    {
      "cell_type": "code",
      "source": [
        "paso3(2)"
      ],
      "metadata": {
        "colab": {
          "base_uri": "https://localhost:8080/"
        },
        "id": "XAddMZ3jtBoK",
        "outputId": "7985406c-4d34-4121-861b-fedbef11183b"
      },
      "execution_count": null,
      "outputs": [
        {
          "output_type": "stream",
          "name": "stdout",
          "text": [
            "subir las manos por el cuello 1 vez\n",
            "subir las manos por el cuello 2 veces\n"
          ]
        }
      ]
    }
  ]
}