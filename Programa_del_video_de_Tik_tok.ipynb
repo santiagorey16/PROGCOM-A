{
  "nbformat": 4,
  "nbformat_minor": 0,
  "metadata": {
    "colab": {
      "provenance": [],
      "authorship_tag": "ABX9TyO3qjpO8dUUWrkslxzjR8G8",
      "include_colab_link": true
    },
    "kernelspec": {
      "name": "python3",
      "display_name": "Python 3"
    },
    "language_info": {
      "name": "python"
    }
  },
  "cells": [
    {
      "cell_type": "markdown",
      "metadata": {
        "id": "view-in-github",
        "colab_type": "text"
      },
      "source": [
        "<a href=\"https://colab.research.google.com/github/santiagorey16/PROGCOM-A/blob/main/Programa_del_video_de_Tik_tok.ipynb\" target=\"_parent\"><img src=\"https://colab.research.google.com/assets/colab-badge.svg\" alt=\"Open In Colab\"/></a>"
      ]
    },
    {
      "cell_type": "code",
      "execution_count": null,
      "metadata": {
        "id": "_cB54N5PLa1Y"
      },
      "outputs": [],
      "source": [
        "def mover_cadera(a,b):\n",
        "  for j in range(b):\n",
        "      for i in range(a):\n",
        "        print(\"Mover cadera a la derecha\")\n",
        "      for i in range(a):\n",
        "        print(\"Mover cadera a la izquierda\")\n"
      ]
    },
    {
      "cell_type": "code",
      "source": [
        "mover_cadera(2,3)"
      ],
      "metadata": {
        "colab": {
          "base_uri": "https://localhost:8080/"
        },
        "id": "F7TzbufGMW4S",
        "outputId": "f0bda090-d8c1-4325-8509-227da638e291"
      },
      "execution_count": null,
      "outputs": [
        {
          "output_type": "stream",
          "name": "stdout",
          "text": [
            "Mover cadera a la derecha\n",
            "Mover cadera a la derecha\n",
            "Mover cadera a la izquierda\n",
            "Mover cadera a la izquierda\n",
            "Mover cadera a la derecha\n",
            "Mover cadera a la derecha\n",
            "Mover cadera a la izquierda\n",
            "Mover cadera a la izquierda\n",
            "Mover cadera a la derecha\n",
            "Mover cadera a la derecha\n",
            "Mover cadera a la izquierda\n",
            "Mover cadera a la izquierda\n"
          ]
        }
      ]
    },
    {
      "cell_type": "markdown",
      "source": [
        "#Programa del video de Tik tok"
      ],
      "metadata": {
        "id": "R9PJmeYKqJi8"
      }
    },
    {
      "cell_type": "code",
      "source": [
        "def paso1():\n",
        "  print(\"Estar parado quieto\")\n",
        "  print()\n",
        "def paso2():\n",
        "  print(\"alzar los brazos a 90 grados hacia delante y poner las manos hacia bajo\")\n",
        "  print(\"subir las manos de arriba\")\n",
        "def paso3(a):\n",
        "  for b in range(1,a+1):\n",
        "    if b == 1:\n",
        "      print(f\"subir las manos por el cuello {b} vez\")\n",
        "    else:\n",
        "      print(f\"subir las manos por el cuello {b} veces\")\n",
        "def paso4():\n",
        "  print(\"agacharse\")\n",
        "  print(\"y abrir los brazos hacia abajo\")\n",
        "def paso5():\n",
        "  print(\"alzar las brazos y cruzarlos por la parte de las muñecas\")\n",
        "  print(\"Alzar un poco la cadera en diagonal\")\n",
        "def paso6():\n",
        "  print(\"poner las manos detras del cuello\")\n",
        "  print(\"medio agacharse y poner los brazos en horinzaontal un poco mas bajo\")\n",
        "def paso7():\n",
        "  print(\"apuntar hacia delante\")\n",
        "  print(\"dar un paso hacia atras\")\n",
        "  print(\"poner la mano izquierda en el menton y apoyar el codo en la mano derecha\")\n",
        "  print(\"poner la mano derecha abajo de la izquierda\")\n",
        "def paso8():\n",
        "  print(\"mover la cabeza de arriba hacia abajo\")\n",
        "def paso9():\n",
        "  print(\"unir la parte de atras de las manos y bajarlas\")\n",
        "  print(\"subir las manos \")\n",
        "def paso10():\n",
        "  print(\"ponerse de lado\")\n",
        "  print(\"poner la mano derecha hacia arriba y la izquierda hacia abajo\")\n",
        "def paso11():\n",
        "  print(\"mover las manos en circulos\")\n",
        "  print(\"poner las manos al frente y luego subir los brazos en circulos\")\n",
        "  print(\"acariciar la parte de atras de la cabeza\")\n",
        "def paso12():\n",
        "  print(\"medio agacharse y poner la mano derecha hacia el frente \")\n",
        "  print(\"levantarse y estirar la mano izquierda hacia el frente\")\n",
        "  print(\"y poner la mano derecha en la parte de arriba del codo del brazo izquierdo\")\n",
        "def paso13():\n",
        "  print(\"poner la mano izquierda el la cabeza\")\n",
        "  print(\"ponerse de frente y poner las manos a lso lados\")\n",
        "  print(\"poner la mano izquierda enciama de la cabeza y hacer forma de tiara\")\n",
        "  print(\"poner la mano derecha debajo de la izquierda\")\n",
        "def paso14():\n",
        "  print(\"subir los brazos\")\n",
        "  print(\"bajarlos hasta el pecho y poner izquierdo de lado y repetir ese paso en el brazo derecho\")\n",
        "def paso15():\n",
        "  print(\"mover el brazo derecho en circulos\")\n",
        "  print(\"ir poco a poco estirando el brazo izquierdo\")\n",
        "def paso16():\n",
        "  print(\"bajar los brazos completamente\")\n",
        "def paso17():\n",
        "  print(\"subir los brazos hasta el pecho\")\n",
        "def paso18():\n",
        "  print(\"subir completamente los brazos\")\n",
        "def paso19():\n",
        "  print(\"poner las manos al lado de la cabeza\")\n",
        "  print(\"acercar brazo derecho y alejar el brazo derecho\")\n",
        "  print(\"acercar el brazo izquierdo y alejar el derecho\")\n",
        "def paso20():\n",
        "  print(\"ponerse de lado y subir la mano izquierda hasta la cabeza y hacer un telefono con la mano\")\n",
        "  print(\"poner la mano izquierda en el oido dos veces\")\n",
        "def paso21():\n",
        "  print(\"poner las manos en el pecho\")\n",
        "  print(\"lanzar una patada al lado derecho\")\n",
        "def paso22():\n",
        "  print(\"bajar las manos\")\n",
        "  print(\"subir las manos hacia el pecho\")\n",
        "  print(\"subir las manos completamente\")\n",
        "  print(\"poner las manos al lado y bajarlas\")\n",
        "  print(\"por ultimo ponerse de espalda\")\n"
      ],
      "metadata": {
        "id": "AvS8OSPhqPls"
      },
      "execution_count": 2,
      "outputs": []
    }
  ]
}