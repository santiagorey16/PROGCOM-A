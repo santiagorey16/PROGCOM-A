{
  "nbformat": 4,
  "nbformat_minor": 0,
  "metadata": {
    "colab": {
      "provenance": [],
      "authorship_tag": "ABX9TyPRBIN9rNENGrvvf3pMkRCY",
      "include_colab_link": true
    },
    "kernelspec": {
      "name": "python3",
      "display_name": "Python 3"
    },
    "language_info": {
      "name": "python"
    }
  },
  "cells": [
    {
      "cell_type": "markdown",
      "metadata": {
        "id": "view-in-github",
        "colab_type": "text"
      },
      "source": [
        "<a href=\"https://colab.research.google.com/github/santiagorey16/PROGCOM-A/blob/main/Quest0_prueba_diagnostica.ipynb\" target=\"_parent\"><img src=\"https://colab.research.google.com/assets/colab-badge.svg\" alt=\"Open In Colab\"/></a>"
      ]
    },
    {
      "cell_type": "markdown",
      "source": [
        "#Prueba diagnortica\n"
      ],
      "metadata": {
        "id": "OoIqXzAWK6yO"
      }
    },
    {
      "cell_type": "markdown",
      "source": [
        "##Estructuras de selección\n",
        "Aqui se desarrollaran ejecercicios sobre estructuras de seleccion\n",
        "\n",
        "por pseint\n",
        "\n",
        "\n",
        "```\n",
        "si (condicion) entonces:\n",
        "  pasan cosas divertidas\n",
        "sino:\n",
        "  llorelo\n",
        "```\n",
        "Por algoritmo\n",
        "1. Solicito la variable y almeceno en a\n",
        "2. Comparo esa variable con otra llamada b\n"
      ],
      "metadata": {
        "id": "wIlkoRkXLcWF"
      }
    },
    {
      "cell_type": "markdown",
      "source": [],
      "metadata": {
        "id": "U619_drlVqrU"
      }
    },
    {
      "cell_type": "code",
      "execution_count": 13,
      "metadata": {
        "colab": {
          "base_uri": "https://localhost:8080/"
        },
        "id": "fHPwG4FNJB7e",
        "outputId": "f6a0e1f7-4a29-4767-edeb-54014bfbb586"
      },
      "outputs": [
        {
          "output_type": "stream",
          "name": "stdout",
          "text": [
            "ingresa un numero -1\n",
            "negativo\n"
          ]
        }
      ],
      "source": [
        "#1.\n",
        "numero = float(input(\"ingresa un numero \"))\n",
        "if numero >= 0:\n",
        "  print(\"es positivo\")\n",
        "else:\n",
        "  print(\"negativo\")"
      ]
    },
    {
      "cell_type": "code",
      "source": [
        "#2\n",
        "edad = float(input(\"ingresa tu edad porfa \"))\n",
        "if edad >= 18:\n",
        "  print(\"Eres mayor de edad\")\n",
        "else:\n",
        "  print(\"eres menor de edad\")"
      ],
      "metadata": {
        "colab": {
          "base_uri": "https://localhost:8080/"
        },
        "id": "st-LNJL3WUB0",
        "outputId": "b6469f2c-1313-4d26-ed76-75fae542f740"
      },
      "execution_count": 15,
      "outputs": [
        {
          "output_type": "stream",
          "name": "stdout",
          "text": [
            "ingresa tu edad porfa 17\n",
            "eres menor de edad\n"
          ]
        }
      ]
    },
    {
      "cell_type": "code",
      "source": [
        "#3\n",
        "n1 = float(input(\"ingresa el valor 1 \"))\n",
        "n2 = float(input(\"ingresa el valor 2 \"))\n",
        "if n1 > n2:\n",
        "  print(\"el mayor es \", n1)\n",
        "else:\n",
        "  print(\"el mayot es \", n2)"
      ],
      "metadata": {
        "colab": {
          "base_uri": "https://localhost:8080/"
        },
        "id": "aAVrywrPWrNd",
        "outputId": "2813f1c2-7a9b-4041-87fd-160d85b50165"
      },
      "execution_count": 18,
      "outputs": [
        {
          "output_type": "stream",
          "name": "stdout",
          "text": [
            "ingresa el valor 1 3\n",
            "ingresa el valor 2 1\n",
            "el mayor es  3.0\n"
          ]
        }
      ]
    },
    {
      "cell_type": "code",
      "source": [
        "#4\n",
        "cali = float(input(\"ingresa tu calificacion \"))\n",
        "if cali < 60:\n",
        "  print(\"reprobaste\")\n",
        "else:\n",
        "  print(\"aprobaste\")"
      ],
      "metadata": {
        "colab": {
          "base_uri": "https://localhost:8080/"
        },
        "id": "Ivlvr9glXO_F",
        "outputId": "7b3cafda-ea5d-4e87-8cce-eb70e01c6937"
      },
      "execution_count": 20,
      "outputs": [
        {
          "output_type": "stream",
          "name": "stdout",
          "text": [
            "ingresa tu calificacion 60\n",
            "aprobaste\n"
          ]
        }
      ]
    },
    {
      "cell_type": "code",
      "source": [
        "#5\n",
        "numero = float(input(\"ingresa un numero \"))\n",
        "resultado = numero/2\n",
        "if resultado % 2 == 0:\n",
        "  print(\"es par\")\n",
        "else:\n",
        "  print(\"es impar\")\n"
      ],
      "metadata": {
        "colab": {
          "base_uri": "https://localhost:8080/"
        },
        "id": "3IioH4xuXlTe",
        "outputId": "d6d4d6b4-8b7b-454b-d8a1-450086baddc1"
      },
      "execution_count": 30,
      "outputs": [
        {
          "output_type": "stream",
          "name": "stdout",
          "text": [
            "ingresa un numero 15\n",
            "es impar\n"
          ]
        }
      ]
    },
    {
      "cell_type": "code",
      "source": [
        "#6\n",
        "n1 = float(input(\"ingresa el primer numero \"))\n",
        "n2 = float(input(\"ingresa el segundo numero \"))\n",
        "n3 = float(input(\"ingresa el tercer numero \"))\n",
        "if n1 > n2 and n1 > n3:\n",
        "  print(\"el mayor es \", n1)\n",
        "elif n2 > n1 and n2 > n3:\n",
        "  print(\"el mayor es \", n2)\n",
        "else:\n",
        "  print(\"el mayor es \", n3)"
      ],
      "metadata": {
        "colab": {
          "base_uri": "https://localhost:8080/"
        },
        "id": "CPZYZzmOY_Y9",
        "outputId": "a8497705-b659-4b35-9bd2-7fbb5188cf40"
      },
      "execution_count": 33,
      "outputs": [
        {
          "output_type": "stream",
          "name": "stdout",
          "text": [
            "ingresa el primer numero3\n",
            "ingresa el segundo numero2\n",
            "ingresa el tercer numero1\n",
            "el mayor es  3.0\n"
          ]
        }
      ]
    },
    {
      "cell_type": "code",
      "source": [
        "#7\n",
        "año = float(input(\"ingresa un año\"))\n",
        "h = año/4\n",
        "b = año/100\n",
        "c = año/400\n",
        "if año % 4 == 0 and año % 400 == 0:\n",
        "  print(\"es un año bisiesto \")\n",
        "else:\n",
        "  print(\"no es bisiesto \")"
      ],
      "metadata": {
        "colab": {
          "base_uri": "https://localhost:8080/"
        },
        "id": "bgU75FECaJfV",
        "outputId": "74929ba2-7a25-4cef-e04a-2669e14f71d6"
      },
      "execution_count": 36,
      "outputs": [
        {
          "output_type": "stream",
          "name": "stdout",
          "text": [
            "ingresa un año2000\n",
            "es un año bisiesto \n"
          ]
        }
      ]
    },
    {
      "cell_type": "code",
      "source": [
        "#8\n",
        "a = str(input(\"ingresa tu contraseña \"))\n",
        "if :\n",
        "  print(\"bien\")"
      ],
      "metadata": {
        "colab": {
          "base_uri": "https://localhost:8080/",
          "height": 211
        },
        "id": "Fjf62EiEblfF",
        "outputId": "c81145a8-d892-4df8-a39a-db757deec4a5"
      },
      "execution_count": 37,
      "outputs": [
        {
          "name": "stdout",
          "output_type": "stream",
          "text": [
            "ingresa tu contraseñaholahola\n"
          ]
        },
        {
          "output_type": "error",
          "ename": "TypeError",
          "evalue": "'>' not supported between instances of 'str' and 'int'",
          "traceback": [
            "\u001b[0;31m---------------------------------------------------------------------------\u001b[0m",
            "\u001b[0;31mTypeError\u001b[0m                                 Traceback (most recent call last)",
            "\u001b[0;32m/tmp/ipython-input-3593918301.py\u001b[0m in \u001b[0;36m<cell line: 0>\u001b[0;34m()\u001b[0m\n\u001b[1;32m      1\u001b[0m \u001b[0;31m#8\u001b[0m\u001b[0;34m\u001b[0m\u001b[0;34m\u001b[0m\u001b[0m\n\u001b[1;32m      2\u001b[0m \u001b[0ma\u001b[0m \u001b[0;34m=\u001b[0m \u001b[0mstr\u001b[0m\u001b[0;34m(\u001b[0m\u001b[0minput\u001b[0m\u001b[0;34m(\u001b[0m\u001b[0;34m\"ingresa tu contraseña\"\u001b[0m\u001b[0;34m)\u001b[0m\u001b[0;34m)\u001b[0m\u001b[0;34m\u001b[0m\u001b[0;34m\u001b[0m\u001b[0m\n\u001b[0;32m----> 3\u001b[0;31m \u001b[0;32mif\u001b[0m \u001b[0ma\u001b[0m \u001b[0;34m>\u001b[0m \u001b[0;36m8\u001b[0m\u001b[0;34m:\u001b[0m\u001b[0;34m\u001b[0m\u001b[0;34m\u001b[0m\u001b[0m\n\u001b[0m\u001b[1;32m      4\u001b[0m   \u001b[0mprint\u001b[0m\u001b[0;34m(\u001b[0m\u001b[0;34m\"bien\"\u001b[0m\u001b[0;34m)\u001b[0m\u001b[0;34m\u001b[0m\u001b[0;34m\u001b[0m\u001b[0m\n",
            "\u001b[0;31mTypeError\u001b[0m: '>' not supported between instances of 'str' and 'int'"
          ]
        }
      ]
    }
  ]
}