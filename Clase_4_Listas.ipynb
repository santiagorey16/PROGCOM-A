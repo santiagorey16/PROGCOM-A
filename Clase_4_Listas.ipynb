{
  "nbformat": 4,
  "nbformat_minor": 0,
  "metadata": {
    "colab": {
      "provenance": [],
      "authorship_tag": "ABX9TyO/gIdP8fQorpF/w6jEFm5S",
      "include_colab_link": true
    },
    "kernelspec": {
      "name": "python3",
      "display_name": "Python 3"
    },
    "language_info": {
      "name": "python"
    }
  },
  "cells": [
    {
      "cell_type": "markdown",
      "metadata": {
        "id": "view-in-github",
        "colab_type": "text"
      },
      "source": [
        "<a href=\"https://colab.research.google.com/github/santiagorey16/PROGCOM-A/blob/main/Clase_4_Listas.ipynb\" target=\"_parent\"><img src=\"https://colab.research.google.com/assets/colab-badge.svg\" alt=\"Open In Colab\"/></a>"
      ]
    },
    {
      "cell_type": "markdown",
      "source": [
        "#Listas\n",
        "1. Conjunto de datos\n",
        "2. Es mutable\n",
        "3. Tienen indexación"
      ],
      "metadata": {
        "id": "xQ2HNI_dCkO3"
      }
    },
    {
      "cell_type": "code",
      "execution_count": null,
      "metadata": {
        "colab": {
          "base_uri": "https://localhost:8080/",
          "height": 35
        },
        "id": "BRAzZ87vCbzr",
        "outputId": "b6815342-267a-4863-e932-2f13784acb2a"
      },
      "outputs": [
        {
          "output_type": "execute_result",
          "data": {
            "text/plain": [
              "'maria'"
            ],
            "application/vnd.google.colaboratory.intrinsic+json": {
              "type": "string"
            }
          },
          "metadata": {},
          "execution_count": 6
        }
      ],
      "source": [
        "lista=[\"maria\",4,True,\"hola\"]\n",
        "lista[0]"
      ]
    },
    {
      "cell_type": "markdown",
      "source": [
        "4. Son ordenadas\n",
        "Forma generica\n",
        "\n",
        "```\n",
        "nombre_de_la_lista=[e1,e2,e3,e4...en]\n",
        "```\n"
      ],
      "metadata": {
        "id": "GrbLRQhKDIc3"
      }
    },
    {
      "cell_type": "code",
      "source": [
        "lista[5]"
      ],
      "metadata": {
        "colab": {
          "base_uri": "https://localhost:8080/",
          "height": 141
        },
        "id": "OvKrngp-DxNu",
        "outputId": "ee463cca-f5d9-43c9-f980-8389e117d864"
      },
      "execution_count": null,
      "outputs": [
        {
          "output_type": "error",
          "ename": "IndexError",
          "evalue": "list index out of range",
          "traceback": [
            "\u001b[0;31m---------------------------------------------------------------------------\u001b[0m",
            "\u001b[0;31mIndexError\u001b[0m                                Traceback (most recent call last)",
            "\u001b[0;32m/tmp/ipython-input-2920324198.py\u001b[0m in \u001b[0;36m<cell line: 0>\u001b[0;34m()\u001b[0m\n\u001b[0;32m----> 1\u001b[0;31m \u001b[0mlista\u001b[0m\u001b[0;34m[\u001b[0m\u001b[0;36m5\u001b[0m\u001b[0;34m]\u001b[0m\u001b[0;34m\u001b[0m\u001b[0;34m\u001b[0m\u001b[0m\n\u001b[0m",
            "\u001b[0;31mIndexError\u001b[0m: list index out of range"
          ]
        }
      ]
    },
    {
      "cell_type": "code",
      "source": [
        "#Obteniendo el último numero de la lista\n",
        "lista[len(lista)-1]"
      ],
      "metadata": {
        "colab": {
          "base_uri": "https://localhost:8080/",
          "height": 35
        },
        "id": "Pc-8DVepEBFu",
        "outputId": "6b05d730-4b7b-40d2-f7fb-9382b682a3c3"
      },
      "execution_count": null,
      "outputs": [
        {
          "output_type": "execute_result",
          "data": {
            "text/plain": [
              "'hola'"
            ],
            "application/vnd.google.colaboratory.intrinsic+json": {
              "type": "string"
            }
          },
          "metadata": {},
          "execution_count": 9
        }
      ]
    },
    {
      "cell_type": "code",
      "source": [
        "lista[-1]"
      ],
      "metadata": {
        "colab": {
          "base_uri": "https://localhost:8080/",
          "height": 35
        },
        "id": "KQKPYoMjEY8e",
        "outputId": "9838a9aa-3d24-459b-fc81-d3efbe8e7ce6"
      },
      "execution_count": null,
      "outputs": [
        {
          "output_type": "execute_result",
          "data": {
            "text/plain": [
              "'hola'"
            ],
            "application/vnd.google.colaboratory.intrinsic+json": {
              "type": "string"
            }
          },
          "metadata": {},
          "execution_count": 10
        }
      ]
    },
    {
      "cell_type": "code",
      "source": [
        "lista[:2]"
      ],
      "metadata": {
        "colab": {
          "base_uri": "https://localhost:8080/"
        },
        "id": "F70oGRrfEm0O",
        "outputId": "75864ded-b24c-4771-ea18-779aa572dd5b"
      },
      "execution_count": null,
      "outputs": [
        {
          "output_type": "execute_result",
          "data": {
            "text/plain": [
              "['maria', 4]"
            ]
          },
          "metadata": {},
          "execution_count": 14
        }
      ]
    },
    {
      "cell_type": "code",
      "source": [
        "lista[1:4]"
      ],
      "metadata": {
        "colab": {
          "base_uri": "https://localhost:8080/"
        },
        "id": "NfOOe-AYFztV",
        "outputId": "a32f8437-ac78-40f8-ff9c-1ba4e127c974"
      },
      "execution_count": null,
      "outputs": [
        {
          "output_type": "execute_result",
          "data": {
            "text/plain": [
              "[4, True, 'hola']"
            ]
          },
          "metadata": {},
          "execution_count": 17
        }
      ]
    },
    {
      "cell_type": "code",
      "source": [
        "for i in lista:\n",
        "  #Va a iterar 4 veces\n",
        "  #i va a tomar por vez el elemento de la lista\n",
        "  print(i)"
      ],
      "metadata": {
        "colab": {
          "base_uri": "https://localhost:8080/"
        },
        "id": "U9zh0VMbGJSM",
        "outputId": "14afe822-4c59-4b89-ddbc-b1e1faa7efac"
      },
      "execution_count": null,
      "outputs": [
        {
          "output_type": "stream",
          "name": "stdout",
          "text": [
            "maria\n",
            "4\n",
            "True\n",
            "hola\n"
          ]
        }
      ]
    },
    {
      "cell_type": "code",
      "source": [
        "#Lista por extensión:\n",
        "num=[1,2,3,4,5,6,7,8,9,10]\n",
        "#Lista por comprensión\n",
        "num2=list(range(1,11))\n",
        "print(num2)"
      ],
      "metadata": {
        "colab": {
          "base_uri": "https://localhost:8080/"
        },
        "id": "B0h7tjzlGyQ8",
        "outputId": "5d8de0dd-9620-4c61-d4e9-64f491b8ef52"
      },
      "execution_count": null,
      "outputs": [
        {
          "output_type": "stream",
          "name": "stdout",
          "text": [
            "[1, 2, 3, 4, 5, 6, 7, 8, 9, 10]\n"
          ]
        }
      ]
    },
    {
      "cell_type": "markdown",
      "source": [
        "##Listas por compresión\n",
        "Forma nueva de generar listas a partir de una expresión\n",
        "Sintaxis:\n",
        "\n",
        "```\n",
        "nombre_lista=[expresión for item in iterable if condición]\n",
        "```\n",
        "Donde:\n",
        "1. expresión: Es el valor que generará la nueva lista\n",
        "2. item: variable que representa cada elemento de la iteración\n",
        "3. iterable:Cuántos elementos va a tener la nueva lista\n",
        "4. Condición: es opcional y se emplea si los elementos deben cumplir algo\n"
      ],
      "metadata": {
        "id": "joz2SZbrHN0c"
      }
    },
    {
      "cell_type": "code",
      "source": [
        "#Convertir una lista de oraciones en una lista de palabras\n",
        "oraciones=[\"Aquí va una oración\",\"Aquí va otra oración\",\"Aquí va la tercera oración\"]\n",
        "palabras=[i.split() for i in oraciones]\n",
        "print(palabras)"
      ],
      "metadata": {
        "colab": {
          "base_uri": "https://localhost:8080/"
        },
        "id": "6mpD17TtIOAz",
        "outputId": "e0363776-bcea-4c1a-8d03-e4d4a93e12df"
      },
      "execution_count": null,
      "outputs": [
        {
          "output_type": "stream",
          "name": "stdout",
          "text": [
            "[['Aquí', 'va', 'una', 'oración'], ['Aquí', 'va', 'otra', 'oración'], ['Aquí', 'va', 'la', 'tercera', 'oración']]\n"
          ]
        }
      ]
    },
    {
      "cell_type": "code",
      "source": [
        "palabra=[palabras for oraciones in oraciones for palabra in oraciones.split()]\n",
        "print(palabra)"
      ],
      "metadata": {
        "colab": {
          "base_uri": "https://localhost:8080/"
        },
        "id": "qwRIrFRSJcmi",
        "outputId": "60071f91-7c1d-4e0f-8bae-59b2fb5ef592"
      },
      "execution_count": null,
      "outputs": [
        {
          "output_type": "stream",
          "name": "stdout",
          "text": [
            "[[['Aquí', 'va', 'una', 'oración'], ['Aquí', 'va', 'otra', 'oración'], ['Aquí', 'va', 'la', 'tercera', 'oración']], [['Aquí', 'va', 'una', 'oración'], ['Aquí', 'va', 'otra', 'oración'], ['Aquí', 'va', 'la', 'tercera', 'oración']], [['Aquí', 'va', 'una', 'oración'], ['Aquí', 'va', 'otra', 'oración'], ['Aquí', 'va', 'la', 'tercera', 'oración']], [['Aquí', 'va', 'una', 'oración'], ['Aquí', 'va', 'otra', 'oración'], ['Aquí', 'va', 'la', 'tercera', 'oración']], [['Aquí', 'va', 'una', 'oración'], ['Aquí', 'va', 'otra', 'oración'], ['Aquí', 'va', 'la', 'tercera', 'oración']], [['Aquí', 'va', 'una', 'oración'], ['Aquí', 'va', 'otra', 'oración'], ['Aquí', 'va', 'la', 'tercera', 'oración']], [['Aquí', 'va', 'una', 'oración'], ['Aquí', 'va', 'otra', 'oración'], ['Aquí', 'va', 'la', 'tercera', 'oración']], [['Aquí', 'va', 'una', 'oración'], ['Aquí', 'va', 'otra', 'oración'], ['Aquí', 'va', 'la', 'tercera', 'oración']], [['Aquí', 'va', 'una', 'oración'], ['Aquí', 'va', 'otra', 'oración'], ['Aquí', 'va', 'la', 'tercera', 'oración']], [['Aquí', 'va', 'una', 'oración'], ['Aquí', 'va', 'otra', 'oración'], ['Aquí', 'va', 'la', 'tercera', 'oración']], [['Aquí', 'va', 'una', 'oración'], ['Aquí', 'va', 'otra', 'oración'], ['Aquí', 'va', 'la', 'tercera', 'oración']], [['Aquí', 'va', 'una', 'oración'], ['Aquí', 'va', 'otra', 'oración'], ['Aquí', 'va', 'la', 'tercera', 'oración']], [['Aquí', 'va', 'una', 'oración'], ['Aquí', 'va', 'otra', 'oración'], ['Aquí', 'va', 'la', 'tercera', 'oración']]]\n"
          ]
        }
      ]
    },
    {
      "cell_type": "code",
      "source": [
        "#Lista con los pares de num2\n",
        "pares=[num for num in num2 if num%3==0]\n",
        "pares"
      ],
      "metadata": {
        "id": "5AUJvpJrJ5ga"
      },
      "execution_count": null,
      "outputs": []
    },
    {
      "cell_type": "code",
      "source": [
        "#Clasificar si un numero es positivo es positivo o negativo\n",
        "numeros=[1,4,6,-20,-2,-69,4]\n",
        "lista2=[(n,\"positivos\") if n>0 else (n,\"negativo\") for n in numeros]\n",
        "lista2"
      ],
      "metadata": {
        "colab": {
          "base_uri": "https://localhost:8080/"
        },
        "id": "-z038GA5K1zZ",
        "outputId": "c0988808-0d2e-4da5-e23b-574644fdacd6"
      },
      "execution_count": null,
      "outputs": [
        {
          "output_type": "execute_result",
          "data": {
            "text/plain": [
              "[(1, 'positivos'),\n",
              " (4, 'positivos'),\n",
              " (6, 'positivos'),\n",
              " (-20, 'negativo'),\n",
              " (-2, 'negativo'),\n",
              " (-69, 'negativo'),\n",
              " (4, 'positivos')]"
            ]
          },
          "metadata": {},
          "execution_count": 35
        }
      ]
    },
    {
      "cell_type": "code",
      "source": [
        "lista=[]\n",
        "for i in range(10):\n",
        "  e=float(input(\"Digita la temperatura \"))\n",
        "  lista.append(e)\n",
        "lista2=[(i,\"frio\") if i <= 25 else (i,\"templado\") if i <= 27 and i >= 25 else (i, \"caliente\") for i in lista]\n",
        "print(lista2)"
      ],
      "metadata": {
        "colab": {
          "base_uri": "https://localhost:8080/"
        },
        "id": "8qKlbYTWLrOp",
        "outputId": "50a2a0a3-aba9-4710-f7e7-03a3630877f3"
      },
      "execution_count": null,
      "outputs": [
        {
          "output_type": "stream",
          "name": "stdout",
          "text": [
            "Digita la temperatura 23\n",
            "Digita la temperatura 43\n",
            "Digita la temperatura 42\n",
            "Digita la temperatura 12\n",
            "Digita la temperatura 32\n",
            "Digita la temperatura 1\n",
            "Digita la temperatura -1\n",
            "Digita la temperatura 32\n",
            "Digita la temperatura 43\n",
            "Digita la temperatura 54\n",
            "[(23.0, 'frio'), (43.0, 'caliente'), (42.0, 'caliente'), (12.0, 'frio'), (32.0, 'caliente'), (1.0, 'frio'), (-1.0, 'frio'), (32.0, 'caliente'), (43.0, 'caliente'), (54.0, 'caliente')]\n"
          ]
        }
      ]
    },
    {
      "cell_type": "code",
      "source": [
        "#Quiero obtener la inical de nombres y ponerlo en mayuscula\n",
        "nombres=[\"camilo\",\"anderson\",\"joan\"]\n",
        "lista3=[x[0].upper() for x in nombres]\n",
        "lista3"
      ],
      "metadata": {
        "colab": {
          "base_uri": "https://localhost:8080/"
        },
        "id": "rEDB73OHQPFo",
        "outputId": "029f55d0-d325-496b-9edd-8dbebe04bc79"
      },
      "execution_count": null,
      "outputs": [
        {
          "output_type": "execute_result",
          "data": {
            "text/plain": [
              "['C', 'A', 'J']"
            ]
          },
          "metadata": {},
          "execution_count": 51
        }
      ]
    },
    {
      "cell_type": "markdown",
      "source": [
        "##1"
      ],
      "metadata": {
        "id": "p-nr1WzhO3gp"
      }
    },
    {
      "cell_type": "code",
      "source": [
        "for s in range(1,11,1):\n",
        "  print(f\"{s}^2 es: {s**2}\")\n"
      ],
      "metadata": {
        "colab": {
          "base_uri": "https://localhost:8080/"
        },
        "id": "nbvK6xU5O3S3",
        "outputId": "f986cc73-2d65-4013-98ea-8c92d4dd6a8a"
      },
      "execution_count": 66,
      "outputs": [
        {
          "output_type": "stream",
          "name": "stdout",
          "text": [
            "1^2 es: 1\n",
            "2^2 es: 4\n",
            "3^2 es: 9\n",
            "4^2 es: 16\n",
            "5^2 es: 25\n",
            "6^2 es: 36\n",
            "7^2 es: 49\n",
            "8^2 es: 64\n",
            "9^2 es: 81\n",
            "10^2 es: 100\n"
          ]
        }
      ]
    },
    {
      "cell_type": "markdown",
      "source": [
        "##2"
      ],
      "metadata": {
        "id": "wLZfV_7aQmjM"
      }
    },
    {
      "cell_type": "code",
      "source": [
        "hahi=[a for a in range(0,21) if a %2==0]\n",
        "print(hahi)"
      ],
      "metadata": {
        "colab": {
          "base_uri": "https://localhost:8080/"
        },
        "id": "ndFD0Fk_URVo",
        "outputId": "52b8465c-a48c-4001-82c3-655bea792d9f"
      },
      "execution_count": null,
      "outputs": [
        {
          "output_type": "stream",
          "name": "stdout",
          "text": [
            "[0, 2, 4, 6, 8, 10, 12, 14, 16, 18, 20]\n"
          ]
        }
      ]
    },
    {
      "cell_type": "markdown",
      "source": [
        "##3"
      ],
      "metadata": {
        "id": "SepQTQ5VXgaH"
      }
    },
    {
      "cell_type": "code",
      "source": [
        "kay=[]\n",
        "for am in range(1,6):\n",
        "  print(f\"{am} X 2={am*2}\")\n",
        "  b=am*2\n",
        "  kay.append(b)\n",
        "print(kay)"
      ],
      "metadata": {
        "colab": {
          "base_uri": "https://localhost:8080/"
        },
        "id": "l9ZJgxHWXjRM",
        "outputId": "85115e46-c870-4760-cddb-6bc8ee83ff31"
      },
      "execution_count": 32,
      "outputs": [
        {
          "output_type": "stream",
          "name": "stdout",
          "text": [
            "1 X 2=2\n",
            "2 X 2=4\n",
            "3 X 2=6\n",
            "4 X 2=8\n",
            "5 X 2=10\n",
            "[2, 4, 6, 8, 10]\n"
          ]
        }
      ]
    },
    {
      "cell_type": "markdown",
      "source": [
        "##4"
      ],
      "metadata": {
        "id": "Ex2XiTPDZ94r"
      }
    },
    {
      "cell_type": "code",
      "source": [
        "yu=(\"programacion\")\n",
        "voca = [ra for ra in yu if ra in \"aeiou\"]\n",
        "print(voca)"
      ],
      "metadata": {
        "colab": {
          "base_uri": "https://localhost:8080/"
        },
        "id": "TcS7A8WoZ_P2",
        "outputId": "e86f76f1-7abc-48d7-c470-81206a38fba5"
      },
      "execution_count": 42,
      "outputs": [
        {
          "output_type": "stream",
          "name": "stdout",
          "text": [
            "['o', 'a', 'a', 'i', 'o']\n"
          ]
        }
      ]
    },
    {
      "cell_type": "markdown",
      "source": [
        "##5"
      ],
      "metadata": {
        "id": "0u0lhciQcsjS"
      }
    },
    {
      "cell_type": "code",
      "source": [
        "uy=[\"python\",\"java\",\"c++\"]\n",
        "al=[ui.upper() for ui in uy]\n",
        "print(al)"
      ],
      "metadata": {
        "colab": {
          "base_uri": "https://localhost:8080/"
        },
        "id": "U6u066GVcu7X",
        "outputId": "2f3a5794-b7c3-4f40-9ac0-0ce6dcb3c4d9"
      },
      "execution_count": 47,
      "outputs": [
        {
          "output_type": "stream",
          "name": "stdout",
          "text": [
            "['PYTHON', 'JAVA', 'C++']\n"
          ]
        }
      ]
    },
    {
      "cell_type": "markdown",
      "source": [
        "##6"
      ],
      "metadata": {
        "id": "8ADjAzDreDru"
      }
    },
    {
      "cell_type": "code",
      "source": [
        "op=[]\n",
        "def ty():\n",
        "  ju=[oi for oi in range(1,11) if oi %2==0]\n",
        "  print(ju)\n",
        "def tu():\n",
        "  oh=[gj for gj in range(1,11) if gj %2!=0]\n",
        "  print(oh)\n",
        "u=input(\"Deseas conocer la lista del 1 al 10 en par o impar \")\n",
        "if u == \"par\" or u == \"PAR\":\n",
        "  ty()\n",
        "else:\n",
        "  tu()"
      ],
      "metadata": {
        "colab": {
          "base_uri": "https://localhost:8080/"
        },
        "id": "jIPStl20eFuN",
        "outputId": "81eba66e-3c25-4067-a454-e8b6a5c98601"
      },
      "execution_count": 64,
      "outputs": [
        {
          "output_type": "stream",
          "name": "stdout",
          "text": [
            "Deseas conocer la lista del 1 al 10 en par o impar impar\n",
            "[1, 3, 5, 7, 9]\n"
          ]
        }
      ]
    },
    {
      "cell_type": "markdown",
      "source": [
        "##7"
      ],
      "metadata": {
        "id": "n-gUdoKMiVzx"
      }
    },
    {
      "cell_type": "code",
      "source": [
        "g=[]\n",
        "for io in range(1,6):\n",
        "  t=(io,io**2)\n",
        "  g.append(t)\n",
        "print(g)"
      ],
      "metadata": {
        "colab": {
          "base_uri": "https://localhost:8080/"
        },
        "id": "ttRh23YEiVlD",
        "outputId": "e42daf46-e9f1-418b-b520-809792f18dd2"
      },
      "execution_count": 76,
      "outputs": [
        {
          "output_type": "stream",
          "name": "stdout",
          "text": [
            "[(1, 1), (2, 4), (3, 9), (4, 16), (5, 25)]\n"
          ]
        }
      ]
    },
    {
      "cell_type": "code",
      "source": [
        "po = [(rt, rt**2) for rt in range(1, 6)]\n",
        "print(po)"
      ],
      "metadata": {
        "colab": {
          "base_uri": "https://localhost:8080/"
        },
        "id": "j7fEBvtvlZjG",
        "outputId": "2beac8dd-f7e8-4714-b803-6a9070e85cd7"
      },
      "execution_count": 74,
      "outputs": [
        {
          "output_type": "stream",
          "name": "stdout",
          "text": [
            "[(1, 1), (2, 4), (3, 9), (4, 16), (5, 25)]\n"
          ]
        }
      ]
    },
    {
      "cell_type": "markdown",
      "source": [
        "##8"
      ],
      "metadata": {
        "id": "BeNoBaGulune"
      }
    },
    {
      "cell_type": "code",
      "source": [
        "l= [\"a\", \"b\", \"c\"]\n",
        "n= [1, 2, 3]\n",
        "tr=[(t,i) for t in l for i in n]\n",
        "print(tr)"
      ],
      "metadata": {
        "colab": {
          "base_uri": "https://localhost:8080/"
        },
        "id": "5idKnPDqlyx9",
        "outputId": "2a928cb5-e63d-44c8-dc6b-6ca6373d85c2"
      },
      "execution_count": 85,
      "outputs": [
        {
          "output_type": "stream",
          "name": "stdout",
          "text": [
            "[('a', 1), ('a', 2), ('a', 3), ('b', 1), ('b', 2), ('b', 3), ('c', 1), ('c', 2), ('c', 3)]\n"
          ]
        }
      ]
    },
    {
      "cell_type": "markdown",
      "source": [
        "##9"
      ],
      "metadata": {
        "id": "AuxKPbREoC0k"
      }
    },
    {
      "cell_type": "code",
      "source": [
        "o=[\"sol\",\"estrella\",\"mar\",\"planeta\"]\n",
        "acho=[r for r in o if len(r)>=4]\n",
        "print(acho)"
      ],
      "metadata": {
        "colab": {
          "base_uri": "https://localhost:8080/"
        },
        "id": "qD3q2jkPoDp8",
        "outputId": "da568b39-1dd5-4ef6-a91a-3b3f741dba71"
      },
      "execution_count": 89,
      "outputs": [
        {
          "output_type": "stream",
          "name": "stdout",
          "text": [
            "['estrella', 'planeta']\n"
          ]
        }
      ]
    },
    {
      "cell_type": "markdown",
      "source": [
        "##10"
      ],
      "metadata": {
        "id": "zY9XJJmFpQQq"
      }
    },
    {
      "cell_type": "code",
      "source": [
        "import random\n",
        "tem=[random.randint(10,35) for a in range(10)]\n",
        "cl=[f\"{t}°C --> frio\" if t < 18 else f\"{t}°C --> templado\" if t<=25 else f\"{t}°C --> calido\" for t in tem]\n",
        "print(\"\\n\".join(cl))"
      ],
      "metadata": {
        "colab": {
          "base_uri": "https://localhost:8080/"
        },
        "id": "1RWO6aBlpPv0",
        "outputId": "2649a84a-2615-48e7-d922-11bfc6c1621f"
      },
      "execution_count": 92,
      "outputs": [
        {
          "output_type": "stream",
          "name": "stdout",
          "text": [
            "33°C --> calido\n",
            "26°C --> calido\n",
            "28°C --> calido\n",
            "22°C --> templado\n",
            "32°C --> calido\n",
            "12°C --> frio\n",
            "25°C --> templado\n",
            "33°C --> calido\n",
            "35°C --> calido\n",
            "32°C --> calido\n"
          ]
        }
      ]
    }
  ]
}