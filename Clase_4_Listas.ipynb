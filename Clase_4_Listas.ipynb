{
  "nbformat": 4,
  "nbformat_minor": 0,
  "metadata": {
    "colab": {
      "provenance": [],
      "authorship_tag": "ABX9TyOG1aimmv+vHdwcsiY0jvHD",
      "include_colab_link": true
    },
    "kernelspec": {
      "name": "python3",
      "display_name": "Python 3"
    },
    "language_info": {
      "name": "python"
    }
  },
  "cells": [
    {
      "cell_type": "markdown",
      "metadata": {
        "id": "view-in-github",
        "colab_type": "text"
      },
      "source": [
        "<a href=\"https://colab.research.google.com/github/santiagorey16/PROGCOM-A/blob/main/Clase_4_Listas.ipynb\" target=\"_parent\"><img src=\"https://colab.research.google.com/assets/colab-badge.svg\" alt=\"Open In Colab\"/></a>"
      ]
    },
    {
      "cell_type": "markdown",
      "source": [
        "#Listas\n",
        "1. Conjunto de datos\n",
        "2. Es mutable\n",
        "3. Tienen indexación"
      ],
      "metadata": {
        "id": "xQ2HNI_dCkO3"
      }
    },
    {
      "cell_type": "code",
      "execution_count": 6,
      "metadata": {
        "colab": {
          "base_uri": "https://localhost:8080/",
          "height": 35
        },
        "id": "BRAzZ87vCbzr",
        "outputId": "b6815342-267a-4863-e932-2f13784acb2a"
      },
      "outputs": [
        {
          "output_type": "execute_result",
          "data": {
            "text/plain": [
              "'maria'"
            ],
            "application/vnd.google.colaboratory.intrinsic+json": {
              "type": "string"
            }
          },
          "metadata": {},
          "execution_count": 6
        }
      ],
      "source": [
        "lista=[\"maria\",4,True,\"hola\"]\n",
        "lista[0]"
      ]
    },
    {
      "cell_type": "markdown",
      "source": [
        "4. Son ordenadas\n",
        "Forma generica\n",
        "\n",
        "```\n",
        "nombre_de_la_lista=[e1,e2,e3,e4...en]\n",
        "```\n"
      ],
      "metadata": {
        "id": "GrbLRQhKDIc3"
      }
    },
    {
      "cell_type": "code",
      "source": [
        "lista[5]"
      ],
      "metadata": {
        "colab": {
          "base_uri": "https://localhost:8080/",
          "height": 141
        },
        "id": "OvKrngp-DxNu",
        "outputId": "ee463cca-f5d9-43c9-f980-8389e117d864"
      },
      "execution_count": 7,
      "outputs": [
        {
          "output_type": "error",
          "ename": "IndexError",
          "evalue": "list index out of range",
          "traceback": [
            "\u001b[0;31m---------------------------------------------------------------------------\u001b[0m",
            "\u001b[0;31mIndexError\u001b[0m                                Traceback (most recent call last)",
            "\u001b[0;32m/tmp/ipython-input-2920324198.py\u001b[0m in \u001b[0;36m<cell line: 0>\u001b[0;34m()\u001b[0m\n\u001b[0;32m----> 1\u001b[0;31m \u001b[0mlista\u001b[0m\u001b[0;34m[\u001b[0m\u001b[0;36m5\u001b[0m\u001b[0;34m]\u001b[0m\u001b[0;34m\u001b[0m\u001b[0;34m\u001b[0m\u001b[0m\n\u001b[0m",
            "\u001b[0;31mIndexError\u001b[0m: list index out of range"
          ]
        }
      ]
    },
    {
      "cell_type": "code",
      "source": [
        "#Obteniendo el último numero de la lista\n",
        "lista[len(lista)-1]"
      ],
      "metadata": {
        "colab": {
          "base_uri": "https://localhost:8080/",
          "height": 35
        },
        "id": "Pc-8DVepEBFu",
        "outputId": "6b05d730-4b7b-40d2-f7fb-9382b682a3c3"
      },
      "execution_count": 9,
      "outputs": [
        {
          "output_type": "execute_result",
          "data": {
            "text/plain": [
              "'hola'"
            ],
            "application/vnd.google.colaboratory.intrinsic+json": {
              "type": "string"
            }
          },
          "metadata": {},
          "execution_count": 9
        }
      ]
    },
    {
      "cell_type": "code",
      "source": [
        "lista[-1]"
      ],
      "metadata": {
        "colab": {
          "base_uri": "https://localhost:8080/",
          "height": 35
        },
        "id": "KQKPYoMjEY8e",
        "outputId": "9838a9aa-3d24-459b-fc81-d3efbe8e7ce6"
      },
      "execution_count": 10,
      "outputs": [
        {
          "output_type": "execute_result",
          "data": {
            "text/plain": [
              "'hola'"
            ],
            "application/vnd.google.colaboratory.intrinsic+json": {
              "type": "string"
            }
          },
          "metadata": {},
          "execution_count": 10
        }
      ]
    },
    {
      "cell_type": "code",
      "source": [
        "lista[:2]"
      ],
      "metadata": {
        "colab": {
          "base_uri": "https://localhost:8080/"
        },
        "id": "F70oGRrfEm0O",
        "outputId": "75864ded-b24c-4771-ea18-779aa572dd5b"
      },
      "execution_count": 14,
      "outputs": [
        {
          "output_type": "execute_result",
          "data": {
            "text/plain": [
              "['maria', 4]"
            ]
          },
          "metadata": {},
          "execution_count": 14
        }
      ]
    },
    {
      "cell_type": "code",
      "source": [
        "lista[1:4]"
      ],
      "metadata": {
        "colab": {
          "base_uri": "https://localhost:8080/"
        },
        "id": "NfOOe-AYFztV",
        "outputId": "a32f8437-ac78-40f8-ff9c-1ba4e127c974"
      },
      "execution_count": 17,
      "outputs": [
        {
          "output_type": "execute_result",
          "data": {
            "text/plain": [
              "[4, True, 'hola']"
            ]
          },
          "metadata": {},
          "execution_count": 17
        }
      ]
    },
    {
      "cell_type": "code",
      "source": [
        "for i in lista:\n",
        "  #Va a iterar 4 veces\n",
        "  #i va a tomar por vez el elemento de la lista\n",
        "  print(i)"
      ],
      "metadata": {
        "colab": {
          "base_uri": "https://localhost:8080/"
        },
        "id": "U9zh0VMbGJSM",
        "outputId": "14afe822-4c59-4b89-ddbc-b1e1faa7efac"
      },
      "execution_count": 18,
      "outputs": [
        {
          "output_type": "stream",
          "name": "stdout",
          "text": [
            "maria\n",
            "4\n",
            "True\n",
            "hola\n"
          ]
        }
      ]
    },
    {
      "cell_type": "code",
      "source": [
        "#Lista por extensión:\n",
        "num=[1,2,3,4,5,6,7,8,9,10]\n",
        "#Lista por comprensión\n",
        "num2=list(range(1,11))\n",
        "print(num2)"
      ],
      "metadata": {
        "colab": {
          "base_uri": "https://localhost:8080/"
        },
        "id": "B0h7tjzlGyQ8",
        "outputId": "5d8de0dd-9620-4c61-d4e9-64f491b8ef52"
      },
      "execution_count": 19,
      "outputs": [
        {
          "output_type": "stream",
          "name": "stdout",
          "text": [
            "[1, 2, 3, 4, 5, 6, 7, 8, 9, 10]\n"
          ]
        }
      ]
    },
    {
      "cell_type": "markdown",
      "source": [
        "##Listas por compresión\n",
        "Forma nueva de generar listas a partir de una expresión\n",
        "Sintaxis:\n",
        "\n",
        "```\n",
        "nombre_lista=[expresión for item in iterable if condición]\n",
        "```\n",
        "Donde:\n",
        "1. expresión: Es el valor que generará la nueva lista\n",
        "2. item: variable que representa cada elemento de la iteración\n",
        "3. iterable:Cuántos elementos va a tener la nueva lista\n",
        "4. Condición: es opcional y se emplea si los elementos deben cumplir algo\n"
      ],
      "metadata": {
        "id": "joz2SZbrHN0c"
      }
    },
    {
      "cell_type": "code",
      "source": [
        "#Convertir una lista de oraciones en una lista de palabras\n",
        "oraciones=[\"Aquí va una oración\",\"Aquí va otra oración\",\"Aquí va la tercera oración\"]\n",
        "palabras=[i.split() for i in oraciones]\n",
        "print(palabras)"
      ],
      "metadata": {
        "colab": {
          "base_uri": "https://localhost:8080/"
        },
        "id": "6mpD17TtIOAz",
        "outputId": "e0363776-bcea-4c1a-8d03-e4d4a93e12df"
      },
      "execution_count": 22,
      "outputs": [
        {
          "output_type": "stream",
          "name": "stdout",
          "text": [
            "[['Aquí', 'va', 'una', 'oración'], ['Aquí', 'va', 'otra', 'oración'], ['Aquí', 'va', 'la', 'tercera', 'oración']]\n"
          ]
        }
      ]
    },
    {
      "cell_type": "code",
      "source": [
        "palabra=[palabras for oraciones in oraciones for palabra in oraciones.split()]\n",
        "print(palabra)"
      ],
      "metadata": {
        "colab": {
          "base_uri": "https://localhost:8080/"
        },
        "id": "qwRIrFRSJcmi",
        "outputId": "60071f91-7c1d-4e0f-8bae-59b2fb5ef592"
      },
      "execution_count": 33,
      "outputs": [
        {
          "output_type": "stream",
          "name": "stdout",
          "text": [
            "[[['Aquí', 'va', 'una', 'oración'], ['Aquí', 'va', 'otra', 'oración'], ['Aquí', 'va', 'la', 'tercera', 'oración']], [['Aquí', 'va', 'una', 'oración'], ['Aquí', 'va', 'otra', 'oración'], ['Aquí', 'va', 'la', 'tercera', 'oración']], [['Aquí', 'va', 'una', 'oración'], ['Aquí', 'va', 'otra', 'oración'], ['Aquí', 'va', 'la', 'tercera', 'oración']], [['Aquí', 'va', 'una', 'oración'], ['Aquí', 'va', 'otra', 'oración'], ['Aquí', 'va', 'la', 'tercera', 'oración']], [['Aquí', 'va', 'una', 'oración'], ['Aquí', 'va', 'otra', 'oración'], ['Aquí', 'va', 'la', 'tercera', 'oración']], [['Aquí', 'va', 'una', 'oración'], ['Aquí', 'va', 'otra', 'oración'], ['Aquí', 'va', 'la', 'tercera', 'oración']], [['Aquí', 'va', 'una', 'oración'], ['Aquí', 'va', 'otra', 'oración'], ['Aquí', 'va', 'la', 'tercera', 'oración']], [['Aquí', 'va', 'una', 'oración'], ['Aquí', 'va', 'otra', 'oración'], ['Aquí', 'va', 'la', 'tercera', 'oración']], [['Aquí', 'va', 'una', 'oración'], ['Aquí', 'va', 'otra', 'oración'], ['Aquí', 'va', 'la', 'tercera', 'oración']], [['Aquí', 'va', 'una', 'oración'], ['Aquí', 'va', 'otra', 'oración'], ['Aquí', 'va', 'la', 'tercera', 'oración']], [['Aquí', 'va', 'una', 'oración'], ['Aquí', 'va', 'otra', 'oración'], ['Aquí', 'va', 'la', 'tercera', 'oración']], [['Aquí', 'va', 'una', 'oración'], ['Aquí', 'va', 'otra', 'oración'], ['Aquí', 'va', 'la', 'tercera', 'oración']], [['Aquí', 'va', 'una', 'oración'], ['Aquí', 'va', 'otra', 'oración'], ['Aquí', 'va', 'la', 'tercera', 'oración']]]\n"
          ]
        }
      ]
    },
    {
      "cell_type": "code",
      "source": [
        "#Lista con los pares de num2\n",
        "pares=[num for num in num2 if num%3==0]\n",
        "pares"
      ],
      "metadata": {
        "colab": {
          "base_uri": "https://localhost:8080/"
        },
        "id": "5AUJvpJrJ5ga",
        "outputId": "5551cc15-7f8b-4c32-c641-97ad3eb64054"
      },
      "execution_count": 34,
      "outputs": [
        {
          "output_type": "execute_result",
          "data": {
            "text/plain": [
              "[3, 6, 9]"
            ]
          },
          "metadata": {},
          "execution_count": 34
        }
      ]
    },
    {
      "cell_type": "code",
      "source": [
        "#Clasificar si un numero es positivo es positivo o negativo\n",
        "numeros=[1,4,6,-20,-2,-69,4]\n",
        "lista2=[(n,\"positivos\") if n>0 else (n,\"negativo\") for n in numeros]\n",
        "lista2"
      ],
      "metadata": {
        "colab": {
          "base_uri": "https://localhost:8080/"
        },
        "id": "-z038GA5K1zZ",
        "outputId": "c0988808-0d2e-4da5-e23b-574644fdacd6"
      },
      "execution_count": 35,
      "outputs": [
        {
          "output_type": "execute_result",
          "data": {
            "text/plain": [
              "[(1, 'positivos'),\n",
              " (4, 'positivos'),\n",
              " (6, 'positivos'),\n",
              " (-20, 'negativo'),\n",
              " (-2, 'negativo'),\n",
              " (-69, 'negativo'),\n",
              " (4, 'positivos')]"
            ]
          },
          "metadata": {},
          "execution_count": 35
        }
      ]
    },
    {
      "cell_type": "code",
      "source": [
        "lista=[]\n",
        "for i in range(10):\n",
        "  e=float(input(\"Digita la temperatura \"))\n",
        "  lista.append(e)\n",
        "lista2=[(i,\"frio\") if i <= 25 else (i,\"templado\") if i <= 27 and i >= 25 else (i, \"caliente\") for i in lista]\n",
        "print(lista2)"
      ],
      "metadata": {
        "colab": {
          "base_uri": "https://localhost:8080/"
        },
        "id": "8qKlbYTWLrOp",
        "outputId": "50a2a0a3-aba9-4710-f7e7-03a3630877f3"
      },
      "execution_count": 48,
      "outputs": [
        {
          "output_type": "stream",
          "name": "stdout",
          "text": [
            "Digita la temperatura 23\n",
            "Digita la temperatura 43\n",
            "Digita la temperatura 42\n",
            "Digita la temperatura 12\n",
            "Digita la temperatura 32\n",
            "Digita la temperatura 1\n",
            "Digita la temperatura -1\n",
            "Digita la temperatura 32\n",
            "Digita la temperatura 43\n",
            "Digita la temperatura 54\n",
            "[(23.0, 'frio'), (43.0, 'caliente'), (42.0, 'caliente'), (12.0, 'frio'), (32.0, 'caliente'), (1.0, 'frio'), (-1.0, 'frio'), (32.0, 'caliente'), (43.0, 'caliente'), (54.0, 'caliente')]\n"
          ]
        }
      ]
    },
    {
      "cell_type": "code",
      "source": [
        "#Quiero obtener la inical de nombres y ponerlo en mayuscula\n",
        "nombres=[\"camilo\",\"anderson\",\"joan\"]\n",
        "lista3=[x[0].upper() for x in nombres]\n",
        "lista3"
      ],
      "metadata": {
        "colab": {
          "base_uri": "https://localhost:8080/"
        },
        "id": "rEDB73OHQPFo",
        "outputId": "029f55d0-d325-496b-9edd-8dbebe04bc79"
      },
      "execution_count": 51,
      "outputs": [
        {
          "output_type": "execute_result",
          "data": {
            "text/plain": [
              "['C', 'A', 'J']"
            ]
          },
          "metadata": {},
          "execution_count": 51
        }
      ]
    }
  ]
}